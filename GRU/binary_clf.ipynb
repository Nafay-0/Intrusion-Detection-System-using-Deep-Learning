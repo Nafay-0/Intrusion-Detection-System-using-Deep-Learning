{
 "cells": [
  {
   "cell_type": "code",
   "execution_count": 1,
   "id": "initial_id",
   "metadata": {
    "collapsed": true,
    "ExecuteTime": {
     "end_time": "2023-12-02T17:28:42.438751500Z",
     "start_time": "2023-12-02T17:28:36.206561100Z"
    }
   },
   "outputs": [
    {
     "name": "stdout",
     "output_type": "stream",
     "text": [
      "WARNING:tensorflow:From c:\\users\\user\\appdata\\local\\programs\\python\\python39\\lib\\site-packages\\keras\\src\\losses.py:2976: The name tf.losses.sparse_softmax_cross_entropy is deprecated. Please use tf.compat.v1.losses.sparse_softmax_cross_entropy instead.\n"
     ]
    }
   ],
   "source": [
    "from sklearn.model_selection import train_test_split\n",
    "from sklearn.preprocessing import StandardScaler, OneHotEncoder\n",
    "from sklearn.compose import ColumnTransformer\n",
    "from sklearn.pipeline import Pipeline\n",
    "from keras.models import Sequential\n",
    "from keras.layers import SimpleRNN, Dense\n",
    "from keras.layers import Dropout, BatchNormalization\n",
    "import numpy as np\n",
    "import matplotlib.pyplot as plt\n",
    "import pandas as pd\n",
    "import tensorflow as tf\n",
    "import seaborn as sns"
   ]
  },
  {
   "cell_type": "code",
   "execution_count": 2,
   "outputs": [],
   "source": [
    "train_df = pd.read_csv(\"../Data/UNSW_NB15_testing-set.csv\")\n",
    "test_df = pd.read_csv(\"../Data/UNSW_NB15_training-set.csv\")"
   ],
   "metadata": {
    "collapsed": false,
    "ExecuteTime": {
     "end_time": "2023-12-02T17:28:43.571798800Z",
     "start_time": "2023-12-02T17:28:42.438751500Z"
    }
   },
   "id": "bef487ddb23d9f60"
  },
  {
   "cell_type": "code",
   "execution_count": 3,
   "outputs": [
    {
     "data": {
      "text/plain": "   id       dur proto service state  spkts  dpkts  sbytes  dbytes       rate  \\\n0   1  0.121478   tcp       -   FIN      6      4     258     172  74.087490   \n1   2  0.649902   tcp       -   FIN     14     38     734   42014  78.473372   \n2   3  1.623129   tcp       -   FIN      8     16     364   13186  14.170161   \n3   4  1.681642   tcp     ftp   FIN     12     12     628     770  13.677108   \n4   5  0.449454   tcp       -   FIN     10      6     534     268  33.373826   \n\n   ...  ct_dst_sport_ltm  ct_dst_src_ltm  is_ftp_login  ct_ftp_cmd  \\\n0  ...                 1               1             0           0   \n1  ...                 1               2             0           0   \n2  ...                 1               3             0           0   \n3  ...                 1               3             1           1   \n4  ...                 1              40             0           0   \n\n   ct_flw_http_mthd  ct_src_ltm  ct_srv_dst  is_sm_ips_ports  attack_cat  \\\n0                 0           1           1                0      Normal   \n1                 0           1           6                0      Normal   \n2                 0           2           6                0      Normal   \n3                 0           2           1                0      Normal   \n4                 0           2          39                0      Normal   \n\n   label  \n0      0  \n1      0  \n2      0  \n3      0  \n4      0  \n\n[5 rows x 45 columns]",
      "text/html": "<div>\n<style scoped>\n    .dataframe tbody tr th:only-of-type {\n        vertical-align: middle;\n    }\n\n    .dataframe tbody tr th {\n        vertical-align: top;\n    }\n\n    .dataframe thead th {\n        text-align: right;\n    }\n</style>\n<table border=\"1\" class=\"dataframe\">\n  <thead>\n    <tr style=\"text-align: right;\">\n      <th></th>\n      <th>id</th>\n      <th>dur</th>\n      <th>proto</th>\n      <th>service</th>\n      <th>state</th>\n      <th>spkts</th>\n      <th>dpkts</th>\n      <th>sbytes</th>\n      <th>dbytes</th>\n      <th>rate</th>\n      <th>...</th>\n      <th>ct_dst_sport_ltm</th>\n      <th>ct_dst_src_ltm</th>\n      <th>is_ftp_login</th>\n      <th>ct_ftp_cmd</th>\n      <th>ct_flw_http_mthd</th>\n      <th>ct_src_ltm</th>\n      <th>ct_srv_dst</th>\n      <th>is_sm_ips_ports</th>\n      <th>attack_cat</th>\n      <th>label</th>\n    </tr>\n  </thead>\n  <tbody>\n    <tr>\n      <th>0</th>\n      <td>1</td>\n      <td>0.121478</td>\n      <td>tcp</td>\n      <td>-</td>\n      <td>FIN</td>\n      <td>6</td>\n      <td>4</td>\n      <td>258</td>\n      <td>172</td>\n      <td>74.087490</td>\n      <td>...</td>\n      <td>1</td>\n      <td>1</td>\n      <td>0</td>\n      <td>0</td>\n      <td>0</td>\n      <td>1</td>\n      <td>1</td>\n      <td>0</td>\n      <td>Normal</td>\n      <td>0</td>\n    </tr>\n    <tr>\n      <th>1</th>\n      <td>2</td>\n      <td>0.649902</td>\n      <td>tcp</td>\n      <td>-</td>\n      <td>FIN</td>\n      <td>14</td>\n      <td>38</td>\n      <td>734</td>\n      <td>42014</td>\n      <td>78.473372</td>\n      <td>...</td>\n      <td>1</td>\n      <td>2</td>\n      <td>0</td>\n      <td>0</td>\n      <td>0</td>\n      <td>1</td>\n      <td>6</td>\n      <td>0</td>\n      <td>Normal</td>\n      <td>0</td>\n    </tr>\n    <tr>\n      <th>2</th>\n      <td>3</td>\n      <td>1.623129</td>\n      <td>tcp</td>\n      <td>-</td>\n      <td>FIN</td>\n      <td>8</td>\n      <td>16</td>\n      <td>364</td>\n      <td>13186</td>\n      <td>14.170161</td>\n      <td>...</td>\n      <td>1</td>\n      <td>3</td>\n      <td>0</td>\n      <td>0</td>\n      <td>0</td>\n      <td>2</td>\n      <td>6</td>\n      <td>0</td>\n      <td>Normal</td>\n      <td>0</td>\n    </tr>\n    <tr>\n      <th>3</th>\n      <td>4</td>\n      <td>1.681642</td>\n      <td>tcp</td>\n      <td>ftp</td>\n      <td>FIN</td>\n      <td>12</td>\n      <td>12</td>\n      <td>628</td>\n      <td>770</td>\n      <td>13.677108</td>\n      <td>...</td>\n      <td>1</td>\n      <td>3</td>\n      <td>1</td>\n      <td>1</td>\n      <td>0</td>\n      <td>2</td>\n      <td>1</td>\n      <td>0</td>\n      <td>Normal</td>\n      <td>0</td>\n    </tr>\n    <tr>\n      <th>4</th>\n      <td>5</td>\n      <td>0.449454</td>\n      <td>tcp</td>\n      <td>-</td>\n      <td>FIN</td>\n      <td>10</td>\n      <td>6</td>\n      <td>534</td>\n      <td>268</td>\n      <td>33.373826</td>\n      <td>...</td>\n      <td>1</td>\n      <td>40</td>\n      <td>0</td>\n      <td>0</td>\n      <td>0</td>\n      <td>2</td>\n      <td>39</td>\n      <td>0</td>\n      <td>Normal</td>\n      <td>0</td>\n    </tr>\n  </tbody>\n</table>\n<p>5 rows × 45 columns</p>\n</div>"
     },
     "execution_count": 3,
     "metadata": {},
     "output_type": "execute_result"
    }
   ],
   "source": [
    "train_df.head()"
   ],
   "metadata": {
    "collapsed": false,
    "ExecuteTime": {
     "end_time": "2023-12-02T17:28:43.603041400Z",
     "start_time": "2023-12-02T17:28:43.571798800Z"
    }
   },
   "id": "b139e9f003246736"
  },
  {
   "cell_type": "code",
   "execution_count": 4,
   "outputs": [
    {
     "data": {
      "text/plain": "   id       dur proto service state  spkts  dpkts  sbytes  dbytes  \\\n0   1  0.000011   udp       -   INT      2      0     496       0   \n1   2  0.000008   udp       -   INT      2      0    1762       0   \n2   3  0.000005   udp       -   INT      2      0    1068       0   \n3   4  0.000006   udp       -   INT      2      0     900       0   \n4   5  0.000010   udp       -   INT      2      0    2126       0   \n\n          rate  ...  ct_dst_sport_ltm  ct_dst_src_ltm  is_ftp_login  \\\n0   90909.0902  ...                 1               2             0   \n1  125000.0003  ...                 1               2             0   \n2  200000.0051  ...                 1               3             0   \n3  166666.6608  ...                 1               3             0   \n4  100000.0025  ...                 1               3             0   \n\n   ct_ftp_cmd  ct_flw_http_mthd  ct_src_ltm  ct_srv_dst  is_sm_ips_ports  \\\n0           0                 0           1           2                0   \n1           0                 0           1           2                0   \n2           0                 0           1           3                0   \n3           0                 0           2           3                0   \n4           0                 0           2           3                0   \n\n   attack_cat  label  \n0      Normal      0  \n1      Normal      0  \n2      Normal      0  \n3      Normal      0  \n4      Normal      0  \n\n[5 rows x 45 columns]",
      "text/html": "<div>\n<style scoped>\n    .dataframe tbody tr th:only-of-type {\n        vertical-align: middle;\n    }\n\n    .dataframe tbody tr th {\n        vertical-align: top;\n    }\n\n    .dataframe thead th {\n        text-align: right;\n    }\n</style>\n<table border=\"1\" class=\"dataframe\">\n  <thead>\n    <tr style=\"text-align: right;\">\n      <th></th>\n      <th>id</th>\n      <th>dur</th>\n      <th>proto</th>\n      <th>service</th>\n      <th>state</th>\n      <th>spkts</th>\n      <th>dpkts</th>\n      <th>sbytes</th>\n      <th>dbytes</th>\n      <th>rate</th>\n      <th>...</th>\n      <th>ct_dst_sport_ltm</th>\n      <th>ct_dst_src_ltm</th>\n      <th>is_ftp_login</th>\n      <th>ct_ftp_cmd</th>\n      <th>ct_flw_http_mthd</th>\n      <th>ct_src_ltm</th>\n      <th>ct_srv_dst</th>\n      <th>is_sm_ips_ports</th>\n      <th>attack_cat</th>\n      <th>label</th>\n    </tr>\n  </thead>\n  <tbody>\n    <tr>\n      <th>0</th>\n      <td>1</td>\n      <td>0.000011</td>\n      <td>udp</td>\n      <td>-</td>\n      <td>INT</td>\n      <td>2</td>\n      <td>0</td>\n      <td>496</td>\n      <td>0</td>\n      <td>90909.0902</td>\n      <td>...</td>\n      <td>1</td>\n      <td>2</td>\n      <td>0</td>\n      <td>0</td>\n      <td>0</td>\n      <td>1</td>\n      <td>2</td>\n      <td>0</td>\n      <td>Normal</td>\n      <td>0</td>\n    </tr>\n    <tr>\n      <th>1</th>\n      <td>2</td>\n      <td>0.000008</td>\n      <td>udp</td>\n      <td>-</td>\n      <td>INT</td>\n      <td>2</td>\n      <td>0</td>\n      <td>1762</td>\n      <td>0</td>\n      <td>125000.0003</td>\n      <td>...</td>\n      <td>1</td>\n      <td>2</td>\n      <td>0</td>\n      <td>0</td>\n      <td>0</td>\n      <td>1</td>\n      <td>2</td>\n      <td>0</td>\n      <td>Normal</td>\n      <td>0</td>\n    </tr>\n    <tr>\n      <th>2</th>\n      <td>3</td>\n      <td>0.000005</td>\n      <td>udp</td>\n      <td>-</td>\n      <td>INT</td>\n      <td>2</td>\n      <td>0</td>\n      <td>1068</td>\n      <td>0</td>\n      <td>200000.0051</td>\n      <td>...</td>\n      <td>1</td>\n      <td>3</td>\n      <td>0</td>\n      <td>0</td>\n      <td>0</td>\n      <td>1</td>\n      <td>3</td>\n      <td>0</td>\n      <td>Normal</td>\n      <td>0</td>\n    </tr>\n    <tr>\n      <th>3</th>\n      <td>4</td>\n      <td>0.000006</td>\n      <td>udp</td>\n      <td>-</td>\n      <td>INT</td>\n      <td>2</td>\n      <td>0</td>\n      <td>900</td>\n      <td>0</td>\n      <td>166666.6608</td>\n      <td>...</td>\n      <td>1</td>\n      <td>3</td>\n      <td>0</td>\n      <td>0</td>\n      <td>0</td>\n      <td>2</td>\n      <td>3</td>\n      <td>0</td>\n      <td>Normal</td>\n      <td>0</td>\n    </tr>\n    <tr>\n      <th>4</th>\n      <td>5</td>\n      <td>0.000010</td>\n      <td>udp</td>\n      <td>-</td>\n      <td>INT</td>\n      <td>2</td>\n      <td>0</td>\n      <td>2126</td>\n      <td>0</td>\n      <td>100000.0025</td>\n      <td>...</td>\n      <td>1</td>\n      <td>3</td>\n      <td>0</td>\n      <td>0</td>\n      <td>0</td>\n      <td>2</td>\n      <td>3</td>\n      <td>0</td>\n      <td>Normal</td>\n      <td>0</td>\n    </tr>\n  </tbody>\n</table>\n<p>5 rows × 45 columns</p>\n</div>"
     },
     "execution_count": 4,
     "metadata": {},
     "output_type": "execute_result"
    }
   ],
   "source": [
    "test_df.head()"
   ],
   "metadata": {
    "collapsed": false,
    "ExecuteTime": {
     "end_time": "2023-12-02T17:28:43.665526500Z",
     "start_time": "2023-12-02T17:28:43.603041400Z"
    }
   },
   "id": "89355281fdec43f2"
  },
  {
   "cell_type": "code",
   "execution_count": 5,
   "outputs": [
    {
     "data": {
      "text/plain": "                   id            dur   proto service   state          spkts  \\\ncount   175341.000000  175341.000000  175341  175341  175341  175341.000000   \nunique            NaN            NaN     133      13       9            NaN   \ntop               NaN            NaN     tcp       -     INT            NaN   \nfreq              NaN            NaN   79946   94168   82275            NaN   \nmean     87671.000000       1.359389     NaN     NaN     NaN      20.298664   \nstd      50616.731112       6.480249     NaN     NaN     NaN     136.887597   \nmin          1.000000       0.000000     NaN     NaN     NaN       1.000000   \n25%      43836.000000       0.000008     NaN     NaN     NaN       2.000000   \n50%      87671.000000       0.001582     NaN     NaN     NaN       2.000000   \n75%     131506.000000       0.668069     NaN     NaN     NaN      12.000000   \nmax     175341.000000      59.999989     NaN     NaN     NaN    9616.000000   \n\n                dpkts        sbytes        dbytes          rate  ...  \\\ncount   175341.000000  1.753410e+05  1.753410e+05  1.753410e+05  ...   \nunique            NaN           NaN           NaN           NaN  ...   \ntop               NaN           NaN           NaN           NaN  ...   \nfreq              NaN           NaN           NaN           NaN  ...   \nmean        18.969591  8.844844e+03  1.492892e+04  9.540619e+04  ...   \nstd        110.258271  1.747656e+05  1.436542e+05  1.654010e+05  ...   \nmin          0.000000  2.800000e+01  0.000000e+00  0.000000e+00  ...   \n25%          0.000000  1.140000e+02  0.000000e+00  3.278614e+01  ...   \n50%          2.000000  4.300000e+02  1.640000e+02  3.225807e+03  ...   \n75%         10.000000  1.418000e+03  1.102000e+03  1.250000e+05  ...   \nmax      10974.000000  1.296523e+07  1.465555e+07  1.000000e+06  ...   \n\n        ct_dst_sport_ltm  ct_dst_src_ltm   is_ftp_login     ct_ftp_cmd  \\\ncount      175341.000000   175341.000000  175341.000000  175341.000000   \nunique               NaN             NaN            NaN            NaN   \ntop                  NaN             NaN            NaN            NaN   \nfreq                 NaN             NaN            NaN            NaN   \nmean            4.206255        8.729881       0.014948       0.014948   \nstd             5.783585       10.956186       0.126048       0.126048   \nmin             1.000000        1.000000       0.000000       0.000000   \n25%             1.000000        1.000000       0.000000       0.000000   \n50%             1.000000        3.000000       0.000000       0.000000   \n75%             3.000000       12.000000       0.000000       0.000000   \nmax            46.000000       65.000000       4.000000       4.000000   \n\n        ct_flw_http_mthd     ct_src_ltm     ct_srv_dst  is_sm_ips_ports  \\\ncount      175341.000000  175341.000000  175341.000000    175341.000000   \nunique               NaN            NaN            NaN              NaN   \ntop                  NaN            NaN            NaN              NaN   \nfreq                 NaN            NaN            NaN              NaN   \nmean            0.133066       6.955789       9.100758         0.015752   \nstd             0.701208       8.321493      10.756952         0.124516   \nmin             0.000000       1.000000       1.000000         0.000000   \n25%             0.000000       2.000000       2.000000         0.000000   \n50%             0.000000       3.000000       4.000000         0.000000   \n75%             0.000000       9.000000      12.000000         0.000000   \nmax            30.000000      60.000000      62.000000         1.000000   \n\n        attack_cat          label  \ncount       175341  175341.000000  \nunique          10            NaN  \ntop         Normal            NaN  \nfreq         56000            NaN  \nmean           NaN       0.680622  \nstd            NaN       0.466237  \nmin            NaN       0.000000  \n25%            NaN       0.000000  \n50%            NaN       1.000000  \n75%            NaN       1.000000  \nmax            NaN       1.000000  \n\n[11 rows x 45 columns]",
      "text/html": "<div>\n<style scoped>\n    .dataframe tbody tr th:only-of-type {\n        vertical-align: middle;\n    }\n\n    .dataframe tbody tr th {\n        vertical-align: top;\n    }\n\n    .dataframe thead th {\n        text-align: right;\n    }\n</style>\n<table border=\"1\" class=\"dataframe\">\n  <thead>\n    <tr style=\"text-align: right;\">\n      <th></th>\n      <th>id</th>\n      <th>dur</th>\n      <th>proto</th>\n      <th>service</th>\n      <th>state</th>\n      <th>spkts</th>\n      <th>dpkts</th>\n      <th>sbytes</th>\n      <th>dbytes</th>\n      <th>rate</th>\n      <th>...</th>\n      <th>ct_dst_sport_ltm</th>\n      <th>ct_dst_src_ltm</th>\n      <th>is_ftp_login</th>\n      <th>ct_ftp_cmd</th>\n      <th>ct_flw_http_mthd</th>\n      <th>ct_src_ltm</th>\n      <th>ct_srv_dst</th>\n      <th>is_sm_ips_ports</th>\n      <th>attack_cat</th>\n      <th>label</th>\n    </tr>\n  </thead>\n  <tbody>\n    <tr>\n      <th>count</th>\n      <td>175341.000000</td>\n      <td>175341.000000</td>\n      <td>175341</td>\n      <td>175341</td>\n      <td>175341</td>\n      <td>175341.000000</td>\n      <td>175341.000000</td>\n      <td>1.753410e+05</td>\n      <td>1.753410e+05</td>\n      <td>1.753410e+05</td>\n      <td>...</td>\n      <td>175341.000000</td>\n      <td>175341.000000</td>\n      <td>175341.000000</td>\n      <td>175341.000000</td>\n      <td>175341.000000</td>\n      <td>175341.000000</td>\n      <td>175341.000000</td>\n      <td>175341.000000</td>\n      <td>175341</td>\n      <td>175341.000000</td>\n    </tr>\n    <tr>\n      <th>unique</th>\n      <td>NaN</td>\n      <td>NaN</td>\n      <td>133</td>\n      <td>13</td>\n      <td>9</td>\n      <td>NaN</td>\n      <td>NaN</td>\n      <td>NaN</td>\n      <td>NaN</td>\n      <td>NaN</td>\n      <td>...</td>\n      <td>NaN</td>\n      <td>NaN</td>\n      <td>NaN</td>\n      <td>NaN</td>\n      <td>NaN</td>\n      <td>NaN</td>\n      <td>NaN</td>\n      <td>NaN</td>\n      <td>10</td>\n      <td>NaN</td>\n    </tr>\n    <tr>\n      <th>top</th>\n      <td>NaN</td>\n      <td>NaN</td>\n      <td>tcp</td>\n      <td>-</td>\n      <td>INT</td>\n      <td>NaN</td>\n      <td>NaN</td>\n      <td>NaN</td>\n      <td>NaN</td>\n      <td>NaN</td>\n      <td>...</td>\n      <td>NaN</td>\n      <td>NaN</td>\n      <td>NaN</td>\n      <td>NaN</td>\n      <td>NaN</td>\n      <td>NaN</td>\n      <td>NaN</td>\n      <td>NaN</td>\n      <td>Normal</td>\n      <td>NaN</td>\n    </tr>\n    <tr>\n      <th>freq</th>\n      <td>NaN</td>\n      <td>NaN</td>\n      <td>79946</td>\n      <td>94168</td>\n      <td>82275</td>\n      <td>NaN</td>\n      <td>NaN</td>\n      <td>NaN</td>\n      <td>NaN</td>\n      <td>NaN</td>\n      <td>...</td>\n      <td>NaN</td>\n      <td>NaN</td>\n      <td>NaN</td>\n      <td>NaN</td>\n      <td>NaN</td>\n      <td>NaN</td>\n      <td>NaN</td>\n      <td>NaN</td>\n      <td>56000</td>\n      <td>NaN</td>\n    </tr>\n    <tr>\n      <th>mean</th>\n      <td>87671.000000</td>\n      <td>1.359389</td>\n      <td>NaN</td>\n      <td>NaN</td>\n      <td>NaN</td>\n      <td>20.298664</td>\n      <td>18.969591</td>\n      <td>8.844844e+03</td>\n      <td>1.492892e+04</td>\n      <td>9.540619e+04</td>\n      <td>...</td>\n      <td>4.206255</td>\n      <td>8.729881</td>\n      <td>0.014948</td>\n      <td>0.014948</td>\n      <td>0.133066</td>\n      <td>6.955789</td>\n      <td>9.100758</td>\n      <td>0.015752</td>\n      <td>NaN</td>\n      <td>0.680622</td>\n    </tr>\n    <tr>\n      <th>std</th>\n      <td>50616.731112</td>\n      <td>6.480249</td>\n      <td>NaN</td>\n      <td>NaN</td>\n      <td>NaN</td>\n      <td>136.887597</td>\n      <td>110.258271</td>\n      <td>1.747656e+05</td>\n      <td>1.436542e+05</td>\n      <td>1.654010e+05</td>\n      <td>...</td>\n      <td>5.783585</td>\n      <td>10.956186</td>\n      <td>0.126048</td>\n      <td>0.126048</td>\n      <td>0.701208</td>\n      <td>8.321493</td>\n      <td>10.756952</td>\n      <td>0.124516</td>\n      <td>NaN</td>\n      <td>0.466237</td>\n    </tr>\n    <tr>\n      <th>min</th>\n      <td>1.000000</td>\n      <td>0.000000</td>\n      <td>NaN</td>\n      <td>NaN</td>\n      <td>NaN</td>\n      <td>1.000000</td>\n      <td>0.000000</td>\n      <td>2.800000e+01</td>\n      <td>0.000000e+00</td>\n      <td>0.000000e+00</td>\n      <td>...</td>\n      <td>1.000000</td>\n      <td>1.000000</td>\n      <td>0.000000</td>\n      <td>0.000000</td>\n      <td>0.000000</td>\n      <td>1.000000</td>\n      <td>1.000000</td>\n      <td>0.000000</td>\n      <td>NaN</td>\n      <td>0.000000</td>\n    </tr>\n    <tr>\n      <th>25%</th>\n      <td>43836.000000</td>\n      <td>0.000008</td>\n      <td>NaN</td>\n      <td>NaN</td>\n      <td>NaN</td>\n      <td>2.000000</td>\n      <td>0.000000</td>\n      <td>1.140000e+02</td>\n      <td>0.000000e+00</td>\n      <td>3.278614e+01</td>\n      <td>...</td>\n      <td>1.000000</td>\n      <td>1.000000</td>\n      <td>0.000000</td>\n      <td>0.000000</td>\n      <td>0.000000</td>\n      <td>2.000000</td>\n      <td>2.000000</td>\n      <td>0.000000</td>\n      <td>NaN</td>\n      <td>0.000000</td>\n    </tr>\n    <tr>\n      <th>50%</th>\n      <td>87671.000000</td>\n      <td>0.001582</td>\n      <td>NaN</td>\n      <td>NaN</td>\n      <td>NaN</td>\n      <td>2.000000</td>\n      <td>2.000000</td>\n      <td>4.300000e+02</td>\n      <td>1.640000e+02</td>\n      <td>3.225807e+03</td>\n      <td>...</td>\n      <td>1.000000</td>\n      <td>3.000000</td>\n      <td>0.000000</td>\n      <td>0.000000</td>\n      <td>0.000000</td>\n      <td>3.000000</td>\n      <td>4.000000</td>\n      <td>0.000000</td>\n      <td>NaN</td>\n      <td>1.000000</td>\n    </tr>\n    <tr>\n      <th>75%</th>\n      <td>131506.000000</td>\n      <td>0.668069</td>\n      <td>NaN</td>\n      <td>NaN</td>\n      <td>NaN</td>\n      <td>12.000000</td>\n      <td>10.000000</td>\n      <td>1.418000e+03</td>\n      <td>1.102000e+03</td>\n      <td>1.250000e+05</td>\n      <td>...</td>\n      <td>3.000000</td>\n      <td>12.000000</td>\n      <td>0.000000</td>\n      <td>0.000000</td>\n      <td>0.000000</td>\n      <td>9.000000</td>\n      <td>12.000000</td>\n      <td>0.000000</td>\n      <td>NaN</td>\n      <td>1.000000</td>\n    </tr>\n    <tr>\n      <th>max</th>\n      <td>175341.000000</td>\n      <td>59.999989</td>\n      <td>NaN</td>\n      <td>NaN</td>\n      <td>NaN</td>\n      <td>9616.000000</td>\n      <td>10974.000000</td>\n      <td>1.296523e+07</td>\n      <td>1.465555e+07</td>\n      <td>1.000000e+06</td>\n      <td>...</td>\n      <td>46.000000</td>\n      <td>65.000000</td>\n      <td>4.000000</td>\n      <td>4.000000</td>\n      <td>30.000000</td>\n      <td>60.000000</td>\n      <td>62.000000</td>\n      <td>1.000000</td>\n      <td>NaN</td>\n      <td>1.000000</td>\n    </tr>\n  </tbody>\n</table>\n<p>11 rows × 45 columns</p>\n</div>"
     },
     "execution_count": 5,
     "metadata": {},
     "output_type": "execute_result"
    }
   ],
   "source": [
    "train_df.describe(include='all')"
   ],
   "metadata": {
    "collapsed": false,
    "ExecuteTime": {
     "end_time": "2023-12-02T17:28:43.978385900Z",
     "start_time": "2023-12-02T17:28:43.634284400Z"
    }
   },
   "id": "9eaabdef789a07f2"
  },
  {
   "cell_type": "code",
   "execution_count": 6,
   "outputs": [],
   "source": [
    "def preprocess_numerical_cols(df):\n",
    "    numerical_cols = df.select_dtypes(exclude=[\"object\"]).columns\n",
    "    df[numerical_cols] = df[numerical_cols].fillna(0)\n",
    "    return df"
   ],
   "metadata": {
    "collapsed": false,
    "ExecuteTime": {
     "end_time": "2023-12-02T17:28:43.994007400Z",
     "start_time": "2023-12-02T17:28:43.978385900Z"
    }
   },
   "id": "ab9a53f851d22c9b"
  },
  {
   "cell_type": "code",
   "execution_count": 7,
   "outputs": [],
   "source": [
    "def preprocess_categorical_cols(df):\n",
    "    categorical_cols = df.select_dtypes(include=[\"object\"]).columns\n",
    "    df[categorical_cols] = df[categorical_cols].replace('-', \"None\")\n",
    "    df[categorical_cols] = df[categorical_cols].fillna(\"None\")\n",
    "    return df"
   ],
   "metadata": {
    "collapsed": false,
    "ExecuteTime": {
     "end_time": "2023-12-02T17:28:44.056492600Z",
     "start_time": "2023-12-02T17:28:43.994007400Z"
    }
   },
   "id": "21f7ec7247098123"
  },
  {
   "cell_type": "code",
   "execution_count": 8,
   "outputs": [],
   "source": [
    "def drop_columns(df, to_drop = ['id','attack_cat']):\n",
    "    df.drop(to_drop,axis=1,inplace=True)\n",
    "    return df"
   ],
   "metadata": {
    "collapsed": false,
    "ExecuteTime": {
     "end_time": "2023-12-02T17:28:44.087735300Z",
     "start_time": "2023-12-02T17:28:44.009629500Z"
    }
   },
   "id": "c8a5b4d3ee889a7d"
  },
  {
   "cell_type": "code",
   "execution_count": 9,
   "outputs": [],
   "source": [
    "def plot_labels(df):\n",
    "    plt.figure(figsize=(10,5))\n",
    "    sns.countplot(x='label',data=df)\n",
    "    plt.show()"
   ],
   "metadata": {
    "collapsed": false,
    "ExecuteTime": {
     "end_time": "2023-12-02T17:28:44.087735300Z",
     "start_time": "2023-12-02T17:28:44.025250300Z"
    }
   },
   "id": "6c2c42a8e0f3cf6c"
  },
  {
   "cell_type": "code",
   "execution_count": 10,
   "outputs": [],
   "source": [
    "def perform_Smote_over_sampling(X,y):\n",
    "    from imblearn.over_sampling import SMOTE\n",
    "    smote = SMOTE()\n",
    "    X_smote, y_smote = smote.fit_resample(X, y)\n",
    "    return X_smote, y_smote"
   ],
   "metadata": {
    "collapsed": false,
    "ExecuteTime": {
     "end_time": "2023-12-02T17:28:44.087735300Z",
     "start_time": "2023-12-02T17:28:44.040872500Z"
    }
   },
   "id": "aa88831978aad951"
  },
  {
   "cell_type": "code",
   "execution_count": 11,
   "outputs": [],
   "source": [
    "def standardize(df):\n",
    "    scaler = StandardScaler()\n",
    "    df = scaler.fit_transform(df)\n",
    "    return df"
   ],
   "metadata": {
    "collapsed": false,
    "ExecuteTime": {
     "end_time": "2023-12-02T17:28:44.087735300Z",
     "start_time": "2023-12-02T17:28:44.056492600Z"
    }
   },
   "id": "2dcddeb93b08e453"
  },
  {
   "cell_type": "code",
   "execution_count": 12,
   "outputs": [],
   "source": [
    "train_df = drop_columns(train_df)\n",
    "test_df = drop_columns(test_df)"
   ],
   "metadata": {
    "collapsed": false,
    "ExecuteTime": {
     "end_time": "2023-12-02T17:28:44.134599600Z",
     "start_time": "2023-12-02T17:28:44.072113900Z"
    }
   },
   "id": "3f1634a94659c4a1"
  },
  {
   "cell_type": "code",
   "execution_count": 13,
   "outputs": [],
   "source": [
    "train_df = preprocess_numerical_cols(train_df)\n",
    "test_df = preprocess_numerical_cols(test_df)\n",
    "train_df = preprocess_categorical_cols(train_df)\n",
    "test_df = preprocess_categorical_cols(test_df)"
   ],
   "metadata": {
    "collapsed": false,
    "ExecuteTime": {
     "end_time": "2023-12-02T17:28:44.404907100Z",
     "start_time": "2023-12-02T17:28:44.118978500Z"
    }
   },
   "id": "f37bfb3d6eab82b5"
  },
  {
   "cell_type": "code",
   "execution_count": 14,
   "outputs": [
    {
     "data": {
      "text/plain": "<Figure size 1000x500 with 1 Axes>",
      "image/png": "[encoded data removed]"
     },
     "metadata": {},
     "output_type": "display_data"
    }
   ],
   "source": [
    "plot_labels(train_df)"
   ],
   "metadata": {
    "collapsed": false,
    "ExecuteTime": {
     "end_time": "2023-12-02T17:28:44.857926Z",
     "start_time": "2023-12-02T17:28:44.404907100Z"
    }
   },
   "id": "385b05b176b3d6e9"
  },
  {
   "cell_type": "code",
   "execution_count": 15,
   "outputs": [
    {
     "data": {
      "text/plain": "<Figure size 1000x500 with 1 Axes>",
      "image/png": "[encoded data removed]"
     },
     "metadata": {},
     "output_type": "display_data"
    }
   ],
   "source": [
    "plot_labels(test_df)"
   ],
   "metadata": {
    "collapsed": false,
    "ExecuteTime": {
     "end_time": "2023-12-02T17:28:45.113954700Z",
     "start_time": "2023-12-02T17:28:44.857926Z"
    }
   },
   "id": "552801cb88103711"
  },
  {
   "cell_type": "code",
   "execution_count": 16,
   "outputs": [],
   "source": [
    "target_variable = 'label'\n",
    "X_train = train_df.drop(target_variable, axis=1)\n",
    "y_train = train_df[target_variable]\n",
    "X_test = test_df.drop(target_variable, axis=1)\n",
    "y_test = test_df[target_variable]"
   ],
   "metadata": {
    "collapsed": false,
    "ExecuteTime": {
     "end_time": "2023-12-02T17:28:45.176440900Z",
     "start_time": "2023-12-02T17:28:45.113954700Z"
    }
   },
   "id": "5e5026af19b9fc0c"
  },
  {
   "cell_type": "code",
   "execution_count": 17,
   "outputs": [],
   "source": [
    "# Identify the categorical columns in your dataset\n",
    "categorical_columns = X_train.select_dtypes(include=['object']).columns"
   ],
   "metadata": {
    "collapsed": false,
    "ExecuteTime": {
     "end_time": "2023-12-02T17:28:45.192061900Z",
     "start_time": "2023-12-02T17:28:45.176440900Z"
    }
   },
   "id": "64b8fff6ea1b0035"
  },
  {
   "cell_type": "code",
   "execution_count": 18,
   "outputs": [
    {
     "name": "stderr",
     "output_type": "stream",
     "text": [
      "c:\\users\\user\\appdata\\local\\programs\\python\\python39\\lib\\site-packages\\sklearn\\preprocessing\\_encoders.py:975: FutureWarning: `sparse` was renamed to `sparse_output` in version 1.2 and will be removed in 1.4. `sparse_output` is ignored unless you leave `sparse` to its default value.\n",
      "  warnings.warn(\n"
     ]
    }
   ],
   "source": [
    "# Apply one-hot encoding to the categorical columns\n",
    "encoder = OneHotEncoder(sparse=False, handle_unknown='ignore')\n",
    "X_train_encoded = encoder.fit_transform(X_train[categorical_columns])"
   ],
   "metadata": {
    "collapsed": false,
    "ExecuteTime": {
     "end_time": "2023-12-02T17:28:45.317032100Z",
     "start_time": "2023-12-02T17:28:45.192061900Z"
    }
   },
   "id": "564f307b23cd2c11"
  },
  {
   "cell_type": "code",
   "execution_count": 19,
   "outputs": [],
   "source": [
    "X_test_encoded = encoder.transform(X_test[categorical_columns])"
   ],
   "metadata": {
    "collapsed": false,
    "ExecuteTime": {
     "end_time": "2023-12-02T17:28:45.410760200Z",
     "start_time": "2023-12-02T17:28:45.317032100Z"
    }
   },
   "id": "6341562c134cbd38"
  },
  {
   "cell_type": "code",
   "execution_count": 20,
   "outputs": [],
   "source": [
    "# Combine the one-hot encoded features with the numerical features\n",
    "X_train_numeric = X_train.drop(categorical_columns, axis=1)\n",
    "X_train_combined = np.hstack((X_train_numeric, X_train_encoded))"
   ],
   "metadata": {
    "collapsed": false,
    "ExecuteTime": {
     "end_time": "2023-12-02T17:28:45.535730700Z",
     "start_time": "2023-12-02T17:28:45.395139400Z"
    }
   },
   "id": "63aec49e61cc5a0c"
  },
  {
   "cell_type": "code",
   "execution_count": 21,
   "outputs": [],
   "source": [
    "X_test_numeric = X_test.drop(categorical_columns, axis=1)\n",
    "X_test_combined = np.hstack((X_test_numeric, X_test_encoded))"
   ],
   "metadata": {
    "collapsed": false,
    "ExecuteTime": {
     "end_time": "2023-12-02T17:28:45.598216600Z",
     "start_time": "2023-12-02T17:28:45.535730700Z"
    }
   },
   "id": "282f922e3eecca7"
  },
  {
   "cell_type": "code",
   "execution_count": 22,
   "outputs": [],
   "source": [
    "# Perform SMOTE over-sampling on the training data\n",
    "X_train_resampled, y_train_resampled = perform_Smote_over_sampling(X_train_combined, y_train)"
   ],
   "metadata": {
    "collapsed": false,
    "ExecuteTime": {
     "end_time": "2023-12-02T17:28:57.756391900Z",
     "start_time": "2023-12-02T17:28:45.598216600Z"
    }
   },
   "id": "107f9a648593c75a"
  },
  {
   "cell_type": "code",
   "execution_count": 23,
   "outputs": [
    {
     "name": "stdout",
     "output_type": "stream",
     "text": [
      "Number of missing values in training set:  0\n"
     ]
    }
   ],
   "source": [
    "# number of missing values\n",
    "print(\"Number of missing values in training set: \", np.count_nonzero(np.isnan(X_train_resampled)))"
   ],
   "metadata": {
    "collapsed": false,
    "ExecuteTime": {
     "end_time": "2023-12-02T17:28:57.818876600Z",
     "start_time": "2023-12-02T17:28:57.756391900Z"
    }
   },
   "id": "c24c1c792621777e"
  },
  {
   "cell_type": "code",
   "execution_count": 24,
   "outputs": [],
   "source": [
    "# Standardize the dataset\n",
    "X_train_standardized = standardize(X_train_resampled)\n",
    "X_test_standardized = standardize(X_test_combined)"
   ],
   "metadata": {
    "collapsed": false,
    "ExecuteTime": {
     "end_time": "2023-12-02T17:28:58.750627900Z",
     "start_time": "2023-12-02T17:28:57.818876600Z"
    }
   },
   "id": "67a947a48d245661"
  },
  {
   "cell_type": "code",
   "execution_count": 25,
   "outputs": [
    {
     "name": "stdout",
     "output_type": "stream",
     "text": [
      "Class Distribution after SMOTE Oversampling:\n",
      "Counter({0: 119341, 1: 119341})\n"
     ]
    }
   ],
   "source": [
    "from collections import Counter\n",
    "# Check the class distribution after oversampling\n",
    "class_counts_resampled = Counter(y_train_resampled)\n",
    "print(\"Class Distribution after SMOTE Oversampling:\")\n",
    "print(class_counts_resampled)"
   ],
   "metadata": {
    "collapsed": false,
    "ExecuteTime": {
     "end_time": "2023-12-02T17:28:58.802212Z",
     "start_time": "2023-12-02T17:28:58.746609900Z"
    }
   },
   "id": "ee965f4b799e190d"
  },
  {
   "cell_type": "code",
   "execution_count": 26,
   "outputs": [
    {
     "name": "stdout",
     "output_type": "stream",
     "text": [
      "Shape of X_train_standardized:  (238682, 194)\n",
      "Shape of X_test_standardized:  (82332, 194)\n"
     ]
    }
   ],
   "source": [
    "# Shapes of training set, test set, and standardized sets\n",
    "print(\"Shape of X_train_standardized: \", X_train_standardized.shape)\n",
    "print(\"Shape of X_test_standardized: \", X_test_standardized.shape)"
   ],
   "metadata": {
    "collapsed": false,
    "ExecuteTime": {
     "end_time": "2023-12-02T17:28:58.810749200Z",
     "start_time": "2023-12-02T17:28:58.790498100Z"
    }
   },
   "id": "6342ef59bec6cdc2"
  },
  {
   "cell_type": "code",
   "execution_count": 27,
   "outputs": [],
   "source": [
    "from keras.layers import GRU\n",
    "def create_GRU_model(input_shape,dropout_rate=0.2,activation='relu'):\n",
    "    model = Sequential()\n",
    "    model.add(GRU(64, input_shape=input_shape, activation=activation, return_sequences=True))\n",
    "    model.add(BatchNormalization())\n",
    "    model.add(Dropout(dropout_rate))\n",
    "    model.add(GRU(64, activation=activation))\n",
    "    model.add(BatchNormalization())\n",
    "    model.add(Dropout(dropout_rate))\n",
    "    model.add(Dense(32, activation=activation))\n",
    "    model.add(BatchNormalization())\n",
    "    model.add(Dropout(dropout_rate))\n",
    "    model.add(Dense(32, activation=activation))\n",
    "    model.add(BatchNormalization())\n",
    "    model.add(Dropout(dropout_rate))\n",
    "    model.add(Dense(1, activation='sigmoid'))\n",
    "    return model"
   ],
   "metadata": {
    "collapsed": false,
    "ExecuteTime": {
     "end_time": "2023-12-02T17:28:58.830501700Z",
     "start_time": "2023-12-02T17:28:58.810749200Z"
    }
   },
   "id": "37b3a6c700f126f0"
  },
  {
   "cell_type": "code",
   "execution_count": 41,
   "outputs": [],
   "source": [
    "input_shape = (X_train_standardized.shape[1],)\n",
    "from sklearn.model_selection import ParameterSampler\n",
    "def tune_hyperparams():\n",
    "    input_shape = (X_train_standardized.shape[1],1)\n",
    "    # use random serch to tune hyperparameters\n",
    "    params_grid = {\n",
    "        'batch_size': [32, 64, 128],\n",
    "        'epochs': [10, 20, 30],\n",
    "        'learning_rate': [0.0001, 0.001, 0.01],\n",
    "        'dropout_rate': [0.2, 0.25, 0.3],\n",
    "        'activation': ['relu', 'leaky_relu', 'tan_h'],\n",
    "        'optimizer': ['adam', 'sgd', 'rmsprop']\n",
    "    }\n",
    "    params_list = list(ParameterSampler(params_grid, n_iter=10, random_state=42))\n",
    "    best_params = None\n",
    "    for params in params_list:\n",
    "        print(\"Trying Out : \",params)\n",
    "        model = create_GRU_model(input_shape, params['dropout_rate'], params['activation'])\n",
    "        if params['optimizer'] == 'adam':\n",
    "            optimizer = tf.keras.optimizers.Adam(learning_rate=params['learning_rate'])\n",
    "        elif params['optimizer'] == 'sgd':\n",
    "            optimizer = tf.keras.optimizers.SGD(learning_rate=params['learning_rate'])\n",
    "        else:\n",
    "            optimizer = tf.keras.optimizers.RMSprop(learning_rate=params['learning_rate'])\n",
    "        model.compile(optimizer=optimizer, loss='binary_crossentropy', metrics=['accuracy'])\n",
    "        early_stopping = EarlyStopping(patience=10, verbose=1, restore_best_weights=True, monitor='val_loss')\n",
    "        reduce_lr = ReduceLROnPlateau(patience=3, verbose=1, monitor='val_loss', factor=0.25, min_lr=0.000005)\n",
    "        history = model.fit(X_train_standardized, y_train_resampled, epochs=params['epochs'],\n",
    "                            batch_size=params['batch_size'], validation_split=0.2, callbacks=[early_stopping, reduce_lr])\n",
    "        y_pred = model.predict(X_test_standardized)\n",
    "        y_pred = (y_pred > 0.5)\n",
    "        if best_params is None:\n",
    "            best_params = params\n",
    "            best_model = model\n",
    "            best_history = history\n",
    "            best_y_pred = y_pred\n",
    "        else:\n",
    "            if accuracy_score(y_test, y_pred) > accuracy_score(y_test, best_y_pred):\n",
    "                best_params = params\n",
    "                best_model = model\n",
    "                best_history = history\n",
    "                best_y_pred = y_pred\n",
    "    return best_params, best_model, best_history, best_y_pred"
   ],
   "metadata": {
    "collapsed": false,
    "ExecuteTime": {
     "end_time": "2023-12-02T20:02:20.102893600Z",
     "start_time": "2023-12-02T20:02:20.071644300Z"
    }
   },
   "id": "b6e8e59aeecb1457"
  },
  {
   "cell_type": "code",
   "execution_count": 42,
   "outputs": [
    {
     "name": "stdout",
     "output_type": "stream",
     "text": [
      "Trying Out :  {'optimizer': 'adam', 'learning_rate': 0.0001, 'epochs': 20, 'dropout_rate': 0.3, 'batch_size': 128, 'activation': 'leaky_relu'}\n",
      "Epoch 1/20\n"
     ]
    },
    {
     "name": "stderr",
     "output_type": "stream",
     "text": [
      "Exception ignored in: <function WeakKeyDictionary.__init__.<locals>.remove at 0x000001DEAAB70DC0>\n",
      "Traceback (most recent call last):\n",
      "  File \"c:\\users\\user\\appdata\\local\\programs\\python\\python39\\lib\\weakref.py\", line 368, in remove\n",
      "    self = selfref()\n",
      "KeyboardInterrupt: \n"
     ]
    },
    {
     "name": "stdout",
     "output_type": "stream",
     "text": [
      "  15/1492 [..............................] - ETA: 4:32 - loss: 0.9176 - accuracy: 0.5307"
     ]
    },
    {
     "name": "stderr",
     "output_type": "stream",
     "text": [
      "\n",
      "KeyboardInterrupt\n",
      "\n"
     ]
    }
   ],
   "source": [
    "best_params, best_model, best_history, best_y_pred = tune_hyperparams()"
   ],
   "metadata": {
    "collapsed": false,
    "ExecuteTime": {
     "end_time": "2023-12-02T20:02:31.501596300Z",
     "start_time": "2023-12-02T20:02:23.710534300Z"
    }
   },
   "id": "2612f41496d5e44a"
  },
  {
   "cell_type": "code",
   "execution_count": 28,
   "outputs": [
    {
     "name": "stdout",
     "output_type": "stream",
     "text": [
      "WARNING:tensorflow:From c:\\users\\user\\appdata\\local\\programs\\python\\python39\\lib\\site-packages\\keras\\src\\backend.py:873: The name tf.get_default_graph is deprecated. Please use tf.compat.v1.get_default_graph instead.\n",
      "Model: \"sequential\"\n",
      "_________________________________________________________________\n",
      " Layer (type)                Output Shape              Param #   \n",
      "=================================================================\n",
      " gru (GRU)                   (None, 194, 64)           12864     \n",
      "                                                                 \n",
      " batch_normalization (Batch  (None, 194, 64)           256       \n",
      " Normalization)                                                  \n",
      "                                                                 \n",
      " dropout (Dropout)           (None, 194, 64)           0         \n",
      "                                                                 \n",
      " gru_1 (GRU)                 (None, 64)                24960     \n",
      "                                                                 \n",
      " batch_normalization_1 (Bat  (None, 64)                256       \n",
      " chNormalization)                                                \n",
      "                                                                 \n",
      " dropout_1 (Dropout)         (None, 64)                0         \n",
      "                                                                 \n",
      " dense (Dense)               (None, 32)                2080      \n",
      "                                                                 \n",
      " batch_normalization_2 (Bat  (None, 32)                128       \n",
      " chNormalization)                                                \n",
      "                                                                 \n",
      " dropout_2 (Dropout)         (None, 32)                0         \n",
      "                                                                 \n",
      " dense_1 (Dense)             (None, 32)                1056      \n",
      "                                                                 \n",
      " batch_normalization_3 (Bat  (None, 32)                128       \n",
      " chNormalization)                                                \n",
      "                                                                 \n",
      " dropout_3 (Dropout)         (None, 32)                0         \n",
      "                                                                 \n",
      " dense_2 (Dense)             (None, 1)                 33        \n",
      "                                                                 \n",
      "=================================================================\n",
      "Total params: 41761 (163.13 KB)\n",
      "Trainable params: 41377 (161.63 KB)\n",
      "Non-trainable params: 384 (1.50 KB)\n",
      "_________________________________________________________________\n"
     ]
    }
   ],
   "source": [
    "input_shape = (X_train_standardized.shape[1],1)\n",
    "model = create_GRU_model(input_shape)\n",
    "model.summary()"
   ],
   "metadata": {
    "collapsed": false,
    "ExecuteTime": {
     "end_time": "2023-12-02T17:28:59.389949Z",
     "start_time": "2023-12-02T17:28:58.830501700Z"
    }
   },
   "id": "34761ce589d389cd"
  },
  {
   "cell_type": "code",
   "execution_count": 29,
   "outputs": [],
   "source": [
    "optimizer = tf.keras.optimizers.Adam(learning_rate=0.0001)\n",
    "model.compile(optimizer=optimizer, loss='binary_crossentropy', metrics=['accuracy'])"
   ],
   "metadata": {
    "collapsed": false,
    "ExecuteTime": {
     "end_time": "2023-12-02T17:28:59.425131100Z",
     "start_time": "2023-12-02T17:28:59.360292800Z"
    }
   },
   "id": "295618769f9f1203"
  },
  {
   "cell_type": "code",
   "execution_count": 30,
   "outputs": [],
   "source": [
    "# Use early stopping and reduce learning rate on plateau\n",
    "from keras.callbacks import EarlyStopping, ReduceLROnPlateau\n",
    "early_stopping = EarlyStopping(patience=5, verbose=1, restore_best_weights=True, monitor='val_loss')\n",
    "reduce_lr = ReduceLROnPlateau(patience=3, verbose=1, monitor='val_loss', factor=0.2)"
   ],
   "metadata": {
    "collapsed": false,
    "ExecuteTime": {
     "end_time": "2023-12-02T17:28:59.430164Z",
     "start_time": "2023-12-02T17:28:59.410270100Z"
    }
   },
   "id": "7ad8277f450a7d6d"
  },
  {
   "cell_type": "code",
   "execution_count": 31,
   "outputs": [
    {
     "name": "stdout",
     "output_type": "stream",
     "text": [
      "Epoch 1/20\n",
      "WARNING:tensorflow:From c:\\users\\user\\appdata\\local\\programs\\python\\python39\\lib\\site-packages\\keras\\src\\utils\\tf_utils.py:492: The name tf.ragged.RaggedTensorValue is deprecated. Please use tf.compat.v1.ragged.RaggedTensorValue instead.\n",
      "WARNING:tensorflow:From c:\\users\\user\\appdata\\local\\programs\\python\\python39\\lib\\site-packages\\keras\\src\\engine\\base_layer_utils.py:384: The name tf.executing_eagerly_outside_functions is deprecated. Please use tf.compat.v1.executing_eagerly_outside_functions instead.\n",
      "2984/2984 [==============================] - 310s 103ms/step - loss: 0.5589 - accuracy: 0.7133 - val_loss: 0.6995 - val_accuracy: 0.8598 - lr: 1.0000e-04\n",
      "Epoch 2/20\n",
      "2984/2984 [==============================] - 312s 104ms/step - loss: 0.5008 - accuracy: 0.7354 - val_loss: 0.7153 - val_accuracy: 0.6895 - lr: 1.0000e-04\n",
      "Epoch 3/20\n",
      "2984/2984 [==============================] - 308s 103ms/step - loss: 0.4664 - accuracy: 0.7588 - val_loss: 0.5884 - val_accuracy: 0.6682 - lr: 1.0000e-04\n",
      "Epoch 4/20\n",
      "2984/2984 [==============================] - 281s 94ms/step - loss: 0.3305 - accuracy: 0.8403 - val_loss: 0.1463 - val_accuracy: 0.9335 - lr: 1.0000e-04\n",
      "Epoch 5/20\n",
      "2984/2984 [==============================] - 281s 94ms/step - loss: 0.1906 - accuracy: 0.9172 - val_loss: 0.2019 - val_accuracy: 0.8539 - lr: 1.0000e-04\n",
      "Epoch 6/20\n",
      "2984/2984 [==============================] - 281s 94ms/step - loss: 0.1731 - accuracy: 0.9210 - val_loss: 0.1886 - val_accuracy: 0.8643 - lr: 1.0000e-04\n",
      "Epoch 7/20\n",
      "2984/2984 [==============================] - 281s 94ms/step - loss: 0.1638 - accuracy: 0.9232 - val_loss: 0.1289 - val_accuracy: 0.8862 - lr: 1.0000e-04\n",
      "Epoch 8/20\n",
      "2984/2984 [==============================] - 281s 94ms/step - loss: 0.1577 - accuracy: 0.9242 - val_loss: 0.1745 - val_accuracy: 0.8576 - lr: 1.0000e-04\n",
      "Epoch 9/20\n",
      "2984/2984 [==============================] - 283s 95ms/step - loss: 0.1524 - accuracy: 0.9265 - val_loss: 0.1501 - val_accuracy: 0.8803 - lr: 1.0000e-04\n",
      "Epoch 10/20\n",
      "2984/2984 [==============================] - 285s 96ms/step - loss: 0.1474 - accuracy: 0.9281 - val_loss: 0.1266 - val_accuracy: 0.9017 - lr: 1.0000e-04\n",
      "Epoch 11/20\n",
      "2984/2984 [==============================] - 285s 95ms/step - loss: 0.1436 - accuracy: 0.9289 - val_loss: 0.1435 - val_accuracy: 0.8786 - lr: 1.0000e-04\n",
      "Epoch 12/20\n",
      "2984/2984 [==============================] - 285s 95ms/step - loss: 0.1410 - accuracy: 0.9300 - val_loss: 0.1777 - val_accuracy: 0.8553 - lr: 1.0000e-04\n",
      "Epoch 13/20\n",
      "2984/2984 [==============================] - ETA: 0s - loss: 0.1386 - accuracy: 0.9308\n",
      "Epoch 13: ReduceLROnPlateau reducing learning rate to 1.9999999494757503e-05.\n",
      "2984/2984 [==============================] - 285s 95ms/step - loss: 0.1386 - accuracy: 0.9308 - val_loss: 0.1808 - val_accuracy: 0.8638 - lr: 1.0000e-04\n",
      "Epoch 14/20\n",
      "2984/2984 [==============================] - 286s 96ms/step - loss: 0.1341 - accuracy: 0.9332 - val_loss: 0.1324 - val_accuracy: 0.9157 - lr: 2.0000e-05\n",
      "Epoch 15/20\n",
      "2984/2984 [==============================] - 286s 96ms/step - loss: 0.1327 - accuracy: 0.9339 - val_loss: 0.1166 - val_accuracy: 0.9330 - lr: 2.0000e-05\n",
      "Epoch 16/20\n",
      "2984/2984 [==============================] - 303s 102ms/step - loss: 0.1328 - accuracy: 0.9337 - val_loss: 0.1151 - val_accuracy: 0.9411 - lr: 2.0000e-05\n",
      "Epoch 17/20\n",
      "2984/2984 [==============================] - 288s 96ms/step - loss: 0.1318 - accuracy: 0.9339 - val_loss: 0.1155 - val_accuracy: 0.9431 - lr: 2.0000e-05\n",
      "Epoch 18/20\n",
      "2984/2984 [==============================] - 287s 96ms/step - loss: 0.1319 - accuracy: 0.9343 - val_loss: 0.1410 - val_accuracy: 0.9056 - lr: 2.0000e-05\n",
      "Epoch 19/20\n",
      "2984/2984 [==============================] - ETA: 0s - loss: 0.1308 - accuracy: 0.9347\n",
      "Epoch 19: ReduceLROnPlateau reducing learning rate to 3.999999898951501e-06.\n",
      "2984/2984 [==============================] - 288s 96ms/step - loss: 0.1308 - accuracy: 0.9347 - val_loss: 0.1245 - val_accuracy: 0.9348 - lr: 2.0000e-05\n",
      "Epoch 20/20\n",
      "2984/2984 [==============================] - 288s 96ms/step - loss: 0.1297 - accuracy: 0.9351 - val_loss: 0.1280 - val_accuracy: 0.9281 - lr: 4.0000e-06\n"
     ]
    }
   ],
   "source": [
    "# Train the model\n",
    "history = model.fit(X_train_standardized, y_train_resampled, epochs=20,\n",
    "                    batch_size=64, validation_split=0.2, callbacks=[early_stopping, reduce_lr])"
   ],
   "metadata": {
    "collapsed": false,
    "ExecuteTime": {
     "end_time": "2023-12-02T19:05:23.374979800Z",
     "start_time": "2023-12-02T17:28:59.430164Z"
    }
   },
   "id": "c536f60d7be65705"
  },
  {
   "cell_type": "code",
   "execution_count": 32,
   "outputs": [
    {
     "name": "stdout",
     "output_type": "stream",
     "text": [
      "2573/2573 [==============================] - 56s 22ms/step\n",
      "Accuracy:  0.8789656512656076\n",
      "Precision:  0.870342834404909\n",
      "Recall:  0.9167475513985706\n",
      "F1 Score:  0.8929427058153652\n",
      "              precision    recall  f1-score   support\n",
      "\n",
      "           0       0.89      0.83      0.86     37000\n",
      "           1       0.87      0.92      0.89     45332\n",
      "\n",
      "    accuracy                           0.88     82332\n",
      "   macro avg       0.88      0.87      0.88     82332\n",
      "weighted avg       0.88      0.88      0.88     82332\n"
     ]
    }
   ],
   "source": [
    "# Evaluate on test set for precision, recall, f1-score, and accuracy\n",
    "from sklearn.metrics import classification_report, confusion_matrix,accuracy_score,precision_score,recall_score,f1_score\n",
    "y_pred = model.predict(X_test_standardized)\n",
    "y_pred = (y_pred > 0.5)\n",
    "print(\"Accuracy: \", accuracy_score(y_test, y_pred))\n",
    "print(\"Precision: \", precision_score(y_test, y_pred))\n",
    "print(\"Recall: \", recall_score(y_test, y_pred))\n",
    "print(\"F1 Score: \", f1_score(y_test, y_pred))\n",
    "print(classification_report(y_test, y_pred))"
   ],
   "metadata": {
    "collapsed": false,
    "ExecuteTime": {
     "end_time": "2023-12-02T19:06:20.514542600Z",
     "start_time": "2023-12-02T19:05:23.390596200Z"
    }
   },
   "id": "7400a9c0187a71c0"
  },
  {
   "cell_type": "code",
   "execution_count": 33,
   "outputs": [],
   "source": [
    "#confusion matrix\n",
    "from sklearn.metrics import confusion_matrix\n",
    "def plot_confusion_matrix(model, X_test, y_test):\n",
    "    y_pred = model.predict(X_test)\n",
    "    y_pred = (y_pred > 0.5)\n",
    "    cm = confusion_matrix(y_test, y_pred)\n",
    "    plt.figure(figsize=(10,5))\n",
    "    sns.heatmap(cm, annot=True, fmt='d')\n",
    "    plt.title('Confusion Matrix')\n",
    "    plt.xlabel('Predicted Label')\n",
    "    plt.ylabel('True Label')\n",
    "    plt.show()"
   ],
   "metadata": {
    "collapsed": false,
    "ExecuteTime": {
     "end_time": "2023-12-02T19:06:20.530164600Z",
     "start_time": "2023-12-02T19:06:20.514542600Z"
    }
   },
   "id": "65e5b2eea258ab3e"
  },
  {
   "cell_type": "code",
   "execution_count": 34,
   "outputs": [
    {
     "name": "stdout",
     "output_type": "stream",
     "text": [
      "2573/2573 [==============================] - 57s 22ms/step\n"
     ]
    },
    {
     "data": {
      "text/plain": "<Figure size 1000x500 with 2 Axes>",
      "image/png": "[encoded data removed]"
     },
     "metadata": {},
     "output_type": "display_data"
    }
   ],
   "source": [
    "plot_confusion_matrix(model, X_test_standardized, y_test)"
   ],
   "metadata": {
    "collapsed": false,
    "ExecuteTime": {
     "end_time": "2023-12-02T19:07:18.557953400Z",
     "start_time": "2023-12-02T19:06:20.530164600Z"
    }
   },
   "id": "c885f00c17dd9d26"
  },
  {
   "cell_type": "code",
   "execution_count": 35,
   "outputs": [],
   "source": [
    "def visualize_training_results(history):\n",
    "    plt.figure(figsize=(10,5))\n",
    "    plt.plot(history.history['accuracy'], label='Train Accuracy')\n",
    "    plt.plot(history.history['val_accuracy'], label='Validation Accuracy')\n",
    "    plt.plot(history.history['loss'], label='Train Loss')\n",
    "    plt.plot(history.history['val_loss'], label='Validation Loss')\n",
    "    plt.legend()\n",
    "    plt.title('Training Results')\n",
    "    plt.show()"
   ],
   "metadata": {
    "collapsed": false,
    "ExecuteTime": {
     "end_time": "2023-12-02T19:07:18.636059900Z",
     "start_time": "2023-12-02T19:07:18.557953400Z"
    }
   },
   "id": "3bcf8932ececcfc6"
  },
  {
   "cell_type": "code",
   "execution_count": 36,
   "outputs": [
    {
     "data": {
      "text/plain": "<Figure size 1000x500 with 1 Axes>",
      "image/png": "[encoded data removed]"
     },
     "metadata": {},
     "output_type": "display_data"
    }
   ],
   "source": [
    "visualize_training_results(history)"
   ],
   "metadata": {
    "collapsed": false,
    "ExecuteTime": {
     "end_time": "2023-12-02T19:07:18.792274200Z",
     "start_time": "2023-12-02T19:07:18.573575800Z"
    }
   },
   "id": "926d951c6debf212"
  },
  {
   "cell_type": "code",
   "execution_count": 37,
   "outputs": [
    {
     "name": "stderr",
     "output_type": "stream",
     "text": [
      "c:\\users\\user\\appdata\\local\\programs\\python\\python39\\lib\\site-packages\\keras\\src\\engine\\training.py:3103: UserWarning: You are saving your model as an HDF5 file via `model.save()`. This file format is considered legacy. We recommend using instead the native Keras format, e.g. `model.save('my_model.keras')`.\n",
      "  saving_api.save_model(\n"
     ]
    }
   ],
   "source": [
    "# Save the model\n",
    "model.save('GRU_bin_model.h5')"
   ],
   "metadata": {
    "collapsed": false,
    "ExecuteTime": {
     "end_time": "2023-12-02T19:07:18.886025500Z",
     "start_time": "2023-12-02T19:07:18.792274200Z"
    }
   },
   "id": "59883f3ef8378722"
  },
  {
   "cell_type": "code",
   "execution_count": null,
   "outputs": [],
   "source": [],
   "metadata": {
    "collapsed": false
   },
   "id": "ca03c74b5bfae36a"
  }
 ],
 "metadata": {
  "kernelspec": {
   "display_name": "Python 3",
   "language": "python",
   "name": "python3"
  },
  "language_info": {
   "codemirror_mode": {
    "name": "ipython",
    "version": 2
   },
   "file_extension": ".py",
   "mimetype": "text/x-python",
   "name": "python",
   "nbconvert_exporter": "python",
   "pygments_lexer": "ipython2",
   "version": "2.7.6"
  }
 },
 "nbformat": 4,
 "nbformat_minor": 5
}
