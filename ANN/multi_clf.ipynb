{
 "cells": [
  {
   "cell_type": "code",
   "execution_count": 1,
   "id": "initial_id",
   "metadata": {
    "collapsed": true,
    "ExecuteTime": {
     "end_time": "2023-12-03T11:32:51.233078900Z",
     "start_time": "2023-12-03T11:32:51.217455200Z"
    }
   },
   "outputs": [],
   "source": [
    "import pandas as pd\n",
    "import numpy as np"
   ]
  },
  {
   "cell_type": "code",
   "execution_count": 2,
   "outputs": [],
   "source": [
    "\"\"\"\n",
    "This function is used to load the dataset\n",
    "\"\"\"\n",
    "def load_dataset():\n",
    "    train_df = pd.read_csv(\"../Data/UNSW_NB15_testing-set.csv\")\n",
    "    test_df = pd.read_csv(\"../Data/UNSW_NB15_training-set.csv\")\n",
    "    return train_df, test_df"
   ],
   "metadata": {
    "collapsed": false,
    "ExecuteTime": {
     "end_time": "2023-12-03T11:32:51.264318400Z",
     "start_time": "2023-12-03T11:32:51.233078900Z"
    }
   },
   "id": "bf3cdb508014dbc6"
  },
  {
   "cell_type": "code",
   "execution_count": 3,
   "outputs": [],
   "source": [
    "\"\"\"\n",
    "This function is used to preprocess the attack_cat column\n",
    "\"\"\"\n",
    "def data_preprocessing_attack_cat(data):\n",
    "    data[\"attack_cat\"] = data[\"attack_cat\"].fillna('Normal')\n",
    "    data[\"attack_cat\"] = data[\"attack_cat\"].replace(' Fuzzers','Fuzzers')\n",
    "    data[\"attack_cat\"] = data[\"attack_cat\"].replace(' Fuzzers ','Fuzzers')\n",
    "    data[\"attack_cat\"] = data[\"attack_cat\"].replace(' Reconnaissance','Reconnaissance')\n",
    "    data[\"attack_cat\"] = data[\"attack_cat\"].replace(' Reconnaissance ','Reconnaissance')\n",
    "    data[\"attack_cat\"] = data[\"attack_cat\"].replace(' Shellcode','Shellcode')\n",
    "    data[\"attack_cat\"] = data[\"attack_cat\"].replace(' Shellcode ','Shellcode')\n",
    "    data[\"attack_cat\"] = data[\"attack_cat\"].replace('Backdoors','Backdoor')\n",
    "    return data"
   ],
   "metadata": {
    "collapsed": false,
    "ExecuteTime": {
     "end_time": "2023-12-03T11:32:51.311182200Z",
     "start_time": "2023-12-03T11:32:51.264318400Z"
    }
   },
   "id": "f1dd149f7a0b6c2e"
  },
  {
   "cell_type": "code",
   "execution_count": 4,
   "outputs": [],
   "source": [
    "\"\"\"\n",
    "This function is used to visualize the attack_cat column\n",
    "\"\"\"\n",
    "def visualize_attack_cats(data):\n",
    "    import seaborn as sns\n",
    "    import matplotlib.pyplot as plt\n",
    "    plt.figure(figsize=(20,10))\n",
    "    sns.countplot(x=\"attack_cat\", data=data)\n",
    "    plt.show()"
   ],
   "metadata": {
    "collapsed": false,
    "ExecuteTime": {
     "end_time": "2023-12-03T11:32:51.342424700Z",
     "start_time": "2023-12-03T11:32:51.279939600Z"
    }
   },
   "id": "d1a34434fcbd622a"
  },
  {
   "cell_type": "code",
   "execution_count": 5,
   "outputs": [],
   "source": [
    "\"\"\"\n",
    "This function is used to preprocess the numerical columns\n",
    "\"\"\"\n",
    "def preprocess_numerical_cols(df):\n",
    "    numerical_cols = df.select_dtypes(exclude=[\"object\"]).columns\n",
    "    df[numerical_cols] = df[numerical_cols].fillna(0)\n",
    "    return df"
   ],
   "metadata": {
    "collapsed": false,
    "ExecuteTime": {
     "end_time": "2023-12-03T11:32:51.358046Z",
     "start_time": "2023-12-03T11:32:51.295560900Z"
    }
   },
   "id": "37a83d1c37549e84"
  },
  {
   "cell_type": "code",
   "execution_count": 6,
   "outputs": [],
   "source": [
    "\"\"\"\n",
    "This function is used to preprocess the categorical columns\n",
    "\"\"\"\n",
    "def preprocess_categorical_cols(df):\n",
    "    categorical_cols = df.select_dtypes(include=[\"object\"]).columns\n",
    "    categorical_cols = list(categorical_cols)\n",
    "    categorical_cols.remove(\"attack_cat\")\n",
    "    df[categorical_cols] = df[categorical_cols].replace('-', \"None\")\n",
    "    df[categorical_cols] = df[categorical_cols].fillna(\"None\")\n",
    "    return df"
   ],
   "metadata": {
    "collapsed": false,
    "ExecuteTime": {
     "end_time": "2023-12-03T11:32:51.358046Z",
     "start_time": "2023-12-03T11:32:51.311182200Z"
    }
   },
   "id": "4c696a3fae52f5d9"
  },
  {
   "cell_type": "code",
   "execution_count": 7,
   "outputs": [],
   "source": [
    "\"\"\"\n",
    "This function is used to preprocess the data\n",
    "\"\"\"\n",
    "def preprocess_data(df):\n",
    "    df = preprocess_numerical_cols(df)\n",
    "    df = preprocess_categorical_cols(df)\n",
    "    return df"
   ],
   "metadata": {
    "collapsed": false,
    "ExecuteTime": {
     "end_time": "2023-12-03T11:32:51.373667300Z",
     "start_time": "2023-12-03T11:32:51.326803200Z"
    }
   },
   "id": "8b61cf292846c298"
  },
  {
   "cell_type": "code",
   "execution_count": 8,
   "outputs": [],
   "source": [
    "\"\"\"\n",
    "This function is used to one hot encode the categorical columns\n",
    "\"\"\"\n",
    "from sklearn.preprocessing import OneHotEncoder\n",
    "def one_hot_encode_fit_col(data, col):\n",
    "    values = data[col].unique()\n",
    "    for index, v_col in enumerate(values):\n",
    "        values[index] = col+\"_\"+v_col\n",
    "        data[col+\"_\"+v_col] = np.zeros(len(data))\n",
    "    enc = OneHotEncoder(handle_unknown='ignore')\n",
    "    data[values] = enc.fit_transform(data[col].values.reshape(-1,1)).toarray()\n",
    "    data = data.drop([col],axis=1)\n",
    "    return data, enc, values"
   ],
   "metadata": {
    "collapsed": false,
    "ExecuteTime": {
     "end_time": "2023-12-03T11:32:51.436153100Z",
     "start_time": "2023-12-03T11:32:51.342424700Z"
    }
   },
   "id": "5b8c71f283a1d805"
  },
  {
   "cell_type": "code",
   "execution_count": 9,
   "outputs": [],
   "source": [
    "\"\"\"\n",
    "This function is used to one hot encode the categorical columns\n",
    "\"\"\"\n",
    "def one_hot_encode_transform_col(data, col, enc, col_values):\n",
    "    for v_col in col_values:\n",
    "        data[v_col] = np.zeros(len(data))\n",
    "    data[col_values] = enc.transform(data[col].values.reshape(-1,1)).toarray()\n",
    "    data = data.drop([col],axis=1)\n",
    "    return data"
   ],
   "metadata": {
    "collapsed": false,
    "ExecuteTime": {
     "end_time": "2023-12-03T11:32:51.451774400Z",
     "start_time": "2023-12-03T11:32:51.436153100Z"
    }
   },
   "id": "2d17ccb37f258851"
  },
  {
   "cell_type": "code",
   "execution_count": 10,
   "outputs": [],
   "source": [
    "\"\"\"\n",
    "This function is used to label encode the categorical columns\n",
    "\"\"\"\n",
    "def label_encoder_fit_col(data, col):\n",
    "    values = [\"out\"]\n",
    "    values.extend(data[col].unique())\n",
    "    dict_values = {k: v for v, k in enumerate(values)}\n",
    "    #print(dict_values)\n",
    "    data[col] = data[col].apply(lambda x: dict_values[x])\n",
    "    data[col] = data[col].astype(\"int32\")\n",
    "    return data, dict_values"
   ],
   "metadata": {
    "collapsed": false,
    "ExecuteTime": {
     "end_time": "2023-12-03T11:32:51.467395200Z",
     "start_time": "2023-12-03T11:32:51.451774400Z"
    }
   },
   "id": "41573eaaa1d48584"
  },
  {
   "cell_type": "code",
   "execution_count": 11,
   "outputs": [],
   "source": [
    "\"\"\"\n",
    "This function is used to label encode the categorical columns\n",
    "\"\"\"\n",
    "def label_encoder_transform_col(data, col, dict_values):\n",
    "    data[col] = data[col].apply(lambda x: dict_values[x] if x in dict_values else 0)\n",
    "    data[col] = data[col].astype(\"int32\")\n",
    "    return data"
   ],
   "metadata": {
    "collapsed": false,
    "ExecuteTime": {
     "end_time": "2023-12-03T11:32:51.483017500Z",
     "start_time": "2023-12-03T11:32:51.467395200Z"
    }
   },
   "id": "e15aaf128f0f26e9"
  },
  {
   "cell_type": "code",
   "execution_count": 12,
   "outputs": [],
   "source": [
    "\"\"\"\n",
    "This function is used to get the class weights\n",
    "\"\"\"\n",
    "from sklearn.utils import class_weight\n",
    "def get_class_weights(y):\n",
    "    class_weights = class_weight.compute_class_weight('balanced',\n",
    "                                                     classes=np.unique(y),\n",
    "                                                     y=y)\n",
    "    class_weights = {k: v for k,v in enumerate(class_weights)}\n",
    "    return class_weights"
   ],
   "metadata": {
    "collapsed": false,
    "ExecuteTime": {
     "end_time": "2023-12-03T11:32:51.498638500Z",
     "start_time": "2023-12-03T11:32:51.483017500Z"
    }
   },
   "id": "a1f688586efe0a27"
  },
  {
   "cell_type": "code",
   "execution_count": 13,
   "outputs": [
    {
     "name": "stdout",
     "output_type": "stream",
     "text": [
      "WARNING:tensorflow:From c:\\users\\user\\appdata\\local\\programs\\python\\python39\\lib\\site-packages\\keras\\src\\losses.py:2976: The name tf.losses.sparse_softmax_cross_entropy is deprecated. Please use tf.compat.v1.losses.sparse_softmax_cross_entropy instead.\n"
     ]
    }
   ],
   "source": [
    "\"\"\"\n",
    "This function is used to label encode the categorical columns\n",
    "\"\"\"\n",
    "from sklearn.preprocessing import LabelEncoder\n",
    "from tensorflow.keras.utils import to_categorical\n",
    "def label_encode(y,num_classes):\n",
    "    cls_label_encoder = LabelEncoder()\n",
    "    y = cls_label_encoder.fit_transform(y)\n",
    "    y = to_categorical(y, num_classes=num_classes)\n",
    "    return y, cls_label_encoder"
   ],
   "metadata": {
    "collapsed": false,
    "ExecuteTime": {
     "end_time": "2023-12-03T11:32:56.864706900Z",
     "start_time": "2023-12-03T11:32:51.733270100Z"
    }
   },
   "id": "281c446d884e316c"
  },
  {
   "cell_type": "code",
   "execution_count": 14,
   "outputs": [],
   "source": [
    "\"\"\"\n",
    "This function is used to print the scores\n",
    "\"\"\"\n",
    "from sklearn.metrics import accuracy_score, precision_recall_fscore_support,confusion_matrix, classification_report\n",
    "def print_score(y_pred, y_real,cls_label_encoder):\n",
    "    print(\"Accuracy: \", accuracy_score(y_real, y_pred))\n",
    "\n",
    "    print(\"Macro precision_recall_fscore_support (macro) average\")\n",
    "    print(precision_recall_fscore_support(y_real, y_pred, average=\"macro\"))\n",
    "\n",
    "    print(\"Macro precision_recall_fscore_support (micro) average\")\n",
    "    print(precision_recall_fscore_support(y_real, y_pred, average=\"micro\"))\n",
    "\n",
    "    print(\"Macro precision_recall_fscore_support (weighted) average\")\n",
    "    print(precision_recall_fscore_support(y_real, y_pred, average=\"weighted\"))\n",
    "\n",
    "    print(\"Confusion Matrix\")\n",
    "    print(confusion_matrix(y_real, y_pred))\n",
    "\n",
    "    print(\"Classification Report\")\n",
    "    print(classification_report(y_real, y_pred, target_names=cls_label_encoder.classes_))"
   ],
   "metadata": {
    "collapsed": false,
    "ExecuteTime": {
     "end_time": "2023-12-03T11:32:56.911567700Z",
     "start_time": "2023-12-03T11:32:56.864706900Z"
    }
   },
   "id": "91ceadd66f597747"
  },
  {
   "cell_type": "code",
   "execution_count": 15,
   "outputs": [],
   "source": [
    "\"\"\"\n",
    "This function is used to calculate the f1 score\n",
    "\"\"\"\n",
    "import keras.backend as K\n",
    "def f1_score(y_true, y_pred):\n",
    "    true_positives = K.sum(K.round(K.clip(y_true * y_pred, 0, 1)))\n",
    "    possible_positives = K.sum(K.round(K.clip(y_true, 0, 1)))\n",
    "    predicted_positives = K.sum(K.round(K.clip(y_pred, 0, 1)))\n",
    "    precision = true_positives / (predicted_positives + K.epsilon())\n",
    "    recall = true_positives / (possible_positives + K.epsilon())\n",
    "    f1_val = 2*(precision*recall)/(precision+recall+K.epsilon())\n",
    "    return f1_val"
   ],
   "metadata": {
    "collapsed": false,
    "ExecuteTime": {
     "end_time": "2023-12-03T11:32:56.927188700Z",
     "start_time": "2023-12-03T11:32:56.911567700Z"
    }
   },
   "id": "95140021fc57c3d2"
  },
  {
   "cell_type": "code",
   "execution_count": 16,
   "outputs": [],
   "source": [
    "\"\"\"\n",
    "This function is used to min max scale the data\n",
    "\"\"\"\n",
    "from sklearn.preprocessing import MinMaxScaler\n",
    "def min_max_scaler_fit_col(data):\n",
    "    scaler = MinMaxScaler(feature_range=(0,1))\n",
    "    data = scaler.fit_transform(data)\n",
    "    return data"
   ],
   "metadata": {
    "collapsed": false,
    "ExecuteTime": {
     "end_time": "2023-12-03T11:32:56.958431600Z",
     "start_time": "2023-12-03T11:32:56.927188700Z"
    }
   },
   "id": "3b3492a6e732f1ae"
  },
  {
   "cell_type": "code",
   "execution_count": 17,
   "outputs": [],
   "source": [
    "train_df,test_df = load_dataset()"
   ],
   "metadata": {
    "collapsed": false,
    "ExecuteTime": {
     "end_time": "2023-12-03T11:32:57.740971400Z",
     "start_time": "2023-12-03T11:32:56.942810Z"
    }
   },
   "id": "86bffca1873e0de0"
  },
  {
   "cell_type": "code",
   "execution_count": 18,
   "outputs": [],
   "source": [
    "train_df = train_df.drop([\"id\"], axis=1)\n",
    "test_df = test_df.drop([\"id\"], axis=1)"
   ],
   "metadata": {
    "collapsed": false,
    "ExecuteTime": {
     "end_time": "2023-12-03T11:32:57.787835100Z",
     "start_time": "2023-12-03T11:32:57.740971400Z"
    }
   },
   "id": "f5ac691e433095fe"
  },
  {
   "cell_type": "code",
   "execution_count": 19,
   "outputs": [],
   "source": [
    "train_df = data_preprocessing_attack_cat(train_df)\n",
    "test_df = data_preprocessing_attack_cat(test_df)"
   ],
   "metadata": {
    "collapsed": false,
    "ExecuteTime": {
     "end_time": "2023-12-03T11:32:57.897161900Z",
     "start_time": "2023-12-03T11:32:57.787835100Z"
    }
   },
   "id": "b815820669384c19"
  },
  {
   "cell_type": "code",
   "execution_count": 20,
   "outputs": [
    {
     "data": {
      "text/plain": "<Figure size 2000x1000 with 1 Axes>",
      "image/png": "[encoded data removed]"
     },
     "metadata": {},
     "output_type": "display_data"
    }
   ],
   "source": [
    "visualize_attack_cats(train_df)"
   ],
   "metadata": {
    "collapsed": false,
    "ExecuteTime": {
     "end_time": "2023-12-03T11:32:58.332456Z",
     "start_time": "2023-12-03T11:32:57.897161900Z"
    }
   },
   "id": "54efc3cfb999f49a"
  },
  {
   "cell_type": "code",
   "execution_count": 21,
   "outputs": [],
   "source": [
    "train_df = preprocess_data(train_df)\n",
    "test_df = preprocess_data(test_df)"
   ],
   "metadata": {
    "collapsed": false,
    "ExecuteTime": {
     "end_time": "2023-12-03T11:32:58.582372600Z",
     "start_time": "2023-12-03T11:32:58.332456Z"
    }
   },
   "id": "31ea4da2970ece2c"
  },
  {
   "cell_type": "code",
   "execution_count": 22,
   "outputs": [],
   "source": [
    "train_df, dict_values = label_encoder_fit_col(train_df, \"proto\")\n",
    "test_df = label_encoder_transform_col(test_df, \"proto\", dict_values)"
   ],
   "metadata": {
    "collapsed": false,
    "ExecuteTime": {
     "end_time": "2023-12-03T11:32:58.644857200Z",
     "start_time": "2023-12-03T11:32:58.551129900Z"
    }
   },
   "id": "a4de8dd0041bb0fb"
  },
  {
   "cell_type": "code",
   "execution_count": 23,
   "outputs": [],
   "source": [
    "train_df, dict_values = label_encoder_fit_col(train_df, \"service\")\n",
    "test_df = label_encoder_transform_col(test_df, \"service\", dict_values)"
   ],
   "metadata": {
    "collapsed": false,
    "ExecuteTime": {
     "end_time": "2023-12-03T11:32:58.708413400Z",
     "start_time": "2023-12-03T11:32:58.629236200Z"
    }
   },
   "id": "6fa7d186070c89ad"
  },
  {
   "cell_type": "code",
   "execution_count": 24,
   "outputs": [],
   "source": [
    "train_df, dict_values = label_encoder_fit_col(train_df, \"state\")\n",
    "test_df = label_encoder_transform_col(test_df, \"state\", dict_values)"
   ],
   "metadata": {
    "collapsed": false,
    "ExecuteTime": {
     "end_time": "2023-12-03T11:32:58.817759100Z",
     "start_time": "2023-12-03T11:32:58.708413400Z"
    }
   },
   "id": "26e281226a37d81b"
  },
  {
   "cell_type": "code",
   "execution_count": 25,
   "outputs": [],
   "source": [
    "train_df = train_df.sample(frac=1).reset_index(drop=True)"
   ],
   "metadata": {
    "collapsed": false,
    "ExecuteTime": {
     "end_time": "2023-12-03T11:32:58.927109Z",
     "start_time": "2023-12-03T11:32:58.802137500Z"
    }
   },
   "id": "6eb4b72491b5c60c"
  },
  {
   "cell_type": "code",
   "execution_count": 26,
   "outputs": [],
   "source": [
    "X_train = train_df.drop([\"label\", \"attack_cat\"], axis=1)\n",
    "y_train = train_df[\"attack_cat\"]\n",
    "X_test = test_df.drop([\"label\", \"attack_cat\"], axis=1)\n",
    "y_test = test_df[\"attack_cat\"]"
   ],
   "metadata": {
    "collapsed": false,
    "ExecuteTime": {
     "end_time": "2023-12-03T11:32:58.973972200Z",
     "start_time": "2023-12-03T11:32:58.927109Z"
    }
   },
   "id": "633eec59c0f8f4ba"
  },
  {
   "cell_type": "code",
   "execution_count": 27,
   "outputs": [],
   "source": [
    "X_train = min_max_scaler_fit_col(X_train)\n",
    "X_test = min_max_scaler_fit_col(X_test)"
   ],
   "metadata": {
    "collapsed": false,
    "ExecuteTime": {
     "end_time": "2023-12-03T11:32:59.120352500Z",
     "start_time": "2023-12-03T11:32:58.973972200Z"
    }
   },
   "id": "95b15ac5806a71d1"
  },
  {
   "cell_type": "code",
   "execution_count": 28,
   "outputs": [],
   "source": [
    "# X_train = X_train.reshape((X_train.shape[0], X_train.shape[1], 1))\n",
    "# X_test = X_test.reshape((X_test.shape[0], X_test.shape[1], 1))"
   ],
   "metadata": {
    "collapsed": false,
    "ExecuteTime": {
     "end_time": "2023-12-03T11:32:59.135975Z",
     "start_time": "2023-12-03T11:32:59.120352500Z"
    }
   },
   "id": "1bccc784b652de47"
  },
  {
   "cell_type": "code",
   "execution_count": 29,
   "outputs": [],
   "source": [
    "class_weights = get_class_weights(y_train)"
   ],
   "metadata": {
    "collapsed": false,
    "ExecuteTime": {
     "end_time": "2023-12-03T11:32:59.272441600Z",
     "start_time": "2023-12-03T11:32:59.135975Z"
    }
   },
   "id": "9cec7ca3b9397c4d"
  },
  {
   "cell_type": "code",
   "execution_count": 30,
   "outputs": [],
   "source": [
    "y_train, cls_label_encoder = label_encode(y_train, len(np.unique(y_train)))\n",
    "y_test, _ = label_encode(y_test, len(np.unique(y_test)))"
   ],
   "metadata": {
    "collapsed": false,
    "ExecuteTime": {
     "end_time": "2023-12-03T11:32:59.428704100Z",
     "start_time": "2023-12-03T11:32:59.272441600Z"
    }
   },
   "id": "b3baad3bf5c2bdb4"
  },
  {
   "cell_type": "code",
   "execution_count": 31,
   "outputs": [
    {
     "data": {
      "text/plain": "array(['Analysis', 'Backdoor', 'DoS', 'Exploits', 'Fuzzers', 'Generic',\n       'Normal', 'Reconnaissance', 'Shellcode', 'Worms'], dtype=object)"
     },
     "execution_count": 31,
     "metadata": {},
     "output_type": "execute_result"
    }
   ],
   "source": [
    "cls_label_encoder.classes_"
   ],
   "metadata": {
    "collapsed": false,
    "ExecuteTime": {
     "end_time": "2023-12-03T11:32:59.444262900Z",
     "start_time": "2023-12-03T11:32:59.428704100Z"
    }
   },
   "id": "134db82579b05c19"
  },
  {
   "cell_type": "code",
   "execution_count": 32,
   "outputs": [
    {
     "name": "stdout",
     "output_type": "stream",
     "text": [
      "(175341, 10)\n",
      "(82332, 10)\n"
     ]
    }
   ],
   "source": [
    "print(y_train.shape)\n",
    "print(y_test.shape)"
   ],
   "metadata": {
    "collapsed": false,
    "ExecuteTime": {
     "end_time": "2023-12-03T11:33:01.618666200Z",
     "start_time": "2023-12-03T11:33:01.587458700Z"
    }
   },
   "id": "db36ee6b7cf2b7c"
  },
  {
   "cell_type": "code",
   "execution_count": 33,
   "outputs": [],
   "source": [
    "X_train_reshaped = X_train.reshape(X_train.shape[0], -1)  # Reshape to (175341, 42)\n",
    "X_test_reshaped = X_test.reshape(X_test.shape[0], -1) # Reshape to (175341, 42)"
   ],
   "metadata": {
    "collapsed": false,
    "ExecuteTime": {
     "end_time": "2023-12-03T11:33:01.949450200Z",
     "start_time": "2023-12-03T11:33:01.918150Z"
    }
   },
   "id": "fe20a1ad80a63138"
  },
  {
   "cell_type": "code",
   "execution_count": 34,
   "outputs": [
    {
     "name": "stdout",
     "output_type": "stream",
     "text": [
      "(175341, 42)\n",
      "(82332, 42)\n"
     ]
    }
   ],
   "source": [
    "print(X_train.shape)\n",
    "print(X_test.shape)"
   ],
   "metadata": {
    "collapsed": false,
    "ExecuteTime": {
     "end_time": "2023-12-03T11:33:02.687720500Z",
     "start_time": "2023-12-03T11:33:02.625230300Z"
    }
   },
   "id": "5a5ce7bc7a996496"
  },
  {
   "cell_type": "code",
   "execution_count": 35,
   "outputs": [],
   "source": [
    "\"\"\"\n",
    "This function is used to create the ANN model\n",
    "\"\"\"\n",
    "from keras.layers import Dense, Dropout, BatchNormalization\n",
    "from keras.models import Sequential\n",
    "def create_ANN_model(input_shape, activation, dropout_rate, num_classes):\n",
    "    model = Sequential()\n",
    "    model.add(Dense(256, input_shape=input_shape, activation=activation))\n",
    "    model.add(Dropout(dropout_rate))\n",
    "    model.add(BatchNormalization())\n",
    "    model.add(Dense(128, activation=activation))\n",
    "    model.add(Dropout(dropout_rate))\n",
    "    model.add(BatchNormalization())\n",
    "    model.add(Dense(64, activation=activation))\n",
    "    model.add(Dropout(dropout_rate))\n",
    "    model.add(BatchNormalization())\n",
    "    model.add(Dense(64, activation=activation))\n",
    "    model.add(Dropout(dropout_rate))\n",
    "    model.add(BatchNormalization())\n",
    "    model.add(Dense(32, activation=activation))\n",
    "    model.add(Dropout(dropout_rate))\n",
    "    model.add(Dense(num_classes, activation='softmax'))\n",
    "    return model"
   ],
   "metadata": {
    "collapsed": false,
    "ExecuteTime": {
     "end_time": "2023-12-03T11:33:06.939632Z",
     "start_time": "2023-12-03T11:33:06.892687100Z"
    }
   },
   "id": "ee178e099200f7ae"
  },
  {
   "cell_type": "code",
   "execution_count": 36,
   "outputs": [],
   "source": [
    "input_shape = X_train.shape[1:]"
   ],
   "metadata": {
    "collapsed": false,
    "ExecuteTime": {
     "end_time": "2023-12-03T11:33:08.759165400Z",
     "start_time": "2023-12-03T11:33:08.727869100Z"
    }
   },
   "id": "60d650ab1f40c019"
  },
  {
   "cell_type": "code",
   "execution_count": 37,
   "outputs": [],
   "source": [
    "from sklearn.model_selection import ParameterSampler\n",
    "import tensorflow as tf\n",
    "def tune_hyperparams():\n",
    "    # use random serch to tune hyperparameters\n",
    "    params_grid = {\n",
    "        'batch_size': [32, 64, 128],\n",
    "        'epochs': [10, 20, 30],\n",
    "        'learning_rate': [0.0001, 0.001, 0.01],\n",
    "        'dropout_rate': [0.2, 0.25, 0.3],\n",
    "        'activation': ['relu', 'leaky_relu', 'tan_h'],\n",
    "        'optimizer': ['adam', 'sgd', 'rmsprop']\n",
    "    }\n",
    "    params_list = list(ParameterSampler(params_grid, n_iter=10, random_state=42))\n",
    "    best_params = None\n",
    "    for params in params_list:\n",
    "        print(\"Trying Out : \",params)\n",
    "        model =  create_ANN_model(input_shape, activation=params['activation'], dropout_rate=params['dropout_rate'], num_classes=10)\n",
    "        if params['optimizer'] == 'adam':\n",
    "            optimizer = tf.keras.optimizers.Adam(learning_rate=params['learning_rate'])\n",
    "        elif params['optimizer'] == 'sgd':\n",
    "            optimizer = tf.keras.optimizers.SGD(learning_rate=params['learning_rate'])\n",
    "        else:\n",
    "            optimizer = tf.keras.optimizers.RMSprop(learning_rate=params['learning_rate'])\n",
    "        model.compile(optimizer=optimizer, loss='binary_crossentropy', metrics=['accuracy'])\n",
    "        early_stopping = EarlyStopping(patience=10, verbose=1, restore_best_weights=True, monitor='val_loss')\n",
    "        reduce_lr = ReduceLROnPlateau(patience=3, verbose=1, monitor='val_loss', factor=0.25, min_lr=0.000005)\n",
    "        callbacks = [early_stopping, reduce_lr]\n",
    "        history = model.fit(X_train, y_train, epochs=params['epochs'], batch_size=params['batch_size'], validation_split=0.2, callbacks=callbacks)\n",
    "        score = model.evaluate(X_test, y_test, verbose=0)\n",
    "        if best_params is None:\n",
    "            best_params = params\n",
    "            best_score = score\n",
    "        else:\n",
    "            if score[1] > best_score[1]:\n",
    "                best_params = params\n",
    "                best_score = score\n",
    "    print(\"Best Score : \", best_score)\n",
    "    print(\"Best Params : \", best_params)\n",
    "    "
   ],
   "metadata": {
    "collapsed": false,
    "ExecuteTime": {
     "end_time": "2023-12-03T11:33:09.062141100Z",
     "start_time": "2023-12-03T11:33:09.030846700Z"
    }
   },
   "id": "7390e127021601f2"
  },
  {
   "cell_type": "code",
   "execution_count": 41,
   "outputs": [],
   "source": [
    "# tune_hyperparams()"
   ],
   "metadata": {
    "collapsed": false,
    "ExecuteTime": {
     "end_time": "2023-12-03T11:33:27.530505800Z",
     "start_time": "2023-12-03T11:33:27.468020600Z"
    }
   },
   "id": "a6d0494df9ed2556"
  },
  {
   "cell_type": "code",
   "execution_count": 98,
   "outputs": [],
   "source": [
    "ann_clf = create_ANN_model(input_shape, activation='relu', dropout_rate=0.2, num_classes=10)"
   ],
   "metadata": {
    "collapsed": false,
    "ExecuteTime": {
     "end_time": "2023-12-02T20:13:07.631906Z",
     "start_time": "2023-12-02T20:13:07.491310400Z"
    }
   },
   "id": "b01567220c78a7a3"
  },
  {
   "cell_type": "code",
   "execution_count": 99,
   "outputs": [],
   "source": [
    "from tensorflow.keras.metrics import Recall, Precision\n",
    "import tensorflow.keras as keras\n",
    "ann_clf.compile(optimizer=keras.optimizers.Adam(learning_rate=0.001), loss='binary_crossentropy', \n",
    "                 metrics=['accuracy', Precision(), Recall(), f1_score])"
   ],
   "metadata": {
    "collapsed": false,
    "ExecuteTime": {
     "end_time": "2023-12-02T20:13:07.663155200Z",
     "start_time": "2023-12-02T20:13:07.631906Z"
    }
   },
   "id": "5ae1672dce90c0e8"
  },
  {
   "cell_type": "code",
   "execution_count": 39,
   "outputs": [],
   "source": [
    "from keras.callbacks import ModelCheckpoint, EarlyStopping, ReduceLROnPlateau\n",
    "\n",
    "model_weights_file_path = \"ann_mul_clf.h5\"\n",
    "checkpoint = ModelCheckpoint(filepath=model_weights_file_path, monitor=\"val_accuracy\",\n",
    "                             verbose=1, save_best_only=True, mode=\"max\", save_weights_only=True)\n",
    "early_stopping = EarlyStopping(monitor=\"val_accuracy\", mode=\"max\", verbose=1, patience=20,restore_best_weights=True)\n",
    "lr_reduce = ReduceLROnPlateau(monitor='val_accuracy', factor=0.5, patience=5, \n",
    "                              verbose=1, mode='max', min_delta=0.0001, cooldown=0)\n",
    "\n",
    "call_backs = [checkpoint, early_stopping, lr_reduce]"
   ],
   "metadata": {
    "collapsed": false,
    "ExecuteTime": {
     "end_time": "2023-12-03T11:33:17.862162400Z",
     "start_time": "2023-12-03T11:33:17.830843700Z"
    }
   },
   "id": "e222c4bc4fab5c42"
  },
  {
   "cell_type": "code",
   "execution_count": 101,
   "outputs": [
    {
     "name": "stdout",
     "output_type": "stream",
     "text": [
      "Model: \"sequential_4\"\n",
      "_________________________________________________________________\n",
      " Layer (type)                Output Shape              Param #   \n",
      "=================================================================\n",
      " dense_19 (Dense)            (None, 256)               11008     \n",
      "                                                                 \n",
      " dropout_15 (Dropout)        (None, 256)               0         \n",
      "                                                                 \n",
      " batch_normalization_12 (Ba  (None, 256)               1024      \n",
      " tchNormalization)                                               \n",
      "                                                                 \n",
      " dense_20 (Dense)            (None, 128)               32896     \n",
      "                                                                 \n",
      " dropout_16 (Dropout)        (None, 128)               0         \n",
      "                                                                 \n",
      " batch_normalization_13 (Ba  (None, 128)               512       \n",
      " tchNormalization)                                               \n",
      "                                                                 \n",
      " dense_21 (Dense)            (None, 64)                8256      \n",
      "                                                                 \n",
      " dropout_17 (Dropout)        (None, 64)                0         \n",
      "                                                                 \n",
      " batch_normalization_14 (Ba  (None, 64)                256       \n",
      " tchNormalization)                                               \n",
      "                                                                 \n",
      " dense_22 (Dense)            (None, 64)                4160      \n",
      "                                                                 \n",
      " dropout_18 (Dropout)        (None, 64)                0         \n",
      "                                                                 \n",
      " batch_normalization_15 (Ba  (None, 64)                256       \n",
      " tchNormalization)                                               \n",
      "                                                                 \n",
      " dense_23 (Dense)            (None, 32)                2080      \n",
      "                                                                 \n",
      " dropout_19 (Dropout)        (None, 32)                0         \n",
      "                                                                 \n",
      " dense_24 (Dense)            (None, 10)                330       \n",
      "                                                                 \n",
      "=================================================================\n",
      "Total params: 60778 (237.41 KB)\n",
      "Trainable params: 59754 (233.41 KB)\n",
      "Non-trainable params: 1024 (4.00 KB)\n",
      "_________________________________________________________________\n"
     ]
    }
   ],
   "source": [
    "ann_clf.summary()"
   ],
   "metadata": {
    "collapsed": false,
    "ExecuteTime": {
     "end_time": "2023-12-02T20:13:07.772471700Z",
     "start_time": "2023-12-02T20:13:07.678745200Z"
    }
   },
   "id": "7b88e8a70230a83d"
  },
  {
   "cell_type": "code",
   "execution_count": 102,
   "outputs": [
    {
     "name": "stdout",
     "output_type": "stream",
     "text": [
      "Epoch 1/50\n",
      "WARNING:tensorflow:From c:\\users\\user\\appdata\\local\\programs\\python\\python39\\lib\\site-packages\\keras\\src\\utils\\tf_utils.py:492: The name tf.ragged.RaggedTensorValue is deprecated. Please use tf.compat.v1.ragged.RaggedTensorValue instead.\n",
      "WARNING:tensorflow:From c:\\users\\user\\appdata\\local\\programs\\python\\python39\\lib\\site-packages\\keras\\src\\engine\\base_layer_utils.py:384: The name tf.executing_eagerly_outside_functions is deprecated. Please use tf.compat.v1.executing_eagerly_outside_functions instead.\n",
      "2175/2192 [============================>.] - ETA: 0s - loss: 0.2507 - accuracy: 0.5578 - precision_3: 0.8446 - recall_3: 0.4607 - f1_score: 0.5839\n",
      "Epoch 1: val_accuracy improved from -inf to 0.63341, saving model to ann_mul_clf.h5\n",
      "2192/2192 [==============================] - 10s 4ms/step - loss: 0.2502 - accuracy: 0.5580 - precision_3: 0.8443 - recall_3: 0.4611 - f1_score: 0.5842 - val_loss: 0.1414 - val_accuracy: 0.6334 - val_precision_3: 0.9117 - val_recall_3: 0.5692 - val_f1_score: 0.6990 - lr: 0.0010\n",
      "Epoch 2/50\n",
      "2183/2192 [============================>.] - ETA: 0s - loss: 0.2025 - accuracy: 0.6157 - precision_3: 0.8283 - recall_3: 0.5517 - f1_score: 0.6610\n",
      "Epoch 2: val_accuracy improved from 0.63341 to 0.63723, saving model to ann_mul_clf.h5\n",
      "2192/2192 [==============================] - 8s 3ms/step - loss: 0.2024 - accuracy: 0.6155 - precision_3: 0.8280 - recall_3: 0.5517 - f1_score: 0.6609 - val_loss: 0.1333 - val_accuracy: 0.6372 - val_precision_3: 0.7907 - val_recall_3: 0.6154 - val_f1_score: 0.6912 - lr: 0.0010\n",
      "Epoch 3/50\n",
      "2174/2192 [============================>.] - ETA: 0s - loss: 0.1911 - accuracy: 0.6377 - precision_3: 0.8131 - recall_3: 0.5874 - f1_score: 0.6812\n",
      "Epoch 3: val_accuracy improved from 0.63723 to 0.63960, saving model to ann_mul_clf.h5\n",
      "2192/2192 [==============================] - 8s 4ms/step - loss: 0.1911 - accuracy: 0.6376 - precision_3: 0.8128 - recall_3: 0.5874 - f1_score: 0.6811 - val_loss: 0.1352 - val_accuracy: 0.6396 - val_precision_3: 0.7847 - val_recall_3: 0.6139 - val_f1_score: 0.6880 - lr: 0.0010\n",
      "Epoch 4/50\n",
      "2179/2192 [============================>.] - ETA: 0s - loss: 0.1887 - accuracy: 0.6378 - precision_3: 0.8075 - recall_3: 0.5925 - f1_score: 0.6826\n",
      "Epoch 4: val_accuracy improved from 0.63960 to 0.65671, saving model to ann_mul_clf.h5\n",
      "2192/2192 [==============================] - 7s 3ms/step - loss: 0.1885 - accuracy: 0.6379 - precision_3: 0.8077 - recall_3: 0.5926 - f1_score: 0.6828 - val_loss: 0.1280 - val_accuracy: 0.6567 - val_precision_3: 0.8448 - val_recall_3: 0.6105 - val_f1_score: 0.7075 - lr: 0.0010\n",
      "Epoch 5/50\n",
      "2176/2192 [============================>.] - ETA: 0s - loss: 0.1826 - accuracy: 0.6459 - precision_3: 0.8053 - recall_3: 0.6048 - f1_score: 0.6901\n",
      "Epoch 5: val_accuracy did not improve from 0.65671\n",
      "2192/2192 [==============================] - 8s 4ms/step - loss: 0.1829 - accuracy: 0.6457 - precision_3: 0.8051 - recall_3: 0.6048 - f1_score: 0.6900 - val_loss: 0.1360 - val_accuracy: 0.6440 - val_precision_3: 0.7876 - val_recall_3: 0.6249 - val_f1_score: 0.6959 - lr: 0.0010\n",
      "Epoch 6/50\n",
      "2189/2192 [============================>.] - ETA: 0s - loss: 0.1821 - accuracy: 0.6480 - precision_3: 0.8050 - recall_3: 0.6078 - f1_score: 0.6918\n",
      "Epoch 6: val_accuracy improved from 0.65671 to 0.68288, saving model to ann_mul_clf.h5\n",
      "2192/2192 [==============================] - 8s 3ms/step - loss: 0.1822 - accuracy: 0.6481 - precision_3: 0.8050 - recall_3: 0.6078 - f1_score: 0.6919 - val_loss: 0.1365 - val_accuracy: 0.6829 - val_precision_3: 0.7748 - val_recall_3: 0.6206 - val_f1_score: 0.6883 - lr: 0.0010\n",
      "Epoch 7/50\n",
      "2173/2192 [============================>.] - ETA: 0s - loss: 0.1787 - accuracy: 0.6493 - precision_3: 0.8011 - recall_3: 0.6123 - f1_score: 0.6934\n",
      "Epoch 7: val_accuracy did not improve from 0.68288\n",
      "2192/2192 [==============================] - 8s 3ms/step - loss: 0.1782 - accuracy: 0.6494 - precision_3: 0.8011 - recall_3: 0.6125 - f1_score: 0.6936 - val_loss: 0.1217 - val_accuracy: 0.6527 - val_precision_3: 0.7959 - val_recall_3: 0.6351 - val_f1_score: 0.7055 - lr: 0.0010\n",
      "Epoch 8/50\n",
      "2191/2192 [============================>.] - ETA: 0s - loss: 0.1778 - accuracy: 0.6507 - precision_3: 0.7986 - recall_3: 0.6140 - f1_score: 0.6935\n",
      "Epoch 8: val_accuracy did not improve from 0.68288\n",
      "2192/2192 [==============================] - 8s 4ms/step - loss: 0.1778 - accuracy: 0.6507 - precision_3: 0.7986 - recall_3: 0.6140 - f1_score: 0.6935 - val_loss: 0.1319 - val_accuracy: 0.6389 - val_precision_3: 0.7832 - val_recall_3: 0.6207 - val_f1_score: 0.6916 - lr: 0.0010\n",
      "Epoch 9/50\n",
      "2182/2192 [============================>.] - ETA: 0s - loss: 0.1772 - accuracy: 0.6482 - precision_3: 0.8001 - recall_3: 0.6154 - f1_score: 0.6950\n",
      "Epoch 9: val_accuracy did not improve from 0.68288\n",
      "2192/2192 [==============================] - 8s 3ms/step - loss: 0.1776 - accuracy: 0.6481 - precision_3: 0.8000 - recall_3: 0.6153 - f1_score: 0.6949 - val_loss: 0.1290 - val_accuracy: 0.6385 - val_precision_3: 0.8008 - val_recall_3: 0.6173 - val_f1_score: 0.6962 - lr: 0.0010\n",
      "Epoch 10/50\n",
      "2175/2192 [============================>.] - ETA: 0s - loss: 0.1771 - accuracy: 0.6493 - precision_3: 0.8025 - recall_3: 0.6154 - f1_score: 0.6960\n",
      "Epoch 10: val_accuracy did not improve from 0.68288\n",
      "2192/2192 [==============================] - 8s 4ms/step - loss: 0.1770 - accuracy: 0.6492 - precision_3: 0.8023 - recall_3: 0.6154 - f1_score: 0.6959 - val_loss: 0.1248 - val_accuracy: 0.6478 - val_precision_3: 0.7949 - val_recall_3: 0.6312 - val_f1_score: 0.7028 - lr: 0.0010\n",
      "Epoch 11/50\n",
      "2179/2192 [============================>.] - ETA: 0s - loss: 0.1743 - accuracy: 0.6543 - precision_3: 0.8002 - recall_3: 0.6176 - f1_score: 0.6965\n",
      "Epoch 11: val_accuracy did not improve from 0.68288\n",
      "\n",
      "Epoch 11: ReduceLROnPlateau reducing learning rate to 0.0005000000237487257.\n",
      "2192/2192 [==============================] - 8s 4ms/step - loss: 0.1743 - accuracy: 0.6542 - precision_3: 0.8001 - recall_3: 0.6176 - f1_score: 0.6965 - val_loss: 0.1303 - val_accuracy: 0.6374 - val_precision_3: 0.7756 - val_recall_3: 0.6211 - val_f1_score: 0.6890 - lr: 0.0010\n",
      "Epoch 12/50\n",
      "2187/2192 [============================>.] - ETA: 0s - loss: 0.1696 - accuracy: 0.6544 - precision_3: 0.7986 - recall_3: 0.6236 - f1_score: 0.6997\n",
      "Epoch 12: val_accuracy did not improve from 0.68288\n",
      "2192/2192 [==============================] - 8s 4ms/step - loss: 0.1695 - accuracy: 0.6545 - precision_3: 0.7986 - recall_3: 0.6236 - f1_score: 0.6998 - val_loss: 0.1218 - val_accuracy: 0.6535 - val_precision_3: 0.7933 - val_recall_3: 0.6388 - val_f1_score: 0.7068 - lr: 5.0000e-04\n",
      "Epoch 13/50\n",
      "2183/2192 [============================>.] - ETA: 0s - loss: 0.1698 - accuracy: 0.6568 - precision_3: 0.8011 - recall_3: 0.6232 - f1_score: 0.7004\n",
      "Epoch 13: val_accuracy did not improve from 0.68288\n",
      "2192/2192 [==============================] - 8s 4ms/step - loss: 0.1699 - accuracy: 0.6567 - precision_3: 0.8012 - recall_3: 0.6231 - f1_score: 0.7004 - val_loss: 0.1214 - val_accuracy: 0.6528 - val_precision_3: 0.8013 - val_recall_3: 0.6332 - val_f1_score: 0.7064 - lr: 5.0000e-04\n",
      "Epoch 14/50\n",
      "2184/2192 [============================>.] - ETA: 0s - loss: 0.1698 - accuracy: 0.6567 - precision_3: 0.7996 - recall_3: 0.6244 - f1_score: 0.7006\n",
      "Epoch 14: val_accuracy did not improve from 0.68288\n",
      "2192/2192 [==============================] - 8s 4ms/step - loss: 0.1700 - accuracy: 0.6567 - precision_3: 0.7997 - recall_3: 0.6244 - f1_score: 0.7006 - val_loss: 0.1222 - val_accuracy: 0.6551 - val_precision_3: 0.7969 - val_recall_3: 0.6370 - val_f1_score: 0.7071 - lr: 5.0000e-04\n",
      "Epoch 15/50\n",
      "2180/2192 [============================>.] - ETA: 0s - loss: 0.1684 - accuracy: 0.6597 - precision_3: 0.8070 - recall_3: 0.6279 - f1_score: 0.7056\n",
      "Epoch 15: val_accuracy did not improve from 0.68288\n",
      "2192/2192 [==============================] - 8s 4ms/step - loss: 0.1684 - accuracy: 0.6598 - precision_3: 0.8069 - recall_3: 0.6279 - f1_score: 0.7056 - val_loss: 0.1208 - val_accuracy: 0.6635 - val_precision_3: 0.7915 - val_recall_3: 0.6380 - val_f1_score: 0.7056 - lr: 5.0000e-04\n",
      "Epoch 16/50\n",
      "2177/2192 [============================>.] - ETA: 0s - loss: 0.1674 - accuracy: 0.6654 - precision_3: 0.8068 - recall_3: 0.6307 - f1_score: 0.7073\n",
      "Epoch 16: val_accuracy did not improve from 0.68288\n",
      "\n",
      "Epoch 16: ReduceLROnPlateau reducing learning rate to 0.0002500000118743628.\n",
      "2192/2192 [==============================] - 8s 4ms/step - loss: 0.1673 - accuracy: 0.6655 - precision_3: 0.8069 - recall_3: 0.6307 - f1_score: 0.7073 - val_loss: 0.1215 - val_accuracy: 0.6540 - val_precision_3: 0.8022 - val_recall_3: 0.6359 - val_f1_score: 0.7085 - lr: 5.0000e-04\n",
      "Epoch 17/50\n",
      "2177/2192 [============================>.] - ETA: 0s - loss: 0.1672 - accuracy: 0.6632 - precision_3: 0.8089 - recall_3: 0.6331 - f1_score: 0.7097\n",
      "Epoch 17: val_accuracy did not improve from 0.68288\n",
      "2192/2192 [==============================] - 8s 4ms/step - loss: 0.1672 - accuracy: 0.6632 - precision_3: 0.8087 - recall_3: 0.6330 - f1_score: 0.7095 - val_loss: 0.1221 - val_accuracy: 0.6562 - val_precision_3: 0.7943 - val_recall_3: 0.6383 - val_f1_score: 0.7070 - lr: 2.5000e-04\n",
      "Epoch 18/50\n",
      "2186/2192 [============================>.] - ETA: 0s - loss: 0.1665 - accuracy: 0.6613 - precision_3: 0.8028 - recall_3: 0.6325 - f1_score: 0.7069\n",
      "Epoch 18: val_accuracy improved from 0.68288 to 0.70028, saving model to ann_mul_clf.h5\n",
      "2192/2192 [==============================] - 8s 4ms/step - loss: 0.1666 - accuracy: 0.6613 - precision_3: 0.8028 - recall_3: 0.6325 - f1_score: 0.7069 - val_loss: 0.1194 - val_accuracy: 0.7003 - val_precision_3: 0.7994 - val_recall_3: 0.6430 - val_f1_score: 0.7118 - lr: 2.5000e-04\n",
      "Epoch 19/50\n",
      "2180/2192 [============================>.] - ETA: 0s - loss: 0.1641 - accuracy: 0.6647 - precision_3: 0.8117 - recall_3: 0.6358 - f1_score: 0.7124\n",
      "Epoch 19: val_accuracy did not improve from 0.70028\n",
      "2192/2192 [==============================] - 8s 4ms/step - loss: 0.1642 - accuracy: 0.6647 - precision_3: 0.8117 - recall_3: 0.6358 - f1_score: 0.7124 - val_loss: 0.1213 - val_accuracy: 0.6575 - val_precision_3: 0.7966 - val_recall_3: 0.6416 - val_f1_score: 0.7099 - lr: 2.5000e-04\n",
      "Epoch 20/50\n",
      "2181/2192 [============================>.] - ETA: 0s - loss: 0.1645 - accuracy: 0.6649 - precision_3: 0.8072 - recall_3: 0.6360 - f1_score: 0.7109\n",
      "Epoch 20: val_accuracy did not improve from 0.70028\n",
      "2192/2192 [==============================] - 8s 4ms/step - loss: 0.1645 - accuracy: 0.6650 - precision_3: 0.8074 - recall_3: 0.6362 - f1_score: 0.7110 - val_loss: 0.1193 - val_accuracy: 0.6605 - val_precision_3: 0.8030 - val_recall_3: 0.6420 - val_f1_score: 0.7126 - lr: 2.5000e-04\n",
      "Epoch 21/50\n",
      "2175/2192 [============================>.] - ETA: 0s - loss: 0.1635 - accuracy: 0.6642 - precision_3: 0.8138 - recall_3: 0.6348 - f1_score: 0.7126\n",
      "Epoch 21: val_accuracy did not improve from 0.70028\n",
      "2192/2192 [==============================] - 8s 4ms/step - loss: 0.1639 - accuracy: 0.6644 - precision_3: 0.8140 - recall_3: 0.6349 - f1_score: 0.7128 - val_loss: 0.1197 - val_accuracy: 0.6592 - val_precision_3: 0.8146 - val_recall_3: 0.6398 - val_f1_score: 0.7157 - lr: 2.5000e-04\n",
      "Epoch 22/50\n",
      "2174/2192 [============================>.] - ETA: 0s - loss: 0.1649 - accuracy: 0.6655 - precision_3: 0.8187 - recall_3: 0.6344 - f1_score: 0.7142\n",
      "Epoch 22: val_accuracy did not improve from 0.70028\n",
      "2192/2192 [==============================] - 8s 3ms/step - loss: 0.1648 - accuracy: 0.6653 - precision_3: 0.8185 - recall_3: 0.6343 - f1_score: 0.7141 - val_loss: 0.1212 - val_accuracy: 0.6578 - val_precision_3: 0.7990 - val_recall_3: 0.6401 - val_f1_score: 0.7099 - lr: 2.5000e-04\n",
      "Epoch 23/50\n",
      "2180/2192 [============================>.] - ETA: 0s - loss: 0.1619 - accuracy: 0.6702 - precision_3: 0.8211 - recall_3: 0.6375 - f1_score: 0.7170\n",
      "Epoch 23: val_accuracy did not improve from 0.70028\n",
      "\n",
      "Epoch 23: ReduceLROnPlateau reducing learning rate to 0.0001250000059371814.\n",
      "2192/2192 [==============================] - 7s 3ms/step - loss: 0.1619 - accuracy: 0.6702 - precision_3: 0.8213 - recall_3: 0.6376 - f1_score: 0.7172 - val_loss: 0.1192 - val_accuracy: 0.6772 - val_precision_3: 0.8272 - val_recall_3: 0.6569 - val_f1_score: 0.7313 - lr: 2.5000e-04\n",
      "Epoch 24/50\n",
      "2182/2192 [============================>.] - ETA: 0s - loss: 0.1619 - accuracy: 0.6683 - precision_3: 0.8242 - recall_3: 0.6417 - f1_score: 0.7209\n",
      "Epoch 24: val_accuracy did not improve from 0.70028\n",
      "2192/2192 [==============================] - 7s 3ms/step - loss: 0.1620 - accuracy: 0.6682 - precision_3: 0.8243 - recall_3: 0.6416 - f1_score: 0.7209 - val_loss: 0.1194 - val_accuracy: 0.6771 - val_precision_3: 0.8247 - val_recall_3: 0.6586 - val_f1_score: 0.7314 - lr: 1.2500e-04\n",
      "Epoch 25/50\n",
      "2177/2192 [============================>.] - ETA: 0s - loss: 0.1610 - accuracy: 0.6689 - precision_3: 0.8247 - recall_3: 0.6412 - f1_score: 0.7207\n",
      "Epoch 25: val_accuracy did not improve from 0.70028\n",
      "2192/2192 [==============================] - 8s 3ms/step - loss: 0.1609 - accuracy: 0.6689 - precision_3: 0.8246 - recall_3: 0.6412 - f1_score: 0.7206 - val_loss: 0.1192 - val_accuracy: 0.6775 - val_precision_3: 0.8252 - val_recall_3: 0.6578 - val_f1_score: 0.7311 - lr: 1.2500e-04\n",
      "Epoch 26/50\n",
      "2189/2192 [============================>.] - ETA: 0s - loss: 0.1597 - accuracy: 0.6704 - precision_3: 0.8274 - recall_3: 0.6430 - f1_score: 0.7230\n",
      "Epoch 26: val_accuracy did not improve from 0.70028\n",
      "2192/2192 [==============================] - 8s 4ms/step - loss: 0.1597 - accuracy: 0.6704 - precision_3: 0.8274 - recall_3: 0.6431 - f1_score: 0.7230 - val_loss: 0.1177 - val_accuracy: 0.6779 - val_precision_3: 0.8249 - val_recall_3: 0.6589 - val_f1_score: 0.7317 - lr: 1.2500e-04\n",
      "Epoch 27/50\n",
      "2188/2192 [============================>.] - ETA: 0s - loss: 0.1604 - accuracy: 0.6717 - precision_3: 0.8280 - recall_3: 0.6434 - f1_score: 0.7235\n",
      "Epoch 27: val_accuracy did not improve from 0.70028\n",
      "2192/2192 [==============================] - 8s 3ms/step - loss: 0.1605 - accuracy: 0.6717 - precision_3: 0.8280 - recall_3: 0.6433 - f1_score: 0.7235 - val_loss: 0.1202 - val_accuracy: 0.6789 - val_precision_3: 0.8469 - val_recall_3: 0.6576 - val_f1_score: 0.7393 - lr: 1.2500e-04\n",
      "Epoch 28/50\n",
      "2172/2192 [============================>.] - ETA: 0s - loss: 0.1588 - accuracy: 0.6770 - precision_3: 0.8337 - recall_3: 0.6469 - f1_score: 0.7278\n",
      "Epoch 28: val_accuracy did not improve from 0.70028\n",
      "\n",
      "Epoch 28: ReduceLROnPlateau reducing learning rate to 6.25000029685907e-05.\n",
      "2192/2192 [==============================] - 7s 3ms/step - loss: 0.1585 - accuracy: 0.6770 - precision_3: 0.8336 - recall_3: 0.6469 - f1_score: 0.7277 - val_loss: 0.1173 - val_accuracy: 0.6837 - val_precision_3: 0.8396 - val_recall_3: 0.6629 - val_f1_score: 0.7399 - lr: 1.2500e-04\n",
      "Epoch 29/50\n",
      "2180/2192 [============================>.] - ETA: 0s - loss: 0.1592 - accuracy: 0.6744 - precision_3: 0.8315 - recall_3: 0.6462 - f1_score: 0.7265\n",
      "Epoch 29: val_accuracy did not improve from 0.70028\n",
      "2192/2192 [==============================] - 8s 3ms/step - loss: 0.1591 - accuracy: 0.6745 - precision_3: 0.8316 - recall_3: 0.6463 - f1_score: 0.7266 - val_loss: 0.1175 - val_accuracy: 0.6834 - val_precision_3: 0.8402 - val_recall_3: 0.6627 - val_f1_score: 0.7399 - lr: 6.2500e-05\n",
      "Epoch 30/50\n",
      "2184/2192 [============================>.] - ETA: 0s - loss: 0.1583 - accuracy: 0.6771 - precision_3: 0.8342 - recall_3: 0.6485 - f1_score: 0.7290\n",
      "Epoch 30: val_accuracy did not improve from 0.70028\n",
      "2192/2192 [==============================] - 7s 3ms/step - loss: 0.1582 - accuracy: 0.6770 - precision_3: 0.8341 - recall_3: 0.6484 - f1_score: 0.7289 - val_loss: 0.1176 - val_accuracy: 0.6820 - val_precision_3: 0.8391 - val_recall_3: 0.6626 - val_f1_score: 0.7395 - lr: 6.2500e-05\n",
      "Epoch 31/50\n",
      "2190/2192 [============================>.] - ETA: 0s - loss: 0.1585 - accuracy: 0.6760 - precision_3: 0.8347 - recall_3: 0.6474 - f1_score: 0.7285\n",
      "Epoch 31: val_accuracy did not improve from 0.70028\n",
      "2192/2192 [==============================] - 7s 3ms/step - loss: 0.1585 - accuracy: 0.6760 - precision_3: 0.8346 - recall_3: 0.6474 - f1_score: 0.7285 - val_loss: 0.1176 - val_accuracy: 0.6840 - val_precision_3: 0.8577 - val_recall_3: 0.6630 - val_f1_score: 0.7468 - lr: 6.2500e-05\n",
      "Epoch 32/50\n",
      "2179/2192 [============================>.] - ETA: 0s - loss: 0.1594 - accuracy: 0.6803 - precision_3: 0.8369 - recall_3: 0.6490 - f1_score: 0.7304\n",
      "Epoch 32: val_accuracy did not improve from 0.70028\n",
      "2192/2192 [==============================] - 8s 3ms/step - loss: 0.1593 - accuracy: 0.6802 - precision_3: 0.8368 - recall_3: 0.6490 - f1_score: 0.7304 - val_loss: 0.1174 - val_accuracy: 0.6827 - val_precision_3: 0.8334 - val_recall_3: 0.6635 - val_f1_score: 0.7379 - lr: 6.2500e-05\n",
      "Epoch 33/50\n",
      "2182/2192 [============================>.] - ETA: 0s - loss: 0.1577 - accuracy: 0.6762 - precision_3: 0.8333 - recall_3: 0.6483 - f1_score: 0.7286\n",
      "Epoch 33: val_accuracy did not improve from 0.70028\n",
      "\n",
      "Epoch 33: ReduceLROnPlateau reducing learning rate to 3.125000148429535e-05.\n",
      "2192/2192 [==============================] - 7s 3ms/step - loss: 0.1577 - accuracy: 0.6763 - precision_3: 0.8333 - recall_3: 0.6484 - f1_score: 0.7286 - val_loss: 0.1173 - val_accuracy: 0.6817 - val_precision_3: 0.8506 - val_recall_3: 0.6628 - val_f1_score: 0.7439 - lr: 6.2500e-05\n",
      "Epoch 34/50\n",
      "2192/2192 [==============================] - ETA: 0s - loss: 0.1571 - accuracy: 0.6805 - precision_3: 0.8363 - recall_3: 0.6514 - f1_score: 0.7317\n",
      "Epoch 34: val_accuracy did not improve from 0.70028\n",
      "2192/2192 [==============================] - 8s 3ms/step - loss: 0.1571 - accuracy: 0.6805 - precision_3: 0.8363 - recall_3: 0.6514 - f1_score: 0.7317 - val_loss: 0.1171 - val_accuracy: 0.6832 - val_precision_3: 0.8439 - val_recall_3: 0.6636 - val_f1_score: 0.7420 - lr: 3.1250e-05\n",
      "Epoch 35/50\n",
      "2183/2192 [============================>.] - ETA: 0s - loss: 0.1587 - accuracy: 0.6787 - precision_3: 0.8371 - recall_3: 0.6500 - f1_score: 0.7311\n",
      "Epoch 35: val_accuracy did not improve from 0.70028\n",
      "2192/2192 [==============================] - 7s 3ms/step - loss: 0.1587 - accuracy: 0.6787 - precision_3: 0.8372 - recall_3: 0.6500 - f1_score: 0.7311 - val_loss: 0.1169 - val_accuracy: 0.6844 - val_precision_3: 0.8476 - val_recall_3: 0.6646 - val_f1_score: 0.7440 - lr: 3.1250e-05\n",
      "Epoch 36/50\n",
      "2175/2192 [============================>.] - ETA: 0s - loss: 0.1570 - accuracy: 0.6787 - precision_3: 0.8370 - recall_3: 0.6499 - f1_score: 0.7310\n",
      "Epoch 36: val_accuracy did not improve from 0.70028\n",
      "2192/2192 [==============================] - 8s 3ms/step - loss: 0.1569 - accuracy: 0.6787 - precision_3: 0.8369 - recall_3: 0.6499 - f1_score: 0.7309 - val_loss: 0.1172 - val_accuracy: 0.6837 - val_precision_3: 0.8483 - val_recall_3: 0.6638 - val_f1_score: 0.7438 - lr: 3.1250e-05\n",
      "Epoch 37/50\n",
      "2181/2192 [============================>.] - ETA: 0s - loss: 0.1582 - accuracy: 0.6816 - precision_3: 0.8377 - recall_3: 0.6513 - f1_score: 0.7321\n",
      "Epoch 37: val_accuracy did not improve from 0.70028\n",
      "2192/2192 [==============================] - 8s 3ms/step - loss: 0.1582 - accuracy: 0.6815 - precision_3: 0.8376 - recall_3: 0.6512 - f1_score: 0.7321 - val_loss: 0.1166 - val_accuracy: 0.6852 - val_precision_3: 0.8553 - val_recall_3: 0.6651 - val_f1_score: 0.7472 - lr: 3.1250e-05\n",
      "Epoch 38/50\n",
      "2190/2192 [============================>.] - ETA: 0s - loss: 0.1569 - accuracy: 0.6804 - precision_3: 0.8389 - recall_3: 0.6504 - f1_score: 0.7320\n",
      "Epoch 38: val_accuracy did not improve from 0.70028\n",
      "Restoring model weights from the end of the best epoch: 18.\n",
      "\n",
      "Epoch 38: ReduceLROnPlateau reducing learning rate to 1.5625000742147677e-05.\n",
      "2192/2192 [==============================] - 8s 4ms/step - loss: 0.1569 - accuracy: 0.6804 - precision_3: 0.8389 - recall_3: 0.6504 - f1_score: 0.7320 - val_loss: 0.1174 - val_accuracy: 0.6839 - val_precision_3: 0.8463 - val_recall_3: 0.6638 - val_f1_score: 0.7430 - lr: 3.1250e-05\n",
      "Epoch 38: early stopping\n"
     ]
    }
   ],
   "source": [
    "EPOCHS = 50\n",
    "BATCH_SIZE = 64\n",
    "history_clf = ann_clf.fit(X_train, y_train, epochs=EPOCHS, batch_size=BATCH_SIZE, \n",
    "             validation_split=0.2, class_weight=class_weights, callbacks=call_backs)"
   ],
   "metadata": {
    "collapsed": false,
    "ExecuteTime": {
     "end_time": "2023-12-02T20:18:02.397231400Z",
     "start_time": "2023-12-02T20:13:07.709987Z"
    }
   },
   "id": "e2ac4db8cb696a8d"
  },
  {
   "cell_type": "code",
   "execution_count": 103,
   "outputs": [],
   "source": [
    "\"\"\"\n",
    "This function is used to evaluate the model\n",
    "\"\"\"\n",
    "from sklearn.metrics import accuracy_score, precision_recall_fscore_support,confusion_matrix, classification_report\n",
    "def evaluate_Test(model, X_test, y_test, cls_label_encoder):\n",
    "    y_hat = model.predict(X_test)\n",
    "    y_hat = np.argmax(y_hat, axis=1)\n",
    "    y_true = np.argmax(y_test, axis=1)\n",
    "    print_score(y_hat, y_true, cls_label_encoder)"
   ],
   "metadata": {
    "collapsed": false,
    "ExecuteTime": {
     "end_time": "2023-12-02T20:18:02.412853Z",
     "start_time": "2023-12-02T20:18:02.397231400Z"
    }
   },
   "id": "bde2dd7b6ae94586"
  },
  {
   "cell_type": "code",
   "execution_count": 104,
   "outputs": [],
   "source": [
    "\"\"\"\n",
    "This function is used to visualize the loss\n",
    "\"\"\"\n",
    "def visualize_loss(history):\n",
    "    import matplotlib.pyplot as plt\n",
    "    plt.plot(history.history['loss'])\n",
    "    plt.plot(history.history['val_loss'])\n",
    "    plt.title('Model Loss')\n",
    "    plt.ylabel('Loss')\n",
    "    plt.xlabel('Epochs')\n",
    "    plt.legend(['train', 'val'], loc='upper right')\n",
    "    plt.show()"
   ],
   "metadata": {
    "collapsed": false,
    "ExecuteTime": {
     "end_time": "2023-12-02T20:18:02.447330600Z",
     "start_time": "2023-12-02T20:18:02.412853Z"
    }
   },
   "id": "ca1dc16f0758c90b"
  },
  {
   "cell_type": "code",
   "execution_count": 105,
   "outputs": [],
   "source": [
    "\"\"\"\n",
    "This function is used to visualize the accuracy\n",
    "\"\"\"\n",
    "def visualize_accuracy(history):\n",
    "    import matplotlib.pyplot as plt\n",
    "    plt.plot(history.history['accuracy'])\n",
    "    plt.plot(history.history['val_accuracy'])\n",
    "    plt.title('Model Accuracy')\n",
    "    plt.ylabel('Loss')\n",
    "    plt.xlabel('Epochs')\n",
    "    plt.legend(['train', 'val'], loc='upper right')\n",
    "    plt.show()"
   ],
   "metadata": {
    "collapsed": false,
    "ExecuteTime": {
     "end_time": "2023-12-02T20:18:02.447330600Z",
     "start_time": "2023-12-02T20:18:02.428474100Z"
    }
   },
   "id": "f13c975fc525bc17"
  },
  {
   "cell_type": "code",
   "execution_count": 106,
   "outputs": [],
   "source": [
    "\"\"\"\n",
    "This function is used to plot the confusion matrix\n",
    "\"\"\"\n",
    "from sklearn.metrics import accuracy_score, precision_recall_fscore_support,confusion_matrix, classification_report\n",
    "import seaborn as sns\n",
    "import matplotlib.pyplot as plt\n",
    "def plot_confusion_matrix(model, X_test, y_test):\n",
    "    y_hat = model.predict(X_test)\n",
    "    y_hat = np.argmax(y_hat, axis=1)\n",
    "    y_true = np.argmax(y_test, axis=1)\n",
    "    cm = confusion_matrix(y_true, y_hat)\n",
    "    plt.figure(figsize=(20,10))\n",
    "    sns.heatmap(cm, annot=True, fmt='g', cmap='Blues', xticklabels=cls_label_encoder.classes_, yticklabels=cls_label_encoder.classes_)\n",
    "    plt.show()\n",
    "   \n",
    "    "
   ],
   "metadata": {
    "collapsed": false,
    "ExecuteTime": {
     "end_time": "2023-12-02T20:18:02.478574300Z",
     "start_time": "2023-12-02T20:18:02.444095900Z"
    }
   },
   "id": "5b30136a3a81dc4b"
  },
  {
   "cell_type": "code",
   "execution_count": 107,
   "outputs": [
    {
     "name": "stdout",
     "output_type": "stream",
     "text": [
      "2573/2573 [==============================] - 3s 1ms/step\n",
      "Accuracy:  0.6114147597531944\n",
      "Macro precision_recall_fscore_support (macro) average\n",
      "(0.3810770772792655, 0.4966007207479953, 0.31779109217150436, None)\n",
      "Macro precision_recall_fscore_support (micro) average\n",
      "(0.6114147597531944, 0.6114147597531944, 0.6114147597531944, None)\n",
      "Macro precision_recall_fscore_support (weighted) average\n",
      "(0.8353598505723236, 0.6114147597531944, 0.6774577148707351, None)\n",
      "Confusion Matrix\n",
      "[[    2   120   499    48     1     0     7     0     0     0]\n",
      " [    2   126   409     2     4     0     0     0    32     8]\n",
      " [   26  1133  1840   505    69     0     6     3   160   347]\n",
      " [  125  1191  2036  5344   256     0    18     2   607  1553]\n",
      " [   14   345   932    54  3135     0     8     1  1243   330]\n",
      " [    3    52    39   286    98 18066     0    10   136   181]\n",
      " [ 1994   200    98   367 10185     0 21422     4  2095   635]\n",
      " [   10   206   198     2    55     1     0    12  2535   477]\n",
      " [    0     6     0     0    12     0     0     0   356     4]\n",
      " [    0     0     0     0     1     0     0     0     7    36]]\n",
      "Classification Report\n",
      "                precision    recall  f1-score   support\n",
      "\n",
      "      Analysis       0.00      0.00      0.00       677\n",
      "      Backdoor       0.04      0.22      0.06       583\n",
      "           DoS       0.30      0.45      0.36      4089\n",
      "      Exploits       0.81      0.48      0.60     11132\n",
      "       Fuzzers       0.23      0.52      0.32      6062\n",
      "       Generic       1.00      0.96      0.98     18871\n",
      "        Normal       1.00      0.58      0.73     37000\n",
      "Reconnaissance       0.38      0.00      0.01      3496\n",
      "     Shellcode       0.05      0.94      0.09       378\n",
      "         Worms       0.01      0.82      0.02        44\n",
      "\n",
      "      accuracy                           0.61     82332\n",
      "     macro avg       0.38      0.50      0.32     82332\n",
      "  weighted avg       0.84      0.61      0.68     82332\n"
     ]
    }
   ],
   "source": [
    "evaluate_Test(ann_clf, X_test, y_test, cls_label_encoder)"
   ],
   "metadata": {
    "collapsed": false,
    "ExecuteTime": {
     "end_time": "2023-12-02T20:18:06.561526300Z",
     "start_time": "2023-12-02T20:18:02.462952500Z"
    }
   },
   "id": "89f284ecb8195702"
  },
  {
   "cell_type": "code",
   "execution_count": 108,
   "outputs": [
    {
     "data": {
      "text/plain": "<Figure size 640x480 with 1 Axes>",
      "image/png": "[encoded data removed]"
     },
     "metadata": {},
     "output_type": "display_data"
    }
   ],
   "source": [
    "visualize_loss(history_clf)"
   ],
   "metadata": {
    "collapsed": false,
    "ExecuteTime": {
     "end_time": "2023-12-02T20:18:06.769076200Z",
     "start_time": "2023-12-02T20:18:06.561526300Z"
    }
   },
   "id": "d3141030426fd034"
  },
  {
   "cell_type": "code",
   "execution_count": 109,
   "outputs": [
    {
     "data": {
      "text/plain": "<Figure size 640x480 with 1 Axes>",
      "image/png": "[encoded data removed]"
     },
     "metadata": {},
     "output_type": "display_data"
    }
   ],
   "source": [
    "visualize_accuracy(history_clf)"
   ],
   "metadata": {
    "collapsed": false,
    "ExecuteTime": {
     "end_time": "2023-12-02T20:18:06.972094800Z",
     "start_time": "2023-12-02T20:18:06.769076200Z"
    }
   },
   "id": "7c68eaee68cd5eef"
  },
  {
   "cell_type": "code",
   "execution_count": 110,
   "outputs": [
    {
     "name": "stdout",
     "output_type": "stream",
     "text": [
      "2573/2573 [==============================] - 3s 1ms/step\n"
     ]
    },
    {
     "data": {
      "text/plain": "<Figure size 2000x1000 with 2 Axes>",
      "image/png": "[encoded data removed]"
     },
     "metadata": {},
     "output_type": "display_data"
    }
   ],
   "source": [
    "plot_confusion_matrix(ann_clf, X_test, y_test)"
   ],
   "metadata": {
    "collapsed": false,
    "ExecuteTime": {
     "end_time": "2023-12-02T20:18:11.149674800Z",
     "start_time": "2023-12-02T20:18:06.972094800Z"
    }
   },
   "id": "480635aa84a41630"
  },
  {
   "cell_type": "code",
   "execution_count": 110,
   "outputs": [],
   "source": [],
   "metadata": {
    "collapsed": false,
    "ExecuteTime": {
     "end_time": "2023-12-02T20:18:11.305832700Z",
     "start_time": "2023-12-02T20:18:11.149674800Z"
    }
   },
   "id": "c29b31744507e738"
  }
 ],
 "metadata": {
  "kernelspec": {
   "display_name": "Python 3",
   "language": "python",
   "name": "python3"
  },
  "language_info": {
   "codemirror_mode": {
    "name": "ipython",
    "version": 2
   },
   "file_extension": ".py",
   "mimetype": "text/x-python",
   "name": "python",
   "nbconvert_exporter": "python",
   "pygments_lexer": "ipython2",
   "version": "2.7.6"
  }
 },
 "nbformat": 4,
 "nbformat_minor": 5
}
