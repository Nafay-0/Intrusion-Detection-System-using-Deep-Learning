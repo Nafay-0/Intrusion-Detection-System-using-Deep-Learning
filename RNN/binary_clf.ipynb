{
 "cells": [
  {
   "cell_type": "code",
   "execution_count": 79,
   "id": "initial_id",
   "metadata": {
    "collapsed": true,
    "ExecuteTime": {
     "end_time": "2023-12-02T08:55:30.306704Z",
     "start_time": "2023-12-02T08:55:30.296420Z"
    }
   },
   "outputs": [],
   "source": [
    "from sklearn.model_selection import train_test_split\n",
    "from sklearn.preprocessing import StandardScaler, OneHotEncoder\n",
    "from sklearn.compose import ColumnTransformer\n",
    "from sklearn.pipeline import Pipeline\n",
    "from keras.models import Sequential\n",
    "from keras.layers import SimpleRNN, Dense\n",
    "from keras.layers import Dropout, BatchNormalization\n",
    "import numpy as np\n",
    "import matplotlib.pyplot as plt\n",
    "import pandas as pd\n",
    "import tensorflow as tf\n",
    "import seaborn as sns"
   ]
  },
  {
   "cell_type": "code",
   "execution_count": 80,
   "outputs": [],
   "source": [
    "train_df = pd.read_csv(\"../Data/UNSW_NB15_testing-set.csv\")\n",
    "test_df = pd.read_csv(\"../Data/UNSW_NB15_training-set.csv\")"
   ],
   "metadata": {
    "collapsed": false,
    "ExecuteTime": {
     "end_time": "2023-12-02T08:55:31.018538Z",
     "start_time": "2023-12-02T08:55:30.492542Z"
    }
   },
   "id": "bef487ddb23d9f60"
  },
  {
   "cell_type": "code",
   "execution_count": 81,
   "outputs": [
    {
     "data": {
      "text/plain": "   id       dur proto service state  spkts  dpkts  sbytes  dbytes       rate  \\\n0   1  0.121478   tcp       -   FIN      6      4     258     172  74.087490   \n1   2  0.649902   tcp       -   FIN     14     38     734   42014  78.473372   \n2   3  1.623129   tcp       -   FIN      8     16     364   13186  14.170161   \n3   4  1.681642   tcp     ftp   FIN     12     12     628     770  13.677108   \n4   5  0.449454   tcp       -   FIN     10      6     534     268  33.373826   \n\n   ...  ct_dst_sport_ltm  ct_dst_src_ltm  is_ftp_login  ct_ftp_cmd  \\\n0  ...                 1               1             0           0   \n1  ...                 1               2             0           0   \n2  ...                 1               3             0           0   \n3  ...                 1               3             1           1   \n4  ...                 1              40             0           0   \n\n   ct_flw_http_mthd  ct_src_ltm  ct_srv_dst  is_sm_ips_ports  attack_cat  \\\n0                 0           1           1                0      Normal   \n1                 0           1           6                0      Normal   \n2                 0           2           6                0      Normal   \n3                 0           2           1                0      Normal   \n4                 0           2          39                0      Normal   \n\n   label  \n0      0  \n1      0  \n2      0  \n3      0  \n4      0  \n\n[5 rows x 45 columns]",
      "text/html": "<div>\n<style scoped>\n    .dataframe tbody tr th:only-of-type {\n        vertical-align: middle;\n    }\n\n    .dataframe tbody tr th {\n        vertical-align: top;\n    }\n\n    .dataframe thead th {\n        text-align: right;\n    }\n</style>\n<table border=\"1\" class=\"dataframe\">\n  <thead>\n    <tr style=\"text-align: right;\">\n      <th></th>\n      <th>id</th>\n      <th>dur</th>\n      <th>proto</th>\n      <th>service</th>\n      <th>state</th>\n      <th>spkts</th>\n      <th>dpkts</th>\n      <th>sbytes</th>\n      <th>dbytes</th>\n      <th>rate</th>\n      <th>...</th>\n      <th>ct_dst_sport_ltm</th>\n      <th>ct_dst_src_ltm</th>\n      <th>is_ftp_login</th>\n      <th>ct_ftp_cmd</th>\n      <th>ct_flw_http_mthd</th>\n      <th>ct_src_ltm</th>\n      <th>ct_srv_dst</th>\n      <th>is_sm_ips_ports</th>\n      <th>attack_cat</th>\n      <th>label</th>\n    </tr>\n  </thead>\n  <tbody>\n    <tr>\n      <th>0</th>\n      <td>1</td>\n      <td>0.121478</td>\n      <td>tcp</td>\n      <td>-</td>\n      <td>FIN</td>\n      <td>6</td>\n      <td>4</td>\n      <td>258</td>\n      <td>172</td>\n      <td>74.087490</td>\n      <td>...</td>\n      <td>1</td>\n      <td>1</td>\n      <td>0</td>\n      <td>0</td>\n      <td>0</td>\n      <td>1</td>\n      <td>1</td>\n      <td>0</td>\n      <td>Normal</td>\n      <td>0</td>\n    </tr>\n    <tr>\n      <th>1</th>\n      <td>2</td>\n      <td>0.649902</td>\n      <td>tcp</td>\n      <td>-</td>\n      <td>FIN</td>\n      <td>14</td>\n      <td>38</td>\n      <td>734</td>\n      <td>42014</td>\n      <td>78.473372</td>\n      <td>...</td>\n      <td>1</td>\n      <td>2</td>\n      <td>0</td>\n      <td>0</td>\n      <td>0</td>\n      <td>1</td>\n      <td>6</td>\n      <td>0</td>\n      <td>Normal</td>\n      <td>0</td>\n    </tr>\n    <tr>\n      <th>2</th>\n      <td>3</td>\n      <td>1.623129</td>\n      <td>tcp</td>\n      <td>-</td>\n      <td>FIN</td>\n      <td>8</td>\n      <td>16</td>\n      <td>364</td>\n      <td>13186</td>\n      <td>14.170161</td>\n      <td>...</td>\n      <td>1</td>\n      <td>3</td>\n      <td>0</td>\n      <td>0</td>\n      <td>0</td>\n      <td>2</td>\n      <td>6</td>\n      <td>0</td>\n      <td>Normal</td>\n      <td>0</td>\n    </tr>\n    <tr>\n      <th>3</th>\n      <td>4</td>\n      <td>1.681642</td>\n      <td>tcp</td>\n      <td>ftp</td>\n      <td>FIN</td>\n      <td>12</td>\n      <td>12</td>\n      <td>628</td>\n      <td>770</td>\n      <td>13.677108</td>\n      <td>...</td>\n      <td>1</td>\n      <td>3</td>\n      <td>1</td>\n      <td>1</td>\n      <td>0</td>\n      <td>2</td>\n      <td>1</td>\n      <td>0</td>\n      <td>Normal</td>\n      <td>0</td>\n    </tr>\n    <tr>\n      <th>4</th>\n      <td>5</td>\n      <td>0.449454</td>\n      <td>tcp</td>\n      <td>-</td>\n      <td>FIN</td>\n      <td>10</td>\n      <td>6</td>\n      <td>534</td>\n      <td>268</td>\n      <td>33.373826</td>\n      <td>...</td>\n      <td>1</td>\n      <td>40</td>\n      <td>0</td>\n      <td>0</td>\n      <td>0</td>\n      <td>2</td>\n      <td>39</td>\n      <td>0</td>\n      <td>Normal</td>\n      <td>0</td>\n    </tr>\n  </tbody>\n</table>\n<p>5 rows × 45 columns</p>\n</div>"
     },
     "execution_count": 81,
     "metadata": {},
     "output_type": "execute_result"
    }
   ],
   "source": [
    "train_df.head()"
   ],
   "metadata": {
    "collapsed": false,
    "ExecuteTime": {
     "end_time": "2023-12-02T08:55:31.022221Z",
     "start_time": "2023-12-02T08:55:31.018357Z"
    }
   },
   "id": "b139e9f003246736"
  },
  {
   "cell_type": "code",
   "execution_count": 82,
   "outputs": [
    {
     "data": {
      "text/plain": "   id       dur proto service state  spkts  dpkts  sbytes  dbytes  \\\n0   1  0.000011   udp       -   INT      2      0     496       0   \n1   2  0.000008   udp       -   INT      2      0    1762       0   \n2   3  0.000005   udp       -   INT      2      0    1068       0   \n3   4  0.000006   udp       -   INT      2      0     900       0   \n4   5  0.000010   udp       -   INT      2      0    2126       0   \n\n          rate  ...  ct_dst_sport_ltm  ct_dst_src_ltm  is_ftp_login  \\\n0   90909.0902  ...                 1               2             0   \n1  125000.0003  ...                 1               2             0   \n2  200000.0051  ...                 1               3             0   \n3  166666.6608  ...                 1               3             0   \n4  100000.0025  ...                 1               3             0   \n\n   ct_ftp_cmd  ct_flw_http_mthd  ct_src_ltm  ct_srv_dst  is_sm_ips_ports  \\\n0           0                 0           1           2                0   \n1           0                 0           1           2                0   \n2           0                 0           1           3                0   \n3           0                 0           2           3                0   \n4           0                 0           2           3                0   \n\n   attack_cat  label  \n0      Normal      0  \n1      Normal      0  \n2      Normal      0  \n3      Normal      0  \n4      Normal      0  \n\n[5 rows x 45 columns]",
      "text/html": "<div>\n<style scoped>\n    .dataframe tbody tr th:only-of-type {\n        vertical-align: middle;\n    }\n\n    .dataframe tbody tr th {\n        vertical-align: top;\n    }\n\n    .dataframe thead th {\n        text-align: right;\n    }\n</style>\n<table border=\"1\" class=\"dataframe\">\n  <thead>\n    <tr style=\"text-align: right;\">\n      <th></th>\n      <th>id</th>\n      <th>dur</th>\n      <th>proto</th>\n      <th>service</th>\n      <th>state</th>\n      <th>spkts</th>\n      <th>dpkts</th>\n      <th>sbytes</th>\n      <th>dbytes</th>\n      <th>rate</th>\n      <th>...</th>\n      <th>ct_dst_sport_ltm</th>\n      <th>ct_dst_src_ltm</th>\n      <th>is_ftp_login</th>\n      <th>ct_ftp_cmd</th>\n      <th>ct_flw_http_mthd</th>\n      <th>ct_src_ltm</th>\n      <th>ct_srv_dst</th>\n      <th>is_sm_ips_ports</th>\n      <th>attack_cat</th>\n      <th>label</th>\n    </tr>\n  </thead>\n  <tbody>\n    <tr>\n      <th>0</th>\n      <td>1</td>\n      <td>0.000011</td>\n      <td>udp</td>\n      <td>-</td>\n      <td>INT</td>\n      <td>2</td>\n      <td>0</td>\n      <td>496</td>\n      <td>0</td>\n      <td>90909.0902</td>\n      <td>...</td>\n      <td>1</td>\n      <td>2</td>\n      <td>0</td>\n      <td>0</td>\n      <td>0</td>\n      <td>1</td>\n      <td>2</td>\n      <td>0</td>\n      <td>Normal</td>\n      <td>0</td>\n    </tr>\n    <tr>\n      <th>1</th>\n      <td>2</td>\n      <td>0.000008</td>\n      <td>udp</td>\n      <td>-</td>\n      <td>INT</td>\n      <td>2</td>\n      <td>0</td>\n      <td>1762</td>\n      <td>0</td>\n      <td>125000.0003</td>\n      <td>...</td>\n      <td>1</td>\n      <td>2</td>\n      <td>0</td>\n      <td>0</td>\n      <td>0</td>\n      <td>1</td>\n      <td>2</td>\n      <td>0</td>\n      <td>Normal</td>\n      <td>0</td>\n    </tr>\n    <tr>\n      <th>2</th>\n      <td>3</td>\n      <td>0.000005</td>\n      <td>udp</td>\n      <td>-</td>\n      <td>INT</td>\n      <td>2</td>\n      <td>0</td>\n      <td>1068</td>\n      <td>0</td>\n      <td>200000.0051</td>\n      <td>...</td>\n      <td>1</td>\n      <td>3</td>\n      <td>0</td>\n      <td>0</td>\n      <td>0</td>\n      <td>1</td>\n      <td>3</td>\n      <td>0</td>\n      <td>Normal</td>\n      <td>0</td>\n    </tr>\n    <tr>\n      <th>3</th>\n      <td>4</td>\n      <td>0.000006</td>\n      <td>udp</td>\n      <td>-</td>\n      <td>INT</td>\n      <td>2</td>\n      <td>0</td>\n      <td>900</td>\n      <td>0</td>\n      <td>166666.6608</td>\n      <td>...</td>\n      <td>1</td>\n      <td>3</td>\n      <td>0</td>\n      <td>0</td>\n      <td>0</td>\n      <td>2</td>\n      <td>3</td>\n      <td>0</td>\n      <td>Normal</td>\n      <td>0</td>\n    </tr>\n    <tr>\n      <th>4</th>\n      <td>5</td>\n      <td>0.000010</td>\n      <td>udp</td>\n      <td>-</td>\n      <td>INT</td>\n      <td>2</td>\n      <td>0</td>\n      <td>2126</td>\n      <td>0</td>\n      <td>100000.0025</td>\n      <td>...</td>\n      <td>1</td>\n      <td>3</td>\n      <td>0</td>\n      <td>0</td>\n      <td>0</td>\n      <td>2</td>\n      <td>3</td>\n      <td>0</td>\n      <td>Normal</td>\n      <td>0</td>\n    </tr>\n  </tbody>\n</table>\n<p>5 rows × 45 columns</p>\n</div>"
     },
     "execution_count": 82,
     "metadata": {},
     "output_type": "execute_result"
    }
   ],
   "source": [
    "test_df.head()"
   ],
   "metadata": {
    "collapsed": false,
    "ExecuteTime": {
     "end_time": "2023-12-02T08:55:31.032118Z",
     "start_time": "2023-12-02T08:55:31.025558Z"
    }
   },
   "id": "89355281fdec43f2"
  },
  {
   "cell_type": "code",
   "execution_count": 83,
   "outputs": [
    {
     "data": {
      "text/plain": "                   id            dur   proto service   state          spkts  \\\ncount   175341.000000  175341.000000  175341  175341  175341  175341.000000   \nunique            NaN            NaN     133      13       9            NaN   \ntop               NaN            NaN     tcp       -     INT            NaN   \nfreq              NaN            NaN   79946   94168   82275            NaN   \nmean     87671.000000       1.359389     NaN     NaN     NaN      20.298664   \nstd      50616.731112       6.480249     NaN     NaN     NaN     136.887597   \nmin          1.000000       0.000000     NaN     NaN     NaN       1.000000   \n25%      43836.000000       0.000008     NaN     NaN     NaN       2.000000   \n50%      87671.000000       0.001582     NaN     NaN     NaN       2.000000   \n75%     131506.000000       0.668069     NaN     NaN     NaN      12.000000   \nmax     175341.000000      59.999989     NaN     NaN     NaN    9616.000000   \n\n                dpkts        sbytes        dbytes          rate  ...  \\\ncount   175341.000000  1.753410e+05  1.753410e+05  1.753410e+05  ...   \nunique            NaN           NaN           NaN           NaN  ...   \ntop               NaN           NaN           NaN           NaN  ...   \nfreq              NaN           NaN           NaN           NaN  ...   \nmean        18.969591  8.844844e+03  1.492892e+04  9.540619e+04  ...   \nstd        110.258271  1.747656e+05  1.436542e+05  1.654010e+05  ...   \nmin          0.000000  2.800000e+01  0.000000e+00  0.000000e+00  ...   \n25%          0.000000  1.140000e+02  0.000000e+00  3.278614e+01  ...   \n50%          2.000000  4.300000e+02  1.640000e+02  3.225807e+03  ...   \n75%         10.000000  1.418000e+03  1.102000e+03  1.250000e+05  ...   \nmax      10974.000000  1.296523e+07  1.465555e+07  1.000000e+06  ...   \n\n        ct_dst_sport_ltm  ct_dst_src_ltm   is_ftp_login     ct_ftp_cmd  \\\ncount      175341.000000   175341.000000  175341.000000  175341.000000   \nunique               NaN             NaN            NaN            NaN   \ntop                  NaN             NaN            NaN            NaN   \nfreq                 NaN             NaN            NaN            NaN   \nmean            4.206255        8.729881       0.014948       0.014948   \nstd             5.783585       10.956186       0.126048       0.126048   \nmin             1.000000        1.000000       0.000000       0.000000   \n25%             1.000000        1.000000       0.000000       0.000000   \n50%             1.000000        3.000000       0.000000       0.000000   \n75%             3.000000       12.000000       0.000000       0.000000   \nmax            46.000000       65.000000       4.000000       4.000000   \n\n        ct_flw_http_mthd     ct_src_ltm     ct_srv_dst  is_sm_ips_ports  \\\ncount      175341.000000  175341.000000  175341.000000    175341.000000   \nunique               NaN            NaN            NaN              NaN   \ntop                  NaN            NaN            NaN              NaN   \nfreq                 NaN            NaN            NaN              NaN   \nmean            0.133066       6.955789       9.100758         0.015752   \nstd             0.701208       8.321493      10.756952         0.124516   \nmin             0.000000       1.000000       1.000000         0.000000   \n25%             0.000000       2.000000       2.000000         0.000000   \n50%             0.000000       3.000000       4.000000         0.000000   \n75%             0.000000       9.000000      12.000000         0.000000   \nmax            30.000000      60.000000      62.000000         1.000000   \n\n        attack_cat          label  \ncount       175341  175341.000000  \nunique          10            NaN  \ntop         Normal            NaN  \nfreq         56000            NaN  \nmean           NaN       0.680622  \nstd            NaN       0.466237  \nmin            NaN       0.000000  \n25%            NaN       0.000000  \n50%            NaN       1.000000  \n75%            NaN       1.000000  \nmax            NaN       1.000000  \n\n[11 rows x 45 columns]",
      "text/html": "<div>\n<style scoped>\n    .dataframe tbody tr th:only-of-type {\n        vertical-align: middle;\n    }\n\n    .dataframe tbody tr th {\n        vertical-align: top;\n    }\n\n    .dataframe thead th {\n        text-align: right;\n    }\n</style>\n<table border=\"1\" class=\"dataframe\">\n  <thead>\n    <tr style=\"text-align: right;\">\n      <th></th>\n      <th>id</th>\n      <th>dur</th>\n      <th>proto</th>\n      <th>service</th>\n      <th>state</th>\n      <th>spkts</th>\n      <th>dpkts</th>\n      <th>sbytes</th>\n      <th>dbytes</th>\n      <th>rate</th>\n      <th>...</th>\n      <th>ct_dst_sport_ltm</th>\n      <th>ct_dst_src_ltm</th>\n      <th>is_ftp_login</th>\n      <th>ct_ftp_cmd</th>\n      <th>ct_flw_http_mthd</th>\n      <th>ct_src_ltm</th>\n      <th>ct_srv_dst</th>\n      <th>is_sm_ips_ports</th>\n      <th>attack_cat</th>\n      <th>label</th>\n    </tr>\n  </thead>\n  <tbody>\n    <tr>\n      <th>count</th>\n      <td>175341.000000</td>\n      <td>175341.000000</td>\n      <td>175341</td>\n      <td>175341</td>\n      <td>175341</td>\n      <td>175341.000000</td>\n      <td>175341.000000</td>\n      <td>1.753410e+05</td>\n      <td>1.753410e+05</td>\n      <td>1.753410e+05</td>\n      <td>...</td>\n      <td>175341.000000</td>\n      <td>175341.000000</td>\n      <td>175341.000000</td>\n      <td>175341.000000</td>\n      <td>175341.000000</td>\n      <td>175341.000000</td>\n      <td>175341.000000</td>\n      <td>175341.000000</td>\n      <td>175341</td>\n      <td>175341.000000</td>\n    </tr>\n    <tr>\n      <th>unique</th>\n      <td>NaN</td>\n      <td>NaN</td>\n      <td>133</td>\n      <td>13</td>\n      <td>9</td>\n      <td>NaN</td>\n      <td>NaN</td>\n      <td>NaN</td>\n      <td>NaN</td>\n      <td>NaN</td>\n      <td>...</td>\n      <td>NaN</td>\n      <td>NaN</td>\n      <td>NaN</td>\n      <td>NaN</td>\n      <td>NaN</td>\n      <td>NaN</td>\n      <td>NaN</td>\n      <td>NaN</td>\n      <td>10</td>\n      <td>NaN</td>\n    </tr>\n    <tr>\n      <th>top</th>\n      <td>NaN</td>\n      <td>NaN</td>\n      <td>tcp</td>\n      <td>-</td>\n      <td>INT</td>\n      <td>NaN</td>\n      <td>NaN</td>\n      <td>NaN</td>\n      <td>NaN</td>\n      <td>NaN</td>\n      <td>...</td>\n      <td>NaN</td>\n      <td>NaN</td>\n      <td>NaN</td>\n      <td>NaN</td>\n      <td>NaN</td>\n      <td>NaN</td>\n      <td>NaN</td>\n      <td>NaN</td>\n      <td>Normal</td>\n      <td>NaN</td>\n    </tr>\n    <tr>\n      <th>freq</th>\n      <td>NaN</td>\n      <td>NaN</td>\n      <td>79946</td>\n      <td>94168</td>\n      <td>82275</td>\n      <td>NaN</td>\n      <td>NaN</td>\n      <td>NaN</td>\n      <td>NaN</td>\n      <td>NaN</td>\n      <td>...</td>\n      <td>NaN</td>\n      <td>NaN</td>\n      <td>NaN</td>\n      <td>NaN</td>\n      <td>NaN</td>\n      <td>NaN</td>\n      <td>NaN</td>\n      <td>NaN</td>\n      <td>56000</td>\n      <td>NaN</td>\n    </tr>\n    <tr>\n      <th>mean</th>\n      <td>87671.000000</td>\n      <td>1.359389</td>\n      <td>NaN</td>\n      <td>NaN</td>\n      <td>NaN</td>\n      <td>20.298664</td>\n      <td>18.969591</td>\n      <td>8.844844e+03</td>\n      <td>1.492892e+04</td>\n      <td>9.540619e+04</td>\n      <td>...</td>\n      <td>4.206255</td>\n      <td>8.729881</td>\n      <td>0.014948</td>\n      <td>0.014948</td>\n      <td>0.133066</td>\n      <td>6.955789</td>\n      <td>9.100758</td>\n      <td>0.015752</td>\n      <td>NaN</td>\n      <td>0.680622</td>\n    </tr>\n    <tr>\n      <th>std</th>\n      <td>50616.731112</td>\n      <td>6.480249</td>\n      <td>NaN</td>\n      <td>NaN</td>\n      <td>NaN</td>\n      <td>136.887597</td>\n      <td>110.258271</td>\n      <td>1.747656e+05</td>\n      <td>1.436542e+05</td>\n      <td>1.654010e+05</td>\n      <td>...</td>\n      <td>5.783585</td>\n      <td>10.956186</td>\n      <td>0.126048</td>\n      <td>0.126048</td>\n      <td>0.701208</td>\n      <td>8.321493</td>\n      <td>10.756952</td>\n      <td>0.124516</td>\n      <td>NaN</td>\n      <td>0.466237</td>\n    </tr>\n    <tr>\n      <th>min</th>\n      <td>1.000000</td>\n      <td>0.000000</td>\n      <td>NaN</td>\n      <td>NaN</td>\n      <td>NaN</td>\n      <td>1.000000</td>\n      <td>0.000000</td>\n      <td>2.800000e+01</td>\n      <td>0.000000e+00</td>\n      <td>0.000000e+00</td>\n      <td>...</td>\n      <td>1.000000</td>\n      <td>1.000000</td>\n      <td>0.000000</td>\n      <td>0.000000</td>\n      <td>0.000000</td>\n      <td>1.000000</td>\n      <td>1.000000</td>\n      <td>0.000000</td>\n      <td>NaN</td>\n      <td>0.000000</td>\n    </tr>\n    <tr>\n      <th>25%</th>\n      <td>43836.000000</td>\n      <td>0.000008</td>\n      <td>NaN</td>\n      <td>NaN</td>\n      <td>NaN</td>\n      <td>2.000000</td>\n      <td>0.000000</td>\n      <td>1.140000e+02</td>\n      <td>0.000000e+00</td>\n      <td>3.278614e+01</td>\n      <td>...</td>\n      <td>1.000000</td>\n      <td>1.000000</td>\n      <td>0.000000</td>\n      <td>0.000000</td>\n      <td>0.000000</td>\n      <td>2.000000</td>\n      <td>2.000000</td>\n      <td>0.000000</td>\n      <td>NaN</td>\n      <td>0.000000</td>\n    </tr>\n    <tr>\n      <th>50%</th>\n      <td>87671.000000</td>\n      <td>0.001582</td>\n      <td>NaN</td>\n      <td>NaN</td>\n      <td>NaN</td>\n      <td>2.000000</td>\n      <td>2.000000</td>\n      <td>4.300000e+02</td>\n      <td>1.640000e+02</td>\n      <td>3.225807e+03</td>\n      <td>...</td>\n      <td>1.000000</td>\n      <td>3.000000</td>\n      <td>0.000000</td>\n      <td>0.000000</td>\n      <td>0.000000</td>\n      <td>3.000000</td>\n      <td>4.000000</td>\n      <td>0.000000</td>\n      <td>NaN</td>\n      <td>1.000000</td>\n    </tr>\n    <tr>\n      <th>75%</th>\n      <td>131506.000000</td>\n      <td>0.668069</td>\n      <td>NaN</td>\n      <td>NaN</td>\n      <td>NaN</td>\n      <td>12.000000</td>\n      <td>10.000000</td>\n      <td>1.418000e+03</td>\n      <td>1.102000e+03</td>\n      <td>1.250000e+05</td>\n      <td>...</td>\n      <td>3.000000</td>\n      <td>12.000000</td>\n      <td>0.000000</td>\n      <td>0.000000</td>\n      <td>0.000000</td>\n      <td>9.000000</td>\n      <td>12.000000</td>\n      <td>0.000000</td>\n      <td>NaN</td>\n      <td>1.000000</td>\n    </tr>\n    <tr>\n      <th>max</th>\n      <td>175341.000000</td>\n      <td>59.999989</td>\n      <td>NaN</td>\n      <td>NaN</td>\n      <td>NaN</td>\n      <td>9616.000000</td>\n      <td>10974.000000</td>\n      <td>1.296523e+07</td>\n      <td>1.465555e+07</td>\n      <td>1.000000e+06</td>\n      <td>...</td>\n      <td>46.000000</td>\n      <td>65.000000</td>\n      <td>4.000000</td>\n      <td>4.000000</td>\n      <td>30.000000</td>\n      <td>60.000000</td>\n      <td>62.000000</td>\n      <td>1.000000</td>\n      <td>NaN</td>\n      <td>1.000000</td>\n    </tr>\n  </tbody>\n</table>\n<p>11 rows × 45 columns</p>\n</div>"
     },
     "execution_count": 83,
     "metadata": {},
     "output_type": "execute_result"
    }
   ],
   "source": [
    "train_df.describe(include='all')"
   ],
   "metadata": {
    "collapsed": false,
    "ExecuteTime": {
     "end_time": "2023-12-02T08:55:31.246209Z",
     "start_time": "2023-12-02T08:55:31.029864Z"
    }
   },
   "id": "9eaabdef789a07f2"
  },
  {
   "cell_type": "code",
   "execution_count": 84,
   "outputs": [],
   "source": [
    "def preprocess_numerical_cols(df):\n",
    "    numerical_cols = df.select_dtypes(exclude=[\"object\"]).columns\n",
    "    df[numerical_cols] = df[numerical_cols].fillna(0)\n",
    "    return df"
   ],
   "metadata": {
    "collapsed": false,
    "ExecuteTime": {
     "end_time": "2023-12-02T08:55:31.249361Z",
     "start_time": "2023-12-02T08:55:31.245771Z"
    }
   },
   "id": "ab9a53f851d22c9b"
  },
  {
   "cell_type": "code",
   "execution_count": 85,
   "outputs": [],
   "source": [
    "def preprocess_categorical_cols(df):\n",
    "    categorical_cols = df.select_dtypes(include=[\"object\"]).columns\n",
    "    df[categorical_cols] = df[categorical_cols].replace('-', \"None\")\n",
    "    df[categorical_cols] = df[categorical_cols].fillna(\"None\")\n",
    "    return df"
   ],
   "metadata": {
    "collapsed": false,
    "ExecuteTime": {
     "end_time": "2023-12-02T08:55:31.405397Z",
     "start_time": "2023-12-02T08:55:31.389972Z"
    }
   },
   "id": "21f7ec7247098123"
  },
  {
   "cell_type": "code",
   "execution_count": 86,
   "outputs": [],
   "source": [
    "def drop_columns(df, to_drop = ['id','attack_cat']):\n",
    "    df.drop(to_drop,axis=1,inplace=True)\n",
    "    return df"
   ],
   "metadata": {
    "collapsed": false,
    "ExecuteTime": {
     "end_time": "2023-12-02T08:55:32.091280Z",
     "start_time": "2023-12-02T08:55:32.085565Z"
    }
   },
   "id": "c8a5b4d3ee889a7d"
  },
  {
   "cell_type": "code",
   "execution_count": 87,
   "outputs": [],
   "source": [
    "def plot_labels(df):\n",
    "    plt.figure(figsize=(10,5))\n",
    "    sns.countplot(x='label',data=df)\n",
    "    plt.show()"
   ],
   "metadata": {
    "collapsed": false,
    "ExecuteTime": {
     "end_time": "2023-12-02T08:55:32.568497Z",
     "start_time": "2023-12-02T08:55:32.555280Z"
    }
   },
   "id": "6c2c42a8e0f3cf6c"
  },
  {
   "cell_type": "code",
   "execution_count": 88,
   "outputs": [],
   "source": [
    "def perform_Smote_over_sampling(X,y):\n",
    "    from imblearn.over_sampling import SMOTE\n",
    "    smote = SMOTE()\n",
    "    X_smote, y_smote = smote.fit_resample(X, y)\n",
    "    return X_smote, y_smote"
   ],
   "metadata": {
    "collapsed": false,
    "ExecuteTime": {
     "end_time": "2023-12-02T08:55:32.885835Z",
     "start_time": "2023-12-02T08:55:32.868184Z"
    }
   },
   "id": "aa88831978aad951"
  },
  {
   "cell_type": "code",
   "execution_count": 89,
   "outputs": [],
   "source": [
    "def standardize(df):\n",
    "    scaler = StandardScaler()\n",
    "    df = scaler.fit_transform(df)\n",
    "    return df"
   ],
   "metadata": {
    "collapsed": false,
    "ExecuteTime": {
     "end_time": "2023-12-02T08:55:33.176760Z",
     "start_time": "2023-12-02T08:55:33.161418Z"
    }
   },
   "id": "2dcddeb93b08e453"
  },
  {
   "cell_type": "code",
   "execution_count": 90,
   "outputs": [],
   "source": [
    "train_df = drop_columns(train_df)\n",
    "test_df = drop_columns(test_df)"
   ],
   "metadata": {
    "collapsed": false,
    "ExecuteTime": {
     "end_time": "2023-12-02T08:55:33.490944Z",
     "start_time": "2023-12-02T08:55:33.452979Z"
    }
   },
   "id": "3f1634a94659c4a1"
  },
  {
   "cell_type": "code",
   "execution_count": 91,
   "outputs": [],
   "source": [
    "train_df = preprocess_numerical_cols(train_df)\n",
    "test_df = preprocess_numerical_cols(test_df)\n",
    "train_df = preprocess_categorical_cols(train_df)\n",
    "test_df = preprocess_categorical_cols(test_df)"
   ],
   "metadata": {
    "collapsed": false,
    "ExecuteTime": {
     "end_time": "2023-12-02T08:55:34.051465Z",
     "start_time": "2023-12-02T08:55:33.733044Z"
    }
   },
   "id": "f37bfb3d6eab82b5"
  },
  {
   "cell_type": "code",
   "execution_count": 92,
   "outputs": [
    {
     "data": {
      "text/plain": "<Figure size 1000x500 with 1 Axes>",
      "image/png": "[encoded data removed]"
     },
     "metadata": {},
     "output_type": "display_data"
    }
   ],
   "source": [
    "plot_labels(train_df)"
   ],
   "metadata": {
    "collapsed": false,
    "ExecuteTime": {
     "end_time": "2023-12-02T08:55:34.993958Z",
     "start_time": "2023-12-02T08:55:34.911606Z"
    }
   },
   "id": "385b05b176b3d6e9"
  },
  {
   "cell_type": "code",
   "execution_count": 93,
   "outputs": [
    {
     "data": {
      "text/plain": "<Figure size 1000x500 with 1 Axes>",
      "image/png": "[encoded data removed]"
     },
     "metadata": {},
     "output_type": "display_data"
    }
   ],
   "source": [
    "plot_labels(test_df)"
   ],
   "metadata": {
    "collapsed": false,
    "ExecuteTime": {
     "end_time": "2023-12-02T08:55:36.329435Z",
     "start_time": "2023-12-02T08:55:36.251369Z"
    }
   },
   "id": "552801cb88103711"
  },
  {
   "cell_type": "code",
   "execution_count": 94,
   "outputs": [],
   "source": [
    "target_variable = 'label'\n",
    "X_train = train_df.drop(target_variable, axis=1)\n",
    "y_train = train_df[target_variable]\n",
    "X_test = test_df.drop(target_variable, axis=1)\n",
    "y_test = test_df[target_variable]"
   ],
   "metadata": {
    "collapsed": false,
    "ExecuteTime": {
     "end_time": "2023-12-02T08:55:37.083515Z",
     "start_time": "2023-12-02T08:55:37.023604Z"
    }
   },
   "id": "5e5026af19b9fc0c"
  },
  {
   "cell_type": "code",
   "execution_count": 95,
   "outputs": [],
   "source": [
    "# Identify the categorical columns in your dataset\n",
    "categorical_columns = X_train.select_dtypes(include=['object']).columns"
   ],
   "metadata": {
    "collapsed": false,
    "ExecuteTime": {
     "end_time": "2023-12-02T08:55:38.172502Z",
     "start_time": "2023-12-02T08:55:38.147618Z"
    }
   },
   "id": "64b8fff6ea1b0035"
  },
  {
   "cell_type": "code",
   "execution_count": 96,
   "outputs": [
    {
     "name": "stderr",
     "output_type": "stream",
     "text": [
      "/opt/anaconda3/lib/python3.9/site-packages/sklearn/preprocessing/_encoders.py:975: FutureWarning: `sparse` was renamed to `sparse_output` in version 1.2 and will be removed in 1.4. `sparse_output` is ignored unless you leave `sparse` to its default value.\n",
      "  warnings.warn(\n"
     ]
    }
   ],
   "source": [
    "# Apply one-hot encoding to the categorical columns\n",
    "encoder = OneHotEncoder(sparse=False, handle_unknown='ignore')\n",
    "X_train_encoded = encoder.fit_transform(X_train[categorical_columns])"
   ],
   "metadata": {
    "collapsed": false,
    "ExecuteTime": {
     "end_time": "2023-12-02T08:55:38.929999Z",
     "start_time": "2023-12-02T08:55:38.800456Z"
    }
   },
   "id": "564f307b23cd2c11"
  },
  {
   "cell_type": "code",
   "execution_count": 97,
   "outputs": [],
   "source": [
    "X_test_encoded = encoder.transform(X_test[categorical_columns])"
   ],
   "metadata": {
    "collapsed": false,
    "ExecuteTime": {
     "end_time": "2023-12-02T08:55:44.991350Z",
     "start_time": "2023-12-02T08:55:44.924031Z"
    }
   },
   "id": "6341562c134cbd38"
  },
  {
   "cell_type": "code",
   "execution_count": 98,
   "outputs": [],
   "source": [
    "# Combine the one-hot encoded features with the numerical features\n",
    "X_train_numeric = X_train.drop(categorical_columns, axis=1)\n",
    "X_train_combined = np.hstack((X_train_numeric, X_train_encoded))"
   ],
   "metadata": {
    "collapsed": false,
    "ExecuteTime": {
     "end_time": "2023-12-02T08:55:55.420328Z",
     "start_time": "2023-12-02T08:55:55.189948Z"
    }
   },
   "id": "63aec49e61cc5a0c"
  },
  {
   "cell_type": "code",
   "execution_count": 99,
   "outputs": [],
   "source": [
    "X_test_numeric = X_test.drop(categorical_columns, axis=1)\n",
    "X_test_combined = np.hstack((X_test_numeric, X_test_encoded))"
   ],
   "metadata": {
    "collapsed": false,
    "ExecuteTime": {
     "end_time": "2023-12-02T08:55:55.805971Z",
     "start_time": "2023-12-02T08:55:55.688009Z"
    }
   },
   "id": "282f922e3eecca7"
  },
  {
   "cell_type": "code",
   "execution_count": 100,
   "outputs": [],
   "source": [
    "# Perform SMOTE over-sampling on the training data\n",
    "X_train_resampled, y_train_resampled = perform_Smote_over_sampling(X_train_combined, y_train)"
   ],
   "metadata": {
    "collapsed": false,
    "ExecuteTime": {
     "end_time": "2023-12-02T08:56:03.883603Z",
     "start_time": "2023-12-02T08:55:56.263609Z"
    }
   },
   "id": "107f9a648593c75a"
  },
  {
   "cell_type": "code",
   "execution_count": 101,
   "outputs": [
    {
     "name": "stdout",
     "output_type": "stream",
     "text": [
      "Number of missing values in training set:  0\n"
     ]
    }
   ],
   "source": [
    "# number of mising values\n",
    "print(\"Number of missing values in training set: \", np.count_nonzero(np.isnan(X_train_resampled)))"
   ],
   "metadata": {
    "collapsed": false,
    "ExecuteTime": {
     "end_time": "2023-12-02T08:56:20.123476Z",
     "start_time": "2023-12-02T08:56:19.945469Z"
    }
   },
   "id": "c24c1c792621777e"
  },
  {
   "cell_type": "code",
   "execution_count": 102,
   "outputs": [],
   "source": [
    "# Standardize the dataset\n",
    "X_train_standardized = standardize(X_train_resampled)\n",
    "X_test_standardized = standardize(X_test_combined)"
   ],
   "metadata": {
    "collapsed": false,
    "ExecuteTime": {
     "end_time": "2023-12-02T08:56:24.426069Z",
     "start_time": "2023-12-02T08:56:23.592100Z"
    }
   },
   "id": "67a947a48d245661"
  },
  {
   "cell_type": "code",
   "execution_count": 103,
   "outputs": [
    {
     "name": "stdout",
     "output_type": "stream",
     "text": [
      "Class Distribution after SMOTE Oversampling:\n",
      "Counter({0: 119341, 1: 119341})\n"
     ]
    }
   ],
   "source": [
    "from collections import Counter\n",
    "# Check the class distribution after oversampling\n",
    "class_counts_resampled = Counter(y_train_resampled)\n",
    "print(\"Class Distribution after SMOTE Oversampling:\")\n",
    "print(class_counts_resampled)"
   ],
   "metadata": {
    "collapsed": false,
    "ExecuteTime": {
     "end_time": "2023-12-02T08:56:39.544282Z",
     "start_time": "2023-12-02T08:56:39.541328Z"
    }
   },
   "id": "ee965f4b799e190d"
  },
  {
   "cell_type": "code",
   "execution_count": 104,
   "outputs": [
    {
     "name": "stdout",
     "output_type": "stream",
     "text": [
      "Shape of X_train:  (175341, 42)\n",
      "Shape of y_train:  (175341,)\n",
      "Shape of X_test:  (82332, 42)\n",
      "Shape of y_test:  (82332,)\n",
      "Shape of X_train_resampled:  (238682, 194)\n",
      "Shape of y_train_resampled:  (238682,)\n",
      "Shape of X_train_standardized:  (238682, 194)\n",
      "Shape of X_test_standardized:  (82332, 194)\n"
     ]
    }
   ],
   "source": [
    "# Shapes of training set, test set, and standardized sets\n",
    "print(\"Shape of X_train: \", X_train.shape)\n",
    "print(\"Shape of y_train: \", y_train.shape)\n",
    "print(\"Shape of X_test: \", X_test.shape)\n",
    "print(\"Shape of y_test: \", y_test.shape)\n",
    "print(\"Shape of X_train_resampled: \", X_train_resampled.shape)\n",
    "print(\"Shape of y_train_resampled: \", y_train_resampled.shape)\n",
    "print(\"Shape of X_train_standardized: \", X_train_standardized.shape)\n",
    "print(\"Shape of X_test_standardized: \", X_test_standardized.shape)"
   ],
   "metadata": {
    "collapsed": false,
    "ExecuteTime": {
     "end_time": "2023-12-02T08:56:40.682878Z",
     "start_time": "2023-12-02T08:56:40.666334Z"
    }
   },
   "id": "6342ef59bec6cdc2"
  },
  {
   "cell_type": "code",
   "execution_count": 39,
   "outputs": [],
   "source": [
    "def create_RNN(input_shape):\n",
    "    model = Sequential()\n",
    "    model.add(SimpleRNN(32, input_shape=input_shape, activation='relu', return_sequences=True))\n",
    "    model.add(Dropout(0.2))\n",
    "    model.add(BatchNormalization())\n",
    "    model.add(SimpleRNN(32, activation='relu'))\n",
    "    model.add(Dropout(0.2))\n",
    "    model.add(BatchNormalization())\n",
    "    model.add(Dense(32, activation='relu'))\n",
    "    model.add(Dropout(0.2))\n",
    "    model.add(BatchNormalization())\n",
    "    model.add(Dense(1, activation='sigmoid'))\n",
    "    return model"
   ],
   "metadata": {
    "collapsed": false,
    "ExecuteTime": {
     "end_time": "2023-12-02T08:11:55.703441Z",
     "start_time": "2023-12-02T08:11:55.699675Z"
    }
   },
   "id": "37b3a6c700f126f0"
  },
  {
   "cell_type": "code",
   "execution_count": 40,
   "outputs": [
    {
     "name": "stdout",
     "output_type": "stream",
     "text": [
      "Model: \"sequential_2\"\n",
      "_________________________________________________________________\n",
      " Layer (type)                Output Shape              Param #   \n",
      "=================================================================\n",
      " simple_rnn_3 (SimpleRNN)    (None, 194, 32)           1088      \n",
      "                                                                 \n",
      " dropout_3 (Dropout)         (None, 194, 32)           0         \n",
      "                                                                 \n",
      " batch_normalization_3 (Batc  (None, 194, 32)          128       \n",
      " hNormalization)                                                 \n",
      "                                                                 \n",
      " simple_rnn_4 (SimpleRNN)    (None, 32)                2080      \n",
      "                                                                 \n",
      " dropout_4 (Dropout)         (None, 32)                0         \n",
      "                                                                 \n",
      " batch_normalization_4 (Batc  (None, 32)               128       \n",
      " hNormalization)                                                 \n",
      "                                                                 \n",
      " dense_2 (Dense)             (None, 32)                1056      \n",
      "                                                                 \n",
      " dropout_5 (Dropout)         (None, 32)                0         \n",
      "                                                                 \n",
      " batch_normalization_5 (Batc  (None, 32)               128       \n",
      " hNormalization)                                                 \n",
      "                                                                 \n",
      " dense_3 (Dense)             (None, 1)                 33        \n",
      "                                                                 \n",
      "=================================================================\n",
      "Total params: 4,641\n",
      "Trainable params: 4,449\n",
      "Non-trainable params: 192\n",
      "_________________________________________________________________\n"
     ]
    }
   ],
   "source": [
    "input_shape = (X_train_standardized.shape[1],1)\n",
    "model = create_RNN(input_shape)\n",
    "model.summary()"
   ],
   "metadata": {
    "collapsed": false,
    "ExecuteTime": {
     "end_time": "2023-12-02T08:11:57.944912Z",
     "start_time": "2023-12-02T08:11:57.812797Z"
    }
   },
   "id": "34761ce589d389cd"
  },
  {
   "cell_type": "code",
   "execution_count": 41,
   "outputs": [],
   "source": [
    "optimizer = tf.keras.optimizers.Adam(learning_rate=0.0001)\n",
    "model.compile(optimizer=optimizer, loss='binary_crossentropy', metrics=['accuracy'])"
   ],
   "metadata": {
    "collapsed": false,
    "ExecuteTime": {
     "end_time": "2023-12-02T08:11:59.462065Z",
     "start_time": "2023-12-02T08:11:59.457081Z"
    }
   },
   "id": "295618769f9f1203"
  },
  {
   "cell_type": "code",
   "execution_count": 42,
   "outputs": [],
   "source": [
    "# Use early stopping and reduce learning rate on plateau\n",
    "from keras.callbacks import EarlyStopping, ReduceLROnPlateau\n",
    "early_stopping = EarlyStopping(patience=5, verbose=1, restore_best_weights=True, monitor='val_loss')\n",
    "reduce_lr = ReduceLROnPlateau(patience=3, verbose=1, monitor='val_loss', factor=0.5, min_lr=0.00001)"
   ],
   "metadata": {
    "collapsed": false,
    "ExecuteTime": {
     "end_time": "2023-12-02T08:12:00.316270Z",
     "start_time": "2023-12-02T08:12:00.311990Z"
    }
   },
   "id": "7ad8277f450a7d6d"
  },
  {
   "cell_type": "code",
   "execution_count": 43,
   "outputs": [
    {
     "name": "stdout",
     "output_type": "stream",
     "text": [
      "Epoch 1/20\n",
      "2984/2984 [==============================] - 120s 40ms/step - loss: 0.5457 - accuracy: 0.7176 - val_loss: 0.6724 - val_accuracy: 0.8749 - lr: 1.0000e-04\n",
      "Epoch 2/20\n",
      "2984/2984 [==============================] - 116s 39ms/step - loss: 0.4937 - accuracy: 0.7370 - val_loss: 0.7165 - val_accuracy: 0.2604 - lr: 1.0000e-04\n",
      "Epoch 3/20\n",
      "2984/2984 [==============================] - 121s 40ms/step - loss: 0.4793 - accuracy: 0.7569 - val_loss: 0.6789 - val_accuracy: 0.7455 - lr: 1.0000e-04\n",
      "Epoch 4/20\n",
      "2984/2984 [==============================] - 271s 91ms/step - loss: 0.4658 - accuracy: 0.7831 - val_loss: 0.6259 - val_accuracy: 0.7982 - lr: 1.0000e-04\n",
      "Epoch 5/20\n",
      "2984/2984 [==============================] - 124s 42ms/step - loss: 0.4618 - accuracy: 0.7885 - val_loss: 0.6136 - val_accuracy: 0.8162 - lr: 1.0000e-04\n",
      "Epoch 6/20\n",
      "2984/2984 [==============================] - 123s 41ms/step - loss: 0.4594 - accuracy: 0.7911 - val_loss: 0.6250 - val_accuracy: 0.8155 - lr: 1.0000e-04\n",
      "Epoch 7/20\n",
      "2984/2984 [==============================] - 123s 41ms/step - loss: 0.4551 - accuracy: 0.7918 - val_loss: 0.5566 - val_accuracy: 0.8292 - lr: 1.0000e-04\n",
      "Epoch 8/20\n",
      "2984/2984 [==============================] - 122s 41ms/step - loss: 0.4388 - accuracy: 0.7931 - val_loss: 0.5343 - val_accuracy: 0.8454 - lr: 1.0000e-04\n",
      "Epoch 9/20\n",
      "2984/2984 [==============================] - 94s 32ms/step - loss: 0.4327 - accuracy: 0.7931 - val_loss: 0.5090 - val_accuracy: 0.8558 - lr: 1.0000e-04\n",
      "Epoch 10/20\n",
      "2984/2984 [==============================] - 90s 30ms/step - loss: 0.4309 - accuracy: 0.7941 - val_loss: 0.5210 - val_accuracy: 0.8441 - lr: 1.0000e-04\n",
      "Epoch 11/20\n",
      "2984/2984 [==============================] - 111s 37ms/step - loss: 0.4287 - accuracy: 0.7936 - val_loss: 0.5146 - val_accuracy: 0.8515 - lr: 1.0000e-04\n",
      "Epoch 12/20\n",
      "2984/2984 [==============================] - 90s 30ms/step - loss: 0.4259 - accuracy: 0.7937 - val_loss: 0.4881 - val_accuracy: 0.8431 - lr: 1.0000e-04\n",
      "Epoch 13/20\n",
      "2984/2984 [==============================] - 90s 30ms/step - loss: 0.4236 - accuracy: 0.7935 - val_loss: 0.4647 - val_accuracy: 0.8555 - lr: 1.0000e-04\n",
      "Epoch 14/20\n",
      "2984/2984 [==============================] - 91s 30ms/step - loss: 0.4219 - accuracy: 0.7932 - val_loss: 0.4686 - val_accuracy: 0.8484 - lr: 1.0000e-04\n",
      "Epoch 15/20\n",
      "2984/2984 [==============================] - 91s 30ms/step - loss: 0.4209 - accuracy: 0.7941 - val_loss: 0.4362 - val_accuracy: 0.8500 - lr: 1.0000e-04\n",
      "Epoch 16/20\n",
      "2984/2984 [==============================] - 90s 30ms/step - loss: 0.4098 - accuracy: 0.7941 - val_loss: 0.4107 - val_accuracy: 0.8559 - lr: 1.0000e-04\n",
      "Epoch 17/20\n",
      "2984/2984 [==============================] - 90s 30ms/step - loss: 0.4061 - accuracy: 0.7936 - val_loss: 0.3838 - val_accuracy: 0.8586 - lr: 1.0000e-04\n",
      "Epoch 18/20\n",
      "2984/2984 [==============================] - 91s 30ms/step - loss: 0.4051 - accuracy: 0.7934 - val_loss: 0.4059 - val_accuracy: 0.8563 - lr: 1.0000e-04\n",
      "Epoch 19/20\n",
      "2984/2984 [==============================] - 93s 31ms/step - loss: 0.4040 - accuracy: 0.7940 - val_loss: 0.4024 - val_accuracy: 0.8588 - lr: 1.0000e-04\n",
      "Epoch 20/20\n",
      "2984/2984 [==============================] - ETA: 0s - loss: 0.4038 - accuracy: 0.7939\n",
      "Epoch 20: ReduceLROnPlateau reducing learning rate to 4.999999873689376e-05.\n",
      "2984/2984 [==============================] - 94s 32ms/step - loss: 0.4038 - accuracy: 0.7939 - val_loss: 0.3904 - val_accuracy: 0.8598 - lr: 1.0000e-04\n"
     ]
    }
   ],
   "source": [
    "# Train the model\n",
    "history = model.fit(X_train_standardized, y_train_resampled, epochs=20,\n",
    "                    batch_size=64, validation_split=0.2, callbacks=[early_stopping, reduce_lr])"
   ],
   "metadata": {
    "collapsed": false,
    "ExecuteTime": {
     "end_time": "2023-12-02T08:49:17.785992Z",
     "start_time": "2023-12-02T08:12:00.936238Z"
    }
   },
   "id": "c536f60d7be65705"
  },
  {
   "cell_type": "code",
   "execution_count": 50,
   "outputs": [
    {
     "name": "stdout",
     "output_type": "stream",
     "text": [
      "2573/2573 [==============================] - 15s 6ms/step\n",
      "              precision    recall  f1-score   support\n",
      "\n",
      "           0       0.75      0.73      0.74     37000\n",
      "           1       0.79      0.80      0.79     45332\n",
      "\n",
      "    accuracy                           0.77     82332\n",
      "   macro avg       0.77      0.77      0.77     82332\n",
      "weighted avg       0.77      0.77      0.77     82332\n"
     ]
    }
   ],
   "source": [
    "# Evaluate on test set for precision, recall, f1-score, and accuracy\n",
    "from sklearn.metrics import classification_report, confusion_matrix\n",
    "y_pred = model.predict(X_test_standardized)\n",
    "y_pred = (y_pred > 0.5)\n",
    "print(classification_report(y_test, y_pred))\n"
   ],
   "metadata": {
    "collapsed": false,
    "ExecuteTime": {
     "end_time": "2023-12-02T08:50:42.574125Z",
     "start_time": "2023-12-02T08:50:27.653832Z"
    }
   },
   "id": "7400a9c0187a71c0"
  },
  {
   "cell_type": "code",
   "execution_count": 51,
   "outputs": [],
   "source": [
    "#confusion matrix\n",
    "from sklearn.metrics import confusion_matrix\n",
    "def plot_confusion_matrix(model, X_test, y_test):\n",
    "    y_pred = model.predict(X_test)\n",
    "    y_pred = (y_pred > 0.5)\n",
    "    cm = confusion_matrix(y_test, y_pred)\n",
    "    plt.figure(figsize=(10,5))\n",
    "    sns.heatmap(cm, annot=True, fmt='d')\n",
    "    plt.title('Confusion Matrix')\n",
    "    plt.xlabel('Predicted Label')\n",
    "    plt.ylabel('True Label')\n",
    "    plt.show()"
   ],
   "metadata": {
    "collapsed": false,
    "ExecuteTime": {
     "end_time": "2023-12-02T08:50:46.769076Z",
     "start_time": "2023-12-02T08:50:46.753392Z"
    }
   },
   "id": "65e5b2eea258ab3e"
  },
  {
   "cell_type": "code",
   "execution_count": 52,
   "outputs": [
    {
     "name": "stdout",
     "output_type": "stream",
     "text": [
      "2573/2573 [==============================] - 13s 5ms/step\n"
     ]
    },
    {
     "data": {
      "text/plain": "<Figure size 1000x500 with 2 Axes>",
      "image/png": "[encoded data removed]"
     },
     "metadata": {},
     "output_type": "display_data"
    }
   ],
   "source": [
    "plot_confusion_matrix(model, X_test_standardized, y_test)"
   ],
   "metadata": {
    "collapsed": false,
    "ExecuteTime": {
     "end_time": "2023-12-02T08:51:02.813101Z",
     "start_time": "2023-12-02T08:50:49.087978Z"
    }
   },
   "id": "c885f00c17dd9d26"
  },
  {
   "cell_type": "code",
   "execution_count": 105,
   "outputs": [],
   "source": [
    "def visualize_training_results(history):\n",
    "    plt.figure(figsize=(10,5))\n",
    "    plt.plot(history.history['accuracy'], label='Train Accuracy')\n",
    "    plt.plot(history.history['val_accuracy'], label='Validation Accuracy')\n",
    "    plt.plot(history.history['loss'], label='Train Loss')\n",
    "    plt.plot(history.history['val_loss'], label='Validation Loss')\n",
    "    plt.legend()\n",
    "    plt.title('Training Results')\n",
    "    plt.show()"
   ],
   "metadata": {
    "collapsed": false,
    "ExecuteTime": {
     "end_time": "2023-12-02T08:56:53.396010Z",
     "start_time": "2023-12-02T08:56:53.360500Z"
    }
   },
   "id": "3bcf8932ececcfc6"
  },
  {
   "cell_type": "code",
   "execution_count": 106,
   "outputs": [
    {
     "data": {
      "text/plain": "<Figure size 1000x500 with 1 Axes>",
      "image/png": "[encoded data removed]"
     },
     "metadata": {},
     "output_type": "display_data"
    }
   ],
   "source": [
    "visualize_training_results(history)"
   ],
   "metadata": {
    "collapsed": false,
    "ExecuteTime": {
     "end_time": "2023-12-02T08:56:54.644607Z",
     "start_time": "2023-12-02T08:56:54.535303Z"
    }
   },
   "id": "926d951c6debf212"
  }
 ],
 "metadata": {
  "kernelspec": {
   "display_name": "Python 3",
   "language": "python",
   "name": "python3"
  },
  "language_info": {
   "codemirror_mode": {
    "name": "ipython",
    "version": 2
   },
   "file_extension": ".py",
   "mimetype": "text/x-python",
   "name": "python",
   "nbconvert_exporter": "python",
   "pygments_lexer": "ipython2",
   "version": "2.7.6"
  }
 },
 "nbformat": 4,
 "nbformat_minor": 5
}
