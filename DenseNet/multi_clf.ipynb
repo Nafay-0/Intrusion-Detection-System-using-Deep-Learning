{
 "cells": [
  {
   "cell_type": "code",
   "execution_count": 1,
   "id": "initial_id",
   "metadata": {
    "collapsed": true,
    "ExecuteTime": {
     "end_time": "2023-12-03T13:04:44.897154800Z",
     "start_time": "2023-12-03T13:04:43.713695300Z"
    }
   },
   "outputs": [],
   "source": [
    "import pandas as pd\n",
    "import numpy as np"
   ]
  },
  {
   "cell_type": "code",
   "execution_count": 2,
   "outputs": [],
   "source": [
    "\"\"\"\n",
    "This function is used to load the dataset\n",
    "\"\"\"\n",
    "def load_dataset():\n",
    "    train_df = pd.read_csv(\"../Data/UNSW_NB15_testing-set.csv\")\n",
    "    test_df = pd.read_csv(\"../Data/UNSW_NB15_training-set.csv\")\n",
    "    return train_df, test_df"
   ],
   "metadata": {
    "collapsed": false,
    "ExecuteTime": {
     "end_time": "2023-12-03T13:04:44.897154800Z",
     "start_time": "2023-12-03T13:04:43.729323800Z"
    }
   },
   "id": "bf3cdb508014dbc6"
  },
  {
   "cell_type": "code",
   "execution_count": 3,
   "outputs": [],
   "source": [
    "\"\"\"\n",
    "This function is used to preprocess the attack_cat column\n",
    "\"\"\"\n",
    "def data_preprocessing_attack_cat(data):\n",
    "    data[\"attack_cat\"] = data[\"attack_cat\"].fillna('Normal')\n",
    "    data[\"attack_cat\"] = data[\"attack_cat\"].replace(' Fuzzers','Fuzzers')\n",
    "    data[\"attack_cat\"] = data[\"attack_cat\"].replace(' Fuzzers ','Fuzzers')\n",
    "    data[\"attack_cat\"] = data[\"attack_cat\"].replace(' Reconnaissance','Reconnaissance')\n",
    "    data[\"attack_cat\"] = data[\"attack_cat\"].replace(' Reconnaissance ','Reconnaissance')\n",
    "    data[\"attack_cat\"] = data[\"attack_cat\"].replace(' Shellcode','Shellcode')\n",
    "    data[\"attack_cat\"] = data[\"attack_cat\"].replace(' Shellcode ','Shellcode')\n",
    "    data[\"attack_cat\"] = data[\"attack_cat\"].replace('Backdoors','Backdoor')\n",
    "    return data"
   ],
   "metadata": {
    "collapsed": false,
    "ExecuteTime": {
     "end_time": "2023-12-03T13:04:44.897154800Z",
     "start_time": "2023-12-03T13:04:43.744937500Z"
    }
   },
   "id": "f1dd149f7a0b6c2e"
  },
  {
   "cell_type": "code",
   "execution_count": 4,
   "outputs": [],
   "source": [
    "\"\"\"\n",
    "This function is used to visualize the attack_cat column\n",
    "\n",
    "\"\"\"\n",
    "def visualize_attack_cats(data):\n",
    "    import seaborn as sns\n",
    "    import matplotlib.pyplot as plt\n",
    "    plt.figure(figsize=(20,10))\n",
    "    sns.countplot(x=\"attack_cat\", data=data)\n",
    "    plt.show()"
   ],
   "metadata": {
    "collapsed": false,
    "ExecuteTime": {
     "end_time": "2023-12-03T13:04:44.897154800Z",
     "start_time": "2023-12-03T13:04:43.760560500Z"
    }
   },
   "id": "d1a34434fcbd622a"
  },
  {
   "cell_type": "code",
   "execution_count": 5,
   "outputs": [],
   "source": [
    "\"\"\"\n",
    "This function is used to preprocess the numerical columns\n",
    "\n",
    "\"\"\"\n",
    "def preprocess_numerical_cols(df):\n",
    "    numerical_cols = df.select_dtypes(exclude=[\"object\"]).columns\n",
    "    df[numerical_cols] = df[numerical_cols].fillna(0)\n",
    "    return df"
   ],
   "metadata": {
    "collapsed": false,
    "ExecuteTime": {
     "end_time": "2023-12-03T13:04:44.897154800Z",
     "start_time": "2023-12-03T13:04:43.788011700Z"
    }
   },
   "id": "37a83d1c37549e84"
  },
  {
   "cell_type": "code",
   "execution_count": 6,
   "outputs": [],
   "source": [
    "\"\"\"\n",
    "This function is used to preprocess the categorical columns\n",
    "\n",
    "\n",
    "\"\"\"\n",
    "def preprocess_categorical_cols(df):\n",
    "    categorical_cols = df.select_dtypes(include=[\"object\"]).columns\n",
    "    categorical_cols = list(categorical_cols)\n",
    "    categorical_cols.remove(\"attack_cat\")\n",
    "    df[categorical_cols] = df[categorical_cols].replace('-', \"None\")\n",
    "    df[categorical_cols] = df[categorical_cols].fillna(\"None\")\n",
    "    return df"
   ],
   "metadata": {
    "collapsed": false,
    "ExecuteTime": {
     "end_time": "2023-12-03T13:04:44.897154800Z",
     "start_time": "2023-12-03T13:04:43.803656700Z"
    }
   },
   "id": "4c696a3fae52f5d9"
  },
  {
   "cell_type": "code",
   "execution_count": 7,
   "outputs": [],
   "source": [
    "\"\"\"\n",
    "This function is used to preprocess the data\n",
    "\n",
    "\n",
    "\"\"\"\n",
    "def preprocess_data(df):\n",
    "    df = preprocess_numerical_cols(df)\n",
    "    df = preprocess_categorical_cols(df)\n",
    "    return df"
   ],
   "metadata": {
    "collapsed": false,
    "ExecuteTime": {
     "end_time": "2023-12-03T13:04:44.897154800Z",
     "start_time": "2023-12-03T13:04:43.819285400Z"
    }
   },
   "id": "8b61cf292846c298"
  },
  {
   "cell_type": "code",
   "execution_count": 8,
   "outputs": [],
   "source": [
    "\"\"\"\n",
    "This function is used to one hot encode the column\n",
    "\"\"\"\n",
    "from sklearn.preprocessing import OneHotEncoder\n",
    "def one_hot_encode_fit_col(data, col):\n",
    "    values = data[col].unique()\n",
    "    for index, v_col in enumerate(values):\n",
    "        values[index] = col+\"_\"+v_col\n",
    "        data[col+\"_\"+v_col] = np.zeros(len(data))\n",
    "    enc = OneHotEncoder(handle_unknown='ignore')\n",
    "    data[values] = enc.fit_transform(data[col].values.reshape(-1,1)).toarray()\n",
    "    data = data.drop([col],axis=1)\n",
    "    return data, enc, values"
   ],
   "metadata": {
    "collapsed": false,
    "ExecuteTime": {
     "end_time": "2023-12-03T13:04:44.897154800Z",
     "start_time": "2023-12-03T13:04:43.834876400Z"
    }
   },
   "id": "5b8c71f283a1d805"
  },
  {
   "cell_type": "code",
   "execution_count": 9,
   "outputs": [],
   "source": [
    "\"\"\"\n",
    "This function is used to one hot encode the column\n",
    "\"\"\"\n",
    "def one_hot_encode_transform_col(data, col, enc, col_values):\n",
    "    for v_col in col_values:\n",
    "        data[v_col] = np.zeros(len(data))\n",
    "    data[col_values] = enc.transform(data[col].values.reshape(-1,1)).toarray()\n",
    "    data = data.drop([col],axis=1)\n",
    "    return data"
   ],
   "metadata": {
    "collapsed": false,
    "ExecuteTime": {
     "end_time": "2023-12-03T13:04:44.897154800Z",
     "start_time": "2023-12-03T13:04:44.053603600Z"
    }
   },
   "id": "2d17ccb37f258851"
  },
  {
   "cell_type": "code",
   "execution_count": 10,
   "outputs": [],
   "source": [
    "\"\"\"\n",
    "This function is used to label encode the column\n",
    "\"\"\"\n",
    "def label_encoder_fit_col(data, col):\n",
    "    values = [\"out\"]\n",
    "    values.extend(data[col].unique())\n",
    "    dict_values = {k: v for v, k in enumerate(values)}\n",
    "    #print(dict_values)\n",
    "    data[col] = data[col].apply(lambda x: dict_values[x])\n",
    "    data[col] = data[col].astype(\"int32\")\n",
    "    return data, dict_values"
   ],
   "metadata": {
    "collapsed": false,
    "ExecuteTime": {
     "end_time": "2023-12-03T13:04:44.897154800Z",
     "start_time": "2023-12-03T13:04:44.069224500Z"
    }
   },
   "id": "41573eaaa1d48584"
  },
  {
   "cell_type": "code",
   "execution_count": 11,
   "outputs": [],
   "source": [
    "\"\"\"\n",
    "This function is used to label encode the column\n",
    "\"\"\"\n",
    "def label_encoder_transform_col(data, col, dict_values):\n",
    "    data[col] = data[col].apply(lambda x: dict_values[x] if x in dict_values else 0)\n",
    "    data[col] = data[col].astype(\"int32\")\n",
    "    return data"
   ],
   "metadata": {
    "collapsed": false,
    "ExecuteTime": {
     "end_time": "2023-12-03T13:04:44.897154800Z",
     "start_time": "2023-12-03T13:04:44.084850100Z"
    }
   },
   "id": "e15aaf128f0f26e9"
  },
  {
   "cell_type": "code",
   "execution_count": 12,
   "outputs": [],
   "source": [
    "\"\"\"\n",
    "This function is used to get the class weights\n",
    "\n",
    "\"\"\"\n",
    "from sklearn.utils import class_weight\n",
    "def get_class_weights(y):\n",
    "    class_weights = class_weight.compute_class_weight('balanced',\n",
    "                                                     classes=np.unique(y),\n",
    "                                                     y=y)\n",
    "    class_weights = {k: v for k,v in enumerate(class_weights)}\n",
    "    return class_weights"
   ],
   "metadata": {
    "collapsed": false,
    "ExecuteTime": {
     "end_time": "2023-12-03T13:04:44.897154800Z",
     "start_time": "2023-12-03T13:04:44.100439800Z"
    }
   },
   "id": "a1f688586efe0a27"
  },
  {
   "cell_type": "code",
   "execution_count": 13,
   "outputs": [
    {
     "name": "stdout",
     "output_type": "stream",
     "text": [
      "WARNING:tensorflow:From c:\\users\\user\\appdata\\local\\programs\\python\\python39\\lib\\site-packages\\keras\\src\\losses.py:2976: The name tf.losses.sparse_softmax_cross_entropy is deprecated. Please use tf.compat.v1.losses.sparse_softmax_cross_entropy instead.\n"
     ]
    }
   ],
   "source": [
    "\"\"\"\n",
    "This function is used to label encode the column\n",
    "\n",
    "\"\"\"\n",
    "from sklearn.preprocessing import LabelEncoder\n",
    "from tensorflow.keras.utils import to_categorical\n",
    "def label_encode(y,num_classes):\n",
    "    cls_label_encoder = LabelEncoder()\n",
    "    y = cls_label_encoder.fit_transform(y)\n",
    "    y = to_categorical(y, num_classes=num_classes)\n",
    "    return y, cls_label_encoder"
   ],
   "metadata": {
    "collapsed": false,
    "ExecuteTime": {
     "end_time": "2023-12-03T13:04:51.706955800Z",
     "start_time": "2023-12-03T13:04:44.116084100Z"
    }
   },
   "id": "281c446d884e316c"
  },
  {
   "cell_type": "code",
   "execution_count": 52,
   "outputs": [],
   "source": [
    "\"\"\"\n",
    "This function is used to print the scores\n",
    "\"\"\"\n",
    "from sklearn.metrics import accuracy_score, precision_recall_fscore_support,confusion_matrix, classification_report, precision_score, recall_score, f1_score\n",
    "def print_score(y_pred, y_real,cls_label_encoder):\n",
    "    print(\"Accuracy: \", accuracy_score(y_real, y_pred))\n",
    "    print (\"Precision Score: \", precision_score(y_real, y_pred, average='weighted'))\n",
    "    print (\"Recall Score: \", recall_score(y_real, y_pred, average='weighted'))\n",
    "    print (\"F1 Score: \", f1_score(y_real, y_pred, average='weighted'))\n",
    "    print(\"Confusion Matrix\")\n",
    "    print(confusion_matrix(y_real, y_pred))\n"
   ],
   "metadata": {
    "collapsed": false,
    "ExecuteTime": {
     "end_time": "2023-12-03T14:27:27.638470700Z",
     "start_time": "2023-12-03T14:27:27.607205600Z"
    }
   },
   "id": "91ceadd66f597747"
  },
  {
   "cell_type": "code",
   "execution_count": 15,
   "outputs": [],
   "source": [
    "import keras.backend as K\n",
    "\"\"\"\n",
    "This function is used to calculate the f1 score\n",
    "\"\"\"\n",
    "def f1_score(y_true, y_pred):\n",
    "    true_positives = K.sum(K.round(K.clip(y_true * y_pred, 0, 1)))\n",
    "    possible_positives = K.sum(K.round(K.clip(y_true, 0, 1)))\n",
    "    predicted_positives = K.sum(K.round(K.clip(y_pred, 0, 1)))\n",
    "    precision = true_positives / (predicted_positives + K.epsilon())\n",
    "    recall = true_positives / (possible_positives + K.epsilon())\n",
    "    f1_val = 2*(precision*recall)/(precision+recall+K.epsilon())\n",
    "    return f1_val"
   ],
   "metadata": {
    "collapsed": false,
    "ExecuteTime": {
     "end_time": "2023-12-03T13:04:51.988135800Z",
     "start_time": "2023-12-03T13:04:51.972536Z"
    }
   },
   "id": "95140021fc57c3d2"
  },
  {
   "cell_type": "code",
   "execution_count": 16,
   "outputs": [],
   "source": [
    "\"\"\"\n",
    "This function is used to min max scale the column\n",
    "\"\"\"\n",
    "from sklearn.preprocessing import MinMaxScaler\n",
    "def min_max_scaler_fit_col(data):\n",
    "    scaler = MinMaxScaler(feature_range=(0,1))\n",
    "    data = scaler.fit_transform(data)\n",
    "    return data"
   ],
   "metadata": {
    "collapsed": false,
    "ExecuteTime": {
     "end_time": "2023-12-03T13:04:52.019399900Z",
     "start_time": "2023-12-03T13:04:51.988135800Z"
    }
   },
   "id": "3b3492a6e732f1ae"
  },
  {
   "cell_type": "code",
   "execution_count": 16,
   "outputs": [],
   "source": [],
   "metadata": {
    "collapsed": false,
    "ExecuteTime": {
     "end_time": "2023-12-03T13:04:52.019399900Z",
     "start_time": "2023-12-03T13:04:52.003757300Z"
    }
   },
   "id": "c986d12ba1428371"
  },
  {
   "cell_type": "code",
   "execution_count": 17,
   "outputs": [],
   "source": [
    "train_df,test_df = load_dataset()"
   ],
   "metadata": {
    "collapsed": false,
    "ExecuteTime": {
     "end_time": "2023-12-03T13:04:52.771897Z",
     "start_time": "2023-12-03T13:04:52.019399900Z"
    }
   },
   "id": "86bffca1873e0de0"
  },
  {
   "cell_type": "code",
   "execution_count": 18,
   "outputs": [],
   "source": [
    "train_df = train_df.drop([\"id\"], axis=1)\n",
    "test_df = test_df.drop([\"id\"], axis=1)"
   ],
   "metadata": {
    "collapsed": false,
    "ExecuteTime": {
     "end_time": "2023-12-03T13:04:52.818699800Z",
     "start_time": "2023-12-03T13:04:52.771897Z"
    }
   },
   "id": "f5ac691e433095fe"
  },
  {
   "cell_type": "code",
   "execution_count": 19,
   "outputs": [],
   "source": [
    "train_df = data_preprocessing_attack_cat(train_df)\n",
    "test_df = data_preprocessing_attack_cat(test_df)"
   ],
   "metadata": {
    "collapsed": false,
    "ExecuteTime": {
     "end_time": "2023-12-03T13:04:52.943732300Z",
     "start_time": "2023-12-03T13:04:52.818699800Z"
    }
   },
   "id": "b815820669384c19"
  },
  {
   "cell_type": "code",
   "execution_count": 20,
   "outputs": [
    {
     "data": {
      "text/plain": "<Figure size 2000x1000 with 1 Axes>",
      "image/png": "[encoded data removed]"
     },
     "metadata": {},
     "output_type": "display_data"
    }
   ],
   "source": [
    "visualize_attack_cats(train_df)"
   ],
   "metadata": {
    "collapsed": false,
    "ExecuteTime": {
     "end_time": "2023-12-03T13:04:53.396688500Z",
     "start_time": "2023-12-03T13:04:52.943732300Z"
    }
   },
   "id": "54efc3cfb999f49a"
  },
  {
   "cell_type": "code",
   "execution_count": 21,
   "outputs": [],
   "source": [
    "train_df = preprocess_data(train_df)\n",
    "test_df = preprocess_data(test_df)"
   ],
   "metadata": {
    "collapsed": false,
    "ExecuteTime": {
     "end_time": "2023-12-03T13:04:53.630985700Z",
     "start_time": "2023-12-03T13:04:53.396688500Z"
    }
   },
   "id": "31ea4da2970ece2c"
  },
  {
   "cell_type": "code",
   "execution_count": 22,
   "outputs": [],
   "source": [
    "train_df, dict_values = label_encoder_fit_col(train_df, \"proto\")\n",
    "test_df = label_encoder_transform_col(test_df, \"proto\", dict_values)"
   ],
   "metadata": {
    "collapsed": false,
    "ExecuteTime": {
     "end_time": "2023-12-03T13:04:53.709097900Z",
     "start_time": "2023-12-03T13:04:53.630985700Z"
    }
   },
   "id": "a4de8dd0041bb0fb"
  },
  {
   "cell_type": "code",
   "execution_count": 23,
   "outputs": [],
   "source": [
    "train_df, dict_values = label_encoder_fit_col(train_df, \"service\")\n",
    "test_df = label_encoder_transform_col(test_df, \"service\", dict_values)"
   ],
   "metadata": {
    "collapsed": false,
    "ExecuteTime": {
     "end_time": "2023-12-03T13:04:53.790958700Z",
     "start_time": "2023-12-03T13:04:53.724745500Z"
    }
   },
   "id": "6fa7d186070c89ad"
  },
  {
   "cell_type": "code",
   "execution_count": 24,
   "outputs": [],
   "source": [
    "train_df, dict_values = label_encoder_fit_col(train_df, \"state\")\n",
    "test_df = label_encoder_transform_col(test_df, \"state\", dict_values)"
   ],
   "metadata": {
    "collapsed": false,
    "ExecuteTime": {
     "end_time": "2023-12-03T13:04:53.869065900Z",
     "start_time": "2023-12-03T13:04:53.790958700Z"
    }
   },
   "id": "26e281226a37d81b"
  },
  {
   "cell_type": "code",
   "execution_count": 25,
   "outputs": [],
   "source": [
    "train_df = train_df.sample(frac=1).reset_index(drop=True)"
   ],
   "metadata": {
    "collapsed": false,
    "ExecuteTime": {
     "end_time": "2023-12-03T13:04:53.978419200Z",
     "start_time": "2023-12-03T13:04:53.869065900Z"
    }
   },
   "id": "6eb4b72491b5c60c"
  },
  {
   "cell_type": "code",
   "execution_count": 26,
   "outputs": [],
   "source": [
    "X_train = train_df.drop([\"label\", \"attack_cat\"], axis=1)\n",
    "y_train = train_df[\"attack_cat\"]\n",
    "X_test = test_df.drop([\"label\", \"attack_cat\"], axis=1)\n",
    "y_test = test_df[\"attack_cat\"]"
   ],
   "metadata": {
    "collapsed": false,
    "ExecuteTime": {
     "end_time": "2023-12-03T13:04:54.009661200Z",
     "start_time": "2023-12-03T13:04:53.978419200Z"
    }
   },
   "id": "633eec59c0f8f4ba"
  },
  {
   "cell_type": "code",
   "execution_count": 27,
   "outputs": [],
   "source": [
    "X_train = min_max_scaler_fit_col(X_train)\n",
    "X_test = min_max_scaler_fit_col(X_test)"
   ],
   "metadata": {
    "collapsed": false,
    "ExecuteTime": {
     "end_time": "2023-12-03T13:04:54.150165200Z",
     "start_time": "2023-12-03T13:04:54.009661200Z"
    }
   },
   "id": "95b15ac5806a71d1"
  },
  {
   "cell_type": "code",
   "execution_count": 28,
   "outputs": [],
   "source": [
    "X_train = X_train.reshape((X_train.shape[0], X_train.shape[1], 1))\n",
    "X_test = X_test.reshape((X_test.shape[0], X_test.shape[1], 1))"
   ],
   "metadata": {
    "collapsed": false,
    "ExecuteTime": {
     "end_time": "2023-12-03T13:04:54.165808500Z",
     "start_time": "2023-12-03T13:04:54.150165200Z"
    }
   },
   "id": "1bccc784b652de47"
  },
  {
   "cell_type": "code",
   "execution_count": 29,
   "outputs": [],
   "source": [
    "class_weights = get_class_weights(y_train)"
   ],
   "metadata": {
    "collapsed": false,
    "ExecuteTime": {
     "end_time": "2023-12-03T13:04:54.306378400Z",
     "start_time": "2023-12-03T13:04:54.165808500Z"
    }
   },
   "id": "9cec7ca3b9397c4d"
  },
  {
   "cell_type": "code",
   "execution_count": 30,
   "outputs": [],
   "source": [
    "y_train, cls_label_encoder = label_encode(y_train, len(np.unique(y_train)))\n",
    "y_test, _ = label_encode(y_test, len(np.unique(y_test)))"
   ],
   "metadata": {
    "collapsed": false,
    "ExecuteTime": {
     "end_time": "2023-12-03T13:04:54.462592200Z",
     "start_time": "2023-12-03T13:04:54.306378400Z"
    }
   },
   "id": "b3baad3bf5c2bdb4"
  },
  {
   "cell_type": "code",
   "execution_count": 31,
   "outputs": [
    {
     "data": {
      "text/plain": "array(['Analysis', 'Backdoor', 'DoS', 'Exploits', 'Fuzzers', 'Generic',\n       'Normal', 'Reconnaissance', 'Shellcode', 'Worms'], dtype=object)"
     },
     "execution_count": 31,
     "metadata": {},
     "output_type": "execute_result"
    }
   ],
   "source": [
    "cls_label_encoder.classes_"
   ],
   "metadata": {
    "collapsed": false,
    "ExecuteTime": {
     "end_time": "2023-12-03T13:04:54.478236400Z",
     "start_time": "2023-12-03T13:04:54.462592200Z"
    }
   },
   "id": "134db82579b05c19"
  },
  {
   "cell_type": "code",
   "execution_count": 32,
   "outputs": [
    {
     "name": "stdout",
     "output_type": "stream",
     "text": [
      "(175341, 10)\n",
      "(82332, 10)\n"
     ]
    }
   ],
   "source": [
    "print(y_train.shape)\n",
    "print(y_test.shape)"
   ],
   "metadata": {
    "collapsed": false,
    "ExecuteTime": {
     "end_time": "2023-12-03T13:04:54.493861200Z",
     "start_time": "2023-12-03T13:04:54.478236400Z"
    }
   },
   "id": "db36ee6b7cf2b7c"
  },
  {
   "cell_type": "code",
   "execution_count": 33,
   "outputs": [
    {
     "name": "stdout",
     "output_type": "stream",
     "text": [
      "(175341, 42, 1)\n",
      "(82332, 42, 1)\n"
     ]
    }
   ],
   "source": [
    "print(X_train.shape)\n",
    "print(X_test.shape)"
   ],
   "metadata": {
    "collapsed": false,
    "ExecuteTime": {
     "end_time": "2023-12-03T13:04:54.578193500Z",
     "start_time": "2023-12-03T13:04:54.493861200Z"
    }
   },
   "id": "5a5ce7bc7a996496"
  },
  {
   "cell_type": "code",
   "execution_count": 34,
   "outputs": [],
   "source": [
    "\"\"\"\n",
    "This function is used to build the Densenet model\n",
    "\"\"\"\n",
    "import tensorflow as tf\n",
    "from tensorflow.keras.layers import Input, Conv1D, BatchNormalization, Dense\n",
    "from tensorflow.keras.layers import AvgPool1D, GlobalAveragePooling1D, MaxPool1D\n",
    "from tensorflow.keras.models import Model\n",
    "from tensorflow.keras.layers import ReLU, concatenate, GRU, Reshape\n",
    "import tensorflow.keras.backend as K\n",
    "#Densenet\n",
    "def bn_rl_conv(x,filters,kernel=1,strides=1):\n",
    "    x = BatchNormalization()(x)\n",
    "    x = ReLU()(x)\n",
    "    x = Conv1D(filters, kernel, strides=strides,padding = 'same')(x)\n",
    "    return x\n",
    "def dense_block(x, repetition, filters):        \n",
    "    for _ in range(repetition):\n",
    "        y = bn_rl_conv(x, 4*filters)\n",
    "        y = bn_rl_conv(y, filters, 3)\n",
    "        x = concatenate([y,x])\n",
    "    return x\n",
    "def transition_layer(x):\n",
    "    x = bn_rl_conv(x, K.int_shape(x)[-1] //2 )\n",
    "    x = AvgPool1D(2, strides = 2, padding = 'same')(x)\n",
    "    return x\n",
    "def build_densenet(input_shape, n_classes, filters = 32):\n",
    "    input = Input (input_shape)\n",
    "    x = Conv1D(64, 7, strides = 2, padding = 'same')(input)\n",
    "    x = MaxPool1D(3, strides = 2, padding = 'same')(x)   \n",
    "    for repetition in [5,8,10,8]:\n",
    "        d = dense_block(x, repetition, filters)\n",
    "        x = transition_layer(d)    \n",
    "    x = GlobalAveragePooling1D()(d)\n",
    "    output = Dense(n_classes, activation = 'softmax')(x)   \n",
    "    model = Model(input, output)\n",
    "    return model"
   ],
   "metadata": {
    "collapsed": false,
    "ExecuteTime": {
     "end_time": "2023-12-03T13:04:54.593798800Z",
     "start_time": "2023-12-03T13:04:54.509456100Z"
    }
   },
   "id": "ee178e099200f7ae"
  },
  {
   "cell_type": "code",
   "execution_count": 35,
   "outputs": [],
   "source": [
    "input_shape = X_train.shape[1:]"
   ],
   "metadata": {
    "collapsed": false,
    "ExecuteTime": {
     "end_time": "2023-12-03T13:04:54.593798800Z",
     "start_time": "2023-12-03T13:04:54.525077Z"
    }
   },
   "id": "60d650ab1f40c019"
  },
  {
   "cell_type": "code",
   "execution_count": 36,
   "outputs": [],
   "source": [
    "from sklearn.model_selection import ParameterSampler\n",
    "import tensorflow as tf\n",
    "def tune_hyperparams():\n",
    "    # use random serch to tune hyperparameters\n",
    "    params_grid = {\n",
    "        'batch_size': [32, 64, 128],\n",
    "        'epochs': [10, 20, 30],\n",
    "        'learning_rate': [0.0001, 0.001, 0.01],\n",
    "        'dropout_rate': [0.2, 0.25, 0.3],\n",
    "        'activation': ['relu', 'leaky_relu', 'tan_h'],\n",
    "        'optimizer': ['adam', 'sgd', 'rmsprop'],\n",
    "        'filters': [8, 16, 32]\n",
    "    }\n",
    "    params_list = list(ParameterSampler(params_grid, n_iter=10, random_state=42))\n",
    "    best_params = None\n",
    "    for params in params_list:\n",
    "        print(\"Trying Out : \",params)\n",
    "        model = build_densenet(input_shape, 10, filters = params[\"filters\"])\n",
    "        if params[\"optimizer\"] == \"adam\":\n",
    "            optimizer = tf.keras.optimizers.Adam(learning_rate=params[\"learning_rate\"])\n",
    "        elif params[\"optimizer\"] == \"sgd\":\n",
    "            optimizer = tf.keras.optimizers.SGD(learning_rate=params[\"learning_rate\"])\n",
    "        else:\n",
    "            optimizer = tf.keras.optimizers.RMSprop(learning_rate=params[\"learning_rate\"])\n",
    "        model.compile(optimizer=optimizer, loss='binary_crossentropy', \n",
    "                 metrics=['accuracy', Precision(), Recall(), f1_score])\n",
    "        model.fit(X_train, y_train, epochs=params[\"epochs\"], batch_size=params[\"batch_size\"],\n",
    "                    validation_split=0.2, class_weight=class_weights)\n",
    "        _, accuracy, precision, recall, f1 = model.evaluate(X_test, y_test, verbose=0)\n",
    "        if best_params is None:\n",
    "            best_params = params\n",
    "            best_params[\"accuracy\"] = accuracy\n",
    "            best_params[\"precision\"] = precision\n",
    "            best_params[\"recall\"] = recall\n",
    "            best_params[\"f1\"] = f1\n",
    "        else:\n",
    "            if f1 > best_params[\"f1\"]:\n",
    "                best_params = params\n",
    "                best_params[\"accuracy\"] = accuracy\n",
    "                best_params[\"precision\"] = precision\n",
    "                best_params[\"recall\"] = recall\n",
    "                best_params[\"f1\"] = f1\n",
    "    print(\"Best Params : \", best_params)\n",
    "        "
   ],
   "metadata": {
    "collapsed": false,
    "ExecuteTime": {
     "end_time": "2023-12-03T13:04:54.593798800Z",
     "start_time": "2023-12-03T13:04:54.531290600Z"
    }
   },
   "id": "15de2e137e40c4f3"
  },
  {
   "cell_type": "code",
   "execution_count": 37,
   "outputs": [],
   "source": [
    "# tune_hyperparams()"
   ],
   "metadata": {
    "collapsed": false,
    "ExecuteTime": {
     "end_time": "2023-12-03T13:04:54.593798800Z",
     "start_time": "2023-12-03T13:04:54.562545600Z"
    }
   },
   "id": "6ef3849b6de6ff6f"
  },
  {
   "cell_type": "code",
   "execution_count": 38,
   "outputs": [
    {
     "name": "stdout",
     "output_type": "stream",
     "text": [
      "WARNING:tensorflow:From c:\\users\\user\\appdata\\local\\programs\\python\\python39\\lib\\site-packages\\keras\\src\\backend.py:1398: The name tf.executing_eagerly_outside_functions is deprecated. Please use tf.compat.v1.executing_eagerly_outside_functions instead.\n",
      "WARNING:tensorflow:From c:\\users\\user\\appdata\\local\\programs\\python\\python39\\lib\\site-packages\\keras\\src\\backend.py:6642: The name tf.nn.max_pool is deprecated. Please use tf.nn.max_pool2d instead.\n"
     ]
    }
   ],
   "source": [
    "dnet_clf = build_densenet(input_shape, 10 , filters = 16)"
   ],
   "metadata": {
    "collapsed": false,
    "ExecuteTime": {
     "end_time": "2023-12-03T13:04:56.618150400Z",
     "start_time": "2023-12-03T13:04:54.578193500Z"
    }
   },
   "id": "b01567220c78a7a3"
  },
  {
   "cell_type": "code",
   "execution_count": 39,
   "outputs": [],
   "source": [
    "from tensorflow.keras.metrics import Recall, Precision\n",
    "import tensorflow.keras as keras\n",
    "dnet_clf.compile(optimizer=keras.optimizers.Adam(learning_rate=0.001), loss='binary_crossentropy', \n",
    "                 metrics=['accuracy', Precision(), Recall(), f1_score])"
   ],
   "metadata": {
    "collapsed": false,
    "ExecuteTime": {
     "end_time": "2023-12-03T13:04:56.649388500Z",
     "start_time": "2023-12-03T13:04:56.618150400Z"
    }
   },
   "id": "5ae1672dce90c0e8"
  },
  {
   "cell_type": "code",
   "execution_count": 40,
   "outputs": [],
   "source": [
    "from keras.callbacks import ModelCheckpoint, EarlyStopping, ReduceLROnPlateau\n",
    "\n",
    "model_weights_file_path = \"dnet_mul_clf.h5\"\n",
    "checkpoint = ModelCheckpoint(filepath=model_weights_file_path, monitor=\"val_accuracy\",\n",
    "                             verbose=1, save_best_only=True, mode=\"max\", save_weights_only=True)\n",
    "early_stopping = EarlyStopping(monitor=\"val_accuracy\", mode=\"max\", verbose=1, patience=20,restore_best_weights=True)\n",
    "lr_reduce = ReduceLROnPlateau(monitor='val_accuracy', factor=0.5, patience=5, \n",
    "                              verbose=1, mode='max', min_delta=0.0001, cooldown=0)\n",
    "\n",
    "call_backs = [checkpoint, early_stopping, lr_reduce]"
   ],
   "metadata": {
    "collapsed": false,
    "ExecuteTime": {
     "end_time": "2023-12-03T13:04:56.665009600Z",
     "start_time": "2023-12-03T13:04:56.649388500Z"
    }
   },
   "id": "e222c4bc4fab5c42"
  },
  {
   "cell_type": "code",
   "execution_count": 41,
   "outputs": [
    {
     "name": "stdout",
     "output_type": "stream",
     "text": [
      "Model: \"model\"\n",
      "__________________________________________________________________________________________________\n",
      " Layer (type)                Output Shape                 Param #   Connected to                  \n",
      "==================================================================================================\n",
      " input_1 (InputLayer)        [(None, 42, 1)]              0         []                            \n",
      "                                                                                                  \n",
      " conv1d (Conv1D)             (None, 21, 64)               512       ['input_1[0][0]']             \n",
      "                                                                                                  \n",
      " max_pooling1d (MaxPooling1  (None, 11, 64)               0         ['conv1d[0][0]']              \n",
      " D)                                                                                               \n",
      "                                                                                                  \n",
      " batch_normalization (Batch  (None, 11, 64)               256       ['max_pooling1d[0][0]']       \n",
      " Normalization)                                                                                   \n",
      "                                                                                                  \n",
      " re_lu (ReLU)                (None, 11, 64)               0         ['batch_normalization[0][0]'] \n",
      "                                                                                                  \n",
      " conv1d_1 (Conv1D)           (None, 11, 64)               4160      ['re_lu[0][0]']               \n",
      "                                                                                                  \n",
      " batch_normalization_1 (Bat  (None, 11, 64)               256       ['conv1d_1[0][0]']            \n",
      " chNormalization)                                                                                 \n",
      "                                                                                                  \n",
      " re_lu_1 (ReLU)              (None, 11, 64)               0         ['batch_normalization_1[0][0]'\n",
      "                                                                    ]                             \n",
      "                                                                                                  \n",
      " conv1d_2 (Conv1D)           (None, 11, 16)               3088      ['re_lu_1[0][0]']             \n",
      "                                                                                                  \n",
      " concatenate (Concatenate)   (None, 11, 80)               0         ['conv1d_2[0][0]',            \n",
      "                                                                     'max_pooling1d[0][0]']       \n",
      "                                                                                                  \n",
      " batch_normalization_2 (Bat  (None, 11, 80)               320       ['concatenate[0][0]']         \n",
      " chNormalization)                                                                                 \n",
      "                                                                                                  \n",
      " re_lu_2 (ReLU)              (None, 11, 80)               0         ['batch_normalization_2[0][0]'\n",
      "                                                                    ]                             \n",
      "                                                                                                  \n",
      " conv1d_3 (Conv1D)           (None, 11, 64)               5184      ['re_lu_2[0][0]']             \n",
      "                                                                                                  \n",
      " batch_normalization_3 (Bat  (None, 11, 64)               256       ['conv1d_3[0][0]']            \n",
      " chNormalization)                                                                                 \n",
      "                                                                                                  \n",
      " re_lu_3 (ReLU)              (None, 11, 64)               0         ['batch_normalization_3[0][0]'\n",
      "                                                                    ]                             \n",
      "                                                                                                  \n",
      " conv1d_4 (Conv1D)           (None, 11, 16)               3088      ['re_lu_3[0][0]']             \n",
      "                                                                                                  \n",
      " concatenate_1 (Concatenate  (None, 11, 96)               0         ['conv1d_4[0][0]',            \n",
      " )                                                                   'concatenate[0][0]']         \n",
      "                                                                                                  \n",
      " batch_normalization_4 (Bat  (None, 11, 96)               384       ['concatenate_1[0][0]']       \n",
      " chNormalization)                                                                                 \n",
      "                                                                                                  \n",
      " re_lu_4 (ReLU)              (None, 11, 96)               0         ['batch_normalization_4[0][0]'\n",
      "                                                                    ]                             \n",
      "                                                                                                  \n",
      " conv1d_5 (Conv1D)           (None, 11, 64)               6208      ['re_lu_4[0][0]']             \n",
      "                                                                                                  \n",
      " batch_normalization_5 (Bat  (None, 11, 64)               256       ['conv1d_5[0][0]']            \n",
      " chNormalization)                                                                                 \n",
      "                                                                                                  \n",
      " re_lu_5 (ReLU)              (None, 11, 64)               0         ['batch_normalization_5[0][0]'\n",
      "                                                                    ]                             \n",
      "                                                                                                  \n",
      " conv1d_6 (Conv1D)           (None, 11, 16)               3088      ['re_lu_5[0][0]']             \n",
      "                                                                                                  \n",
      " concatenate_2 (Concatenate  (None, 11, 112)              0         ['conv1d_6[0][0]',            \n",
      " )                                                                   'concatenate_1[0][0]']       \n",
      "                                                                                                  \n",
      " batch_normalization_6 (Bat  (None, 11, 112)              448       ['concatenate_2[0][0]']       \n",
      " chNormalization)                                                                                 \n",
      "                                                                                                  \n",
      " re_lu_6 (ReLU)              (None, 11, 112)              0         ['batch_normalization_6[0][0]'\n",
      "                                                                    ]                             \n",
      "                                                                                                  \n",
      " conv1d_7 (Conv1D)           (None, 11, 64)               7232      ['re_lu_6[0][0]']             \n",
      "                                                                                                  \n",
      " batch_normalization_7 (Bat  (None, 11, 64)               256       ['conv1d_7[0][0]']            \n",
      " chNormalization)                                                                                 \n",
      "                                                                                                  \n",
      " re_lu_7 (ReLU)              (None, 11, 64)               0         ['batch_normalization_7[0][0]'\n",
      "                                                                    ]                             \n",
      "                                                                                                  \n",
      " conv1d_8 (Conv1D)           (None, 11, 16)               3088      ['re_lu_7[0][0]']             \n",
      "                                                                                                  \n",
      " concatenate_3 (Concatenate  (None, 11, 128)              0         ['conv1d_8[0][0]',            \n",
      " )                                                                   'concatenate_2[0][0]']       \n",
      "                                                                                                  \n",
      " batch_normalization_8 (Bat  (None, 11, 128)              512       ['concatenate_3[0][0]']       \n",
      " chNormalization)                                                                                 \n",
      "                                                                                                  \n",
      " re_lu_8 (ReLU)              (None, 11, 128)              0         ['batch_normalization_8[0][0]'\n",
      "                                                                    ]                             \n",
      "                                                                                                  \n",
      " conv1d_9 (Conv1D)           (None, 11, 64)               8256      ['re_lu_8[0][0]']             \n",
      "                                                                                                  \n",
      " batch_normalization_9 (Bat  (None, 11, 64)               256       ['conv1d_9[0][0]']            \n",
      " chNormalization)                                                                                 \n",
      "                                                                                                  \n",
      " re_lu_9 (ReLU)              (None, 11, 64)               0         ['batch_normalization_9[0][0]'\n",
      "                                                                    ]                             \n",
      "                                                                                                  \n",
      " conv1d_10 (Conv1D)          (None, 11, 16)               3088      ['re_lu_9[0][0]']             \n",
      "                                                                                                  \n",
      " concatenate_4 (Concatenate  (None, 11, 144)              0         ['conv1d_10[0][0]',           \n",
      " )                                                                   'concatenate_3[0][0]']       \n",
      "                                                                                                  \n",
      " batch_normalization_10 (Ba  (None, 11, 144)              576       ['concatenate_4[0][0]']       \n",
      " tchNormalization)                                                                                \n",
      "                                                                                                  \n",
      " re_lu_10 (ReLU)             (None, 11, 144)              0         ['batch_normalization_10[0][0]\n",
      "                                                                    ']                            \n",
      "                                                                                                  \n",
      " conv1d_11 (Conv1D)          (None, 11, 72)               10440     ['re_lu_10[0][0]']            \n",
      "                                                                                                  \n",
      " average_pooling1d (Average  (None, 6, 72)                0         ['conv1d_11[0][0]']           \n",
      " Pooling1D)                                                                                       \n",
      "                                                                                                  \n",
      " batch_normalization_11 (Ba  (None, 6, 72)                288       ['average_pooling1d[0][0]']   \n",
      " tchNormalization)                                                                                \n",
      "                                                                                                  \n",
      " re_lu_11 (ReLU)             (None, 6, 72)                0         ['batch_normalization_11[0][0]\n",
      "                                                                    ']                            \n",
      "                                                                                                  \n",
      " conv1d_12 (Conv1D)          (None, 6, 64)                4672      ['re_lu_11[0][0]']            \n",
      "                                                                                                  \n",
      " batch_normalization_12 (Ba  (None, 6, 64)                256       ['conv1d_12[0][0]']           \n",
      " tchNormalization)                                                                                \n",
      "                                                                                                  \n",
      " re_lu_12 (ReLU)             (None, 6, 64)                0         ['batch_normalization_12[0][0]\n",
      "                                                                    ']                            \n",
      "                                                                                                  \n",
      " conv1d_13 (Conv1D)          (None, 6, 16)                3088      ['re_lu_12[0][0]']            \n",
      "                                                                                                  \n",
      " concatenate_5 (Concatenate  (None, 6, 88)                0         ['conv1d_13[0][0]',           \n",
      " )                                                                   'average_pooling1d[0][0]']   \n",
      "                                                                                                  \n",
      " batch_normalization_13 (Ba  (None, 6, 88)                352       ['concatenate_5[0][0]']       \n",
      " tchNormalization)                                                                                \n",
      "                                                                                                  \n",
      " re_lu_13 (ReLU)             (None, 6, 88)                0         ['batch_normalization_13[0][0]\n",
      "                                                                    ']                            \n",
      "                                                                                                  \n",
      " conv1d_14 (Conv1D)          (None, 6, 64)                5696      ['re_lu_13[0][0]']            \n",
      "                                                                                                  \n",
      " batch_normalization_14 (Ba  (None, 6, 64)                256       ['conv1d_14[0][0]']           \n",
      " tchNormalization)                                                                                \n",
      "                                                                                                  \n",
      " re_lu_14 (ReLU)             (None, 6, 64)                0         ['batch_normalization_14[0][0]\n",
      "                                                                    ']                            \n",
      "                                                                                                  \n",
      " conv1d_15 (Conv1D)          (None, 6, 16)                3088      ['re_lu_14[0][0]']            \n",
      "                                                                                                  \n",
      " concatenate_6 (Concatenate  (None, 6, 104)               0         ['conv1d_15[0][0]',           \n",
      " )                                                                   'concatenate_5[0][0]']       \n",
      "                                                                                                  \n",
      " batch_normalization_15 (Ba  (None, 6, 104)               416       ['concatenate_6[0][0]']       \n",
      " tchNormalization)                                                                                \n",
      "                                                                                                  \n",
      " re_lu_15 (ReLU)             (None, 6, 104)               0         ['batch_normalization_15[0][0]\n",
      "                                                                    ']                            \n",
      "                                                                                                  \n",
      " conv1d_16 (Conv1D)          (None, 6, 64)                6720      ['re_lu_15[0][0]']            \n",
      "                                                                                                  \n",
      " batch_normalization_16 (Ba  (None, 6, 64)                256       ['conv1d_16[0][0]']           \n",
      " tchNormalization)                                                                                \n",
      "                                                                                                  \n",
      " re_lu_16 (ReLU)             (None, 6, 64)                0         ['batch_normalization_16[0][0]\n",
      "                                                                    ']                            \n",
      "                                                                                                  \n",
      " conv1d_17 (Conv1D)          (None, 6, 16)                3088      ['re_lu_16[0][0]']            \n",
      "                                                                                                  \n",
      " concatenate_7 (Concatenate  (None, 6, 120)               0         ['conv1d_17[0][0]',           \n",
      " )                                                                   'concatenate_6[0][0]']       \n",
      "                                                                                                  \n",
      " batch_normalization_17 (Ba  (None, 6, 120)               480       ['concatenate_7[0][0]']       \n",
      " tchNormalization)                                                                                \n",
      "                                                                                                  \n",
      " re_lu_17 (ReLU)             (None, 6, 120)               0         ['batch_normalization_17[0][0]\n",
      "                                                                    ']                            \n",
      "                                                                                                  \n",
      " conv1d_18 (Conv1D)          (None, 6, 64)                7744      ['re_lu_17[0][0]']            \n",
      "                                                                                                  \n",
      " batch_normalization_18 (Ba  (None, 6, 64)                256       ['conv1d_18[0][0]']           \n",
      " tchNormalization)                                                                                \n",
      "                                                                                                  \n",
      " re_lu_18 (ReLU)             (None, 6, 64)                0         ['batch_normalization_18[0][0]\n",
      "                                                                    ']                            \n",
      "                                                                                                  \n",
      " conv1d_19 (Conv1D)          (None, 6, 16)                3088      ['re_lu_18[0][0]']            \n",
      "                                                                                                  \n",
      " concatenate_8 (Concatenate  (None, 6, 136)               0         ['conv1d_19[0][0]',           \n",
      " )                                                                   'concatenate_7[0][0]']       \n",
      "                                                                                                  \n",
      " batch_normalization_19 (Ba  (None, 6, 136)               544       ['concatenate_8[0][0]']       \n",
      " tchNormalization)                                                                                \n",
      "                                                                                                  \n",
      " re_lu_19 (ReLU)             (None, 6, 136)               0         ['batch_normalization_19[0][0]\n",
      "                                                                    ']                            \n",
      "                                                                                                  \n",
      " conv1d_20 (Conv1D)          (None, 6, 64)                8768      ['re_lu_19[0][0]']            \n",
      "                                                                                                  \n",
      " batch_normalization_20 (Ba  (None, 6, 64)                256       ['conv1d_20[0][0]']           \n",
      " tchNormalization)                                                                                \n",
      "                                                                                                  \n",
      " re_lu_20 (ReLU)             (None, 6, 64)                0         ['batch_normalization_20[0][0]\n",
      "                                                                    ']                            \n",
      "                                                                                                  \n",
      " conv1d_21 (Conv1D)          (None, 6, 16)                3088      ['re_lu_20[0][0]']            \n",
      "                                                                                                  \n",
      " concatenate_9 (Concatenate  (None, 6, 152)               0         ['conv1d_21[0][0]',           \n",
      " )                                                                   'concatenate_8[0][0]']       \n",
      "                                                                                                  \n",
      " batch_normalization_21 (Ba  (None, 6, 152)               608       ['concatenate_9[0][0]']       \n",
      " tchNormalization)                                                                                \n",
      "                                                                                                  \n",
      " re_lu_21 (ReLU)             (None, 6, 152)               0         ['batch_normalization_21[0][0]\n",
      "                                                                    ']                            \n",
      "                                                                                                  \n",
      " conv1d_22 (Conv1D)          (None, 6, 64)                9792      ['re_lu_21[0][0]']            \n",
      "                                                                                                  \n",
      " batch_normalization_22 (Ba  (None, 6, 64)                256       ['conv1d_22[0][0]']           \n",
      " tchNormalization)                                                                                \n",
      "                                                                                                  \n",
      " re_lu_22 (ReLU)             (None, 6, 64)                0         ['batch_normalization_22[0][0]\n",
      "                                                                    ']                            \n",
      "                                                                                                  \n",
      " conv1d_23 (Conv1D)          (None, 6, 16)                3088      ['re_lu_22[0][0]']            \n",
      "                                                                                                  \n",
      " concatenate_10 (Concatenat  (None, 6, 168)               0         ['conv1d_23[0][0]',           \n",
      " e)                                                                  'concatenate_9[0][0]']       \n",
      "                                                                                                  \n",
      " batch_normalization_23 (Ba  (None, 6, 168)               672       ['concatenate_10[0][0]']      \n",
      " tchNormalization)                                                                                \n",
      "                                                                                                  \n",
      " re_lu_23 (ReLU)             (None, 6, 168)               0         ['batch_normalization_23[0][0]\n",
      "                                                                    ']                            \n",
      "                                                                                                  \n",
      " conv1d_24 (Conv1D)          (None, 6, 64)                10816     ['re_lu_23[0][0]']            \n",
      "                                                                                                  \n",
      " batch_normalization_24 (Ba  (None, 6, 64)                256       ['conv1d_24[0][0]']           \n",
      " tchNormalization)                                                                                \n",
      "                                                                                                  \n",
      " re_lu_24 (ReLU)             (None, 6, 64)                0         ['batch_normalization_24[0][0]\n",
      "                                                                    ']                            \n",
      "                                                                                                  \n",
      " conv1d_25 (Conv1D)          (None, 6, 16)                3088      ['re_lu_24[0][0]']            \n",
      "                                                                                                  \n",
      " concatenate_11 (Concatenat  (None, 6, 184)               0         ['conv1d_25[0][0]',           \n",
      " e)                                                                  'concatenate_10[0][0]']      \n",
      "                                                                                                  \n",
      " batch_normalization_25 (Ba  (None, 6, 184)               736       ['concatenate_11[0][0]']      \n",
      " tchNormalization)                                                                                \n",
      "                                                                                                  \n",
      " re_lu_25 (ReLU)             (None, 6, 184)               0         ['batch_normalization_25[0][0]\n",
      "                                                                    ']                            \n",
      "                                                                                                  \n",
      " conv1d_26 (Conv1D)          (None, 6, 64)                11840     ['re_lu_25[0][0]']            \n",
      "                                                                                                  \n",
      " batch_normalization_26 (Ba  (None, 6, 64)                256       ['conv1d_26[0][0]']           \n",
      " tchNormalization)                                                                                \n",
      "                                                                                                  \n",
      " re_lu_26 (ReLU)             (None, 6, 64)                0         ['batch_normalization_26[0][0]\n",
      "                                                                    ']                            \n",
      "                                                                                                  \n",
      " conv1d_27 (Conv1D)          (None, 6, 16)                3088      ['re_lu_26[0][0]']            \n",
      "                                                                                                  \n",
      " concatenate_12 (Concatenat  (None, 6, 200)               0         ['conv1d_27[0][0]',           \n",
      " e)                                                                  'concatenate_11[0][0]']      \n",
      "                                                                                                  \n",
      " batch_normalization_27 (Ba  (None, 6, 200)               800       ['concatenate_12[0][0]']      \n",
      " tchNormalization)                                                                                \n",
      "                                                                                                  \n",
      " re_lu_27 (ReLU)             (None, 6, 200)               0         ['batch_normalization_27[0][0]\n",
      "                                                                    ']                            \n",
      "                                                                                                  \n",
      " conv1d_28 (Conv1D)          (None, 6, 100)               20100     ['re_lu_27[0][0]']            \n",
      "                                                                                                  \n",
      " average_pooling1d_1 (Avera  (None, 3, 100)               0         ['conv1d_28[0][0]']           \n",
      " gePooling1D)                                                                                     \n",
      "                                                                                                  \n",
      " batch_normalization_28 (Ba  (None, 3, 100)               400       ['average_pooling1d_1[0][0]'] \n",
      " tchNormalization)                                                                                \n",
      "                                                                                                  \n",
      " re_lu_28 (ReLU)             (None, 3, 100)               0         ['batch_normalization_28[0][0]\n",
      "                                                                    ']                            \n",
      "                                                                                                  \n",
      " conv1d_29 (Conv1D)          (None, 3, 64)                6464      ['re_lu_28[0][0]']            \n",
      "                                                                                                  \n",
      " batch_normalization_29 (Ba  (None, 3, 64)                256       ['conv1d_29[0][0]']           \n",
      " tchNormalization)                                                                                \n",
      "                                                                                                  \n",
      " re_lu_29 (ReLU)             (None, 3, 64)                0         ['batch_normalization_29[0][0]\n",
      "                                                                    ']                            \n",
      "                                                                                                  \n",
      " conv1d_30 (Conv1D)          (None, 3, 16)                3088      ['re_lu_29[0][0]']            \n",
      "                                                                                                  \n",
      " concatenate_13 (Concatenat  (None, 3, 116)               0         ['conv1d_30[0][0]',           \n",
      " e)                                                                  'average_pooling1d_1[0][0]'] \n",
      "                                                                                                  \n",
      " batch_normalization_30 (Ba  (None, 3, 116)               464       ['concatenate_13[0][0]']      \n",
      " tchNormalization)                                                                                \n",
      "                                                                                                  \n",
      " re_lu_30 (ReLU)             (None, 3, 116)               0         ['batch_normalization_30[0][0]\n",
      "                                                                    ']                            \n",
      "                                                                                                  \n",
      " conv1d_31 (Conv1D)          (None, 3, 64)                7488      ['re_lu_30[0][0]']            \n",
      "                                                                                                  \n",
      " batch_normalization_31 (Ba  (None, 3, 64)                256       ['conv1d_31[0][0]']           \n",
      " tchNormalization)                                                                                \n",
      "                                                                                                  \n",
      " re_lu_31 (ReLU)             (None, 3, 64)                0         ['batch_normalization_31[0][0]\n",
      "                                                                    ']                            \n",
      "                                                                                                  \n",
      " conv1d_32 (Conv1D)          (None, 3, 16)                3088      ['re_lu_31[0][0]']            \n",
      "                                                                                                  \n",
      " concatenate_14 (Concatenat  (None, 3, 132)               0         ['conv1d_32[0][0]',           \n",
      " e)                                                                  'concatenate_13[0][0]']      \n",
      "                                                                                                  \n",
      " batch_normalization_32 (Ba  (None, 3, 132)               528       ['concatenate_14[0][0]']      \n",
      " tchNormalization)                                                                                \n",
      "                                                                                                  \n",
      " re_lu_32 (ReLU)             (None, 3, 132)               0         ['batch_normalization_32[0][0]\n",
      "                                                                    ']                            \n",
      "                                                                                                  \n",
      " conv1d_33 (Conv1D)          (None, 3, 64)                8512      ['re_lu_32[0][0]']            \n",
      "                                                                                                  \n",
      " batch_normalization_33 (Ba  (None, 3, 64)                256       ['conv1d_33[0][0]']           \n",
      " tchNormalization)                                                                                \n",
      "                                                                                                  \n",
      " re_lu_33 (ReLU)             (None, 3, 64)                0         ['batch_normalization_33[0][0]\n",
      "                                                                    ']                            \n",
      "                                                                                                  \n",
      " conv1d_34 (Conv1D)          (None, 3, 16)                3088      ['re_lu_33[0][0]']            \n",
      "                                                                                                  \n",
      " concatenate_15 (Concatenat  (None, 3, 148)               0         ['conv1d_34[0][0]',           \n",
      " e)                                                                  'concatenate_14[0][0]']      \n",
      "                                                                                                  \n",
      " batch_normalization_34 (Ba  (None, 3, 148)               592       ['concatenate_15[0][0]']      \n",
      " tchNormalization)                                                                                \n",
      "                                                                                                  \n",
      " re_lu_34 (ReLU)             (None, 3, 148)               0         ['batch_normalization_34[0][0]\n",
      "                                                                    ']                            \n",
      "                                                                                                  \n",
      " conv1d_35 (Conv1D)          (None, 3, 64)                9536      ['re_lu_34[0][0]']            \n",
      "                                                                                                  \n",
      " batch_normalization_35 (Ba  (None, 3, 64)                256       ['conv1d_35[0][0]']           \n",
      " tchNormalization)                                                                                \n",
      "                                                                                                  \n",
      " re_lu_35 (ReLU)             (None, 3, 64)                0         ['batch_normalization_35[0][0]\n",
      "                                                                    ']                            \n",
      "                                                                                                  \n",
      " conv1d_36 (Conv1D)          (None, 3, 16)                3088      ['re_lu_35[0][0]']            \n",
      "                                                                                                  \n",
      " concatenate_16 (Concatenat  (None, 3, 164)               0         ['conv1d_36[0][0]',           \n",
      " e)                                                                  'concatenate_15[0][0]']      \n",
      "                                                                                                  \n",
      " batch_normalization_36 (Ba  (None, 3, 164)               656       ['concatenate_16[0][0]']      \n",
      " tchNormalization)                                                                                \n",
      "                                                                                                  \n",
      " re_lu_36 (ReLU)             (None, 3, 164)               0         ['batch_normalization_36[0][0]\n",
      "                                                                    ']                            \n",
      "                                                                                                  \n",
      " conv1d_37 (Conv1D)          (None, 3, 64)                10560     ['re_lu_36[0][0]']            \n",
      "                                                                                                  \n",
      " batch_normalization_37 (Ba  (None, 3, 64)                256       ['conv1d_37[0][0]']           \n",
      " tchNormalization)                                                                                \n",
      "                                                                                                  \n",
      " re_lu_37 (ReLU)             (None, 3, 64)                0         ['batch_normalization_37[0][0]\n",
      "                                                                    ']                            \n",
      "                                                                                                  \n",
      " conv1d_38 (Conv1D)          (None, 3, 16)                3088      ['re_lu_37[0][0]']            \n",
      "                                                                                                  \n",
      " concatenate_17 (Concatenat  (None, 3, 180)               0         ['conv1d_38[0][0]',           \n",
      " e)                                                                  'concatenate_16[0][0]']      \n",
      "                                                                                                  \n",
      " batch_normalization_38 (Ba  (None, 3, 180)               720       ['concatenate_17[0][0]']      \n",
      " tchNormalization)                                                                                \n",
      "                                                                                                  \n",
      " re_lu_38 (ReLU)             (None, 3, 180)               0         ['batch_normalization_38[0][0]\n",
      "                                                                    ']                            \n",
      "                                                                                                  \n",
      " conv1d_39 (Conv1D)          (None, 3, 64)                11584     ['re_lu_38[0][0]']            \n",
      "                                                                                                  \n",
      " batch_normalization_39 (Ba  (None, 3, 64)                256       ['conv1d_39[0][0]']           \n",
      " tchNormalization)                                                                                \n",
      "                                                                                                  \n",
      " re_lu_39 (ReLU)             (None, 3, 64)                0         ['batch_normalization_39[0][0]\n",
      "                                                                    ']                            \n",
      "                                                                                                  \n",
      " conv1d_40 (Conv1D)          (None, 3, 16)                3088      ['re_lu_39[0][0]']            \n",
      "                                                                                                  \n",
      " concatenate_18 (Concatenat  (None, 3, 196)               0         ['conv1d_40[0][0]',           \n",
      " e)                                                                  'concatenate_17[0][0]']      \n",
      "                                                                                                  \n",
      " batch_normalization_40 (Ba  (None, 3, 196)               784       ['concatenate_18[0][0]']      \n",
      " tchNormalization)                                                                                \n",
      "                                                                                                  \n",
      " re_lu_40 (ReLU)             (None, 3, 196)               0         ['batch_normalization_40[0][0]\n",
      "                                                                    ']                            \n",
      "                                                                                                  \n",
      " conv1d_41 (Conv1D)          (None, 3, 64)                12608     ['re_lu_40[0][0]']            \n",
      "                                                                                                  \n",
      " batch_normalization_41 (Ba  (None, 3, 64)                256       ['conv1d_41[0][0]']           \n",
      " tchNormalization)                                                                                \n",
      "                                                                                                  \n",
      " re_lu_41 (ReLU)             (None, 3, 64)                0         ['batch_normalization_41[0][0]\n",
      "                                                                    ']                            \n",
      "                                                                                                  \n",
      " conv1d_42 (Conv1D)          (None, 3, 16)                3088      ['re_lu_41[0][0]']            \n",
      "                                                                                                  \n",
      " concatenate_19 (Concatenat  (None, 3, 212)               0         ['conv1d_42[0][0]',           \n",
      " e)                                                                  'concatenate_18[0][0]']      \n",
      "                                                                                                  \n",
      " batch_normalization_42 (Ba  (None, 3, 212)               848       ['concatenate_19[0][0]']      \n",
      " tchNormalization)                                                                                \n",
      "                                                                                                  \n",
      " re_lu_42 (ReLU)             (None, 3, 212)               0         ['batch_normalization_42[0][0]\n",
      "                                                                    ']                            \n",
      "                                                                                                  \n",
      " conv1d_43 (Conv1D)          (None, 3, 64)                13632     ['re_lu_42[0][0]']            \n",
      "                                                                                                  \n",
      " batch_normalization_43 (Ba  (None, 3, 64)                256       ['conv1d_43[0][0]']           \n",
      " tchNormalization)                                                                                \n",
      "                                                                                                  \n",
      " re_lu_43 (ReLU)             (None, 3, 64)                0         ['batch_normalization_43[0][0]\n",
      "                                                                    ']                            \n",
      "                                                                                                  \n",
      " conv1d_44 (Conv1D)          (None, 3, 16)                3088      ['re_lu_43[0][0]']            \n",
      "                                                                                                  \n",
      " concatenate_20 (Concatenat  (None, 3, 228)               0         ['conv1d_44[0][0]',           \n",
      " e)                                                                  'concatenate_19[0][0]']      \n",
      "                                                                                                  \n",
      " batch_normalization_44 (Ba  (None, 3, 228)               912       ['concatenate_20[0][0]']      \n",
      " tchNormalization)                                                                                \n",
      "                                                                                                  \n",
      " re_lu_44 (ReLU)             (None, 3, 228)               0         ['batch_normalization_44[0][0]\n",
      "                                                                    ']                            \n",
      "                                                                                                  \n",
      " conv1d_45 (Conv1D)          (None, 3, 64)                14656     ['re_lu_44[0][0]']            \n",
      "                                                                                                  \n",
      " batch_normalization_45 (Ba  (None, 3, 64)                256       ['conv1d_45[0][0]']           \n",
      " tchNormalization)                                                                                \n",
      "                                                                                                  \n",
      " re_lu_45 (ReLU)             (None, 3, 64)                0         ['batch_normalization_45[0][0]\n",
      "                                                                    ']                            \n",
      "                                                                                                  \n",
      " conv1d_46 (Conv1D)          (None, 3, 16)                3088      ['re_lu_45[0][0]']            \n",
      "                                                                                                  \n",
      " concatenate_21 (Concatenat  (None, 3, 244)               0         ['conv1d_46[0][0]',           \n",
      " e)                                                                  'concatenate_20[0][0]']      \n",
      "                                                                                                  \n",
      " batch_normalization_46 (Ba  (None, 3, 244)               976       ['concatenate_21[0][0]']      \n",
      " tchNormalization)                                                                                \n",
      "                                                                                                  \n",
      " re_lu_46 (ReLU)             (None, 3, 244)               0         ['batch_normalization_46[0][0]\n",
      "                                                                    ']                            \n",
      "                                                                                                  \n",
      " conv1d_47 (Conv1D)          (None, 3, 64)                15680     ['re_lu_46[0][0]']            \n",
      "                                                                                                  \n",
      " batch_normalization_47 (Ba  (None, 3, 64)                256       ['conv1d_47[0][0]']           \n",
      " tchNormalization)                                                                                \n",
      "                                                                                                  \n",
      " re_lu_47 (ReLU)             (None, 3, 64)                0         ['batch_normalization_47[0][0]\n",
      "                                                                    ']                            \n",
      "                                                                                                  \n",
      " conv1d_48 (Conv1D)          (None, 3, 16)                3088      ['re_lu_47[0][0]']            \n",
      "                                                                                                  \n",
      " concatenate_22 (Concatenat  (None, 3, 260)               0         ['conv1d_48[0][0]',           \n",
      " e)                                                                  'concatenate_21[0][0]']      \n",
      "                                                                                                  \n",
      " batch_normalization_48 (Ba  (None, 3, 260)               1040      ['concatenate_22[0][0]']      \n",
      " tchNormalization)                                                                                \n",
      "                                                                                                  \n",
      " re_lu_48 (ReLU)             (None, 3, 260)               0         ['batch_normalization_48[0][0]\n",
      "                                                                    ']                            \n",
      "                                                                                                  \n",
      " conv1d_49 (Conv1D)          (None, 3, 130)               33930     ['re_lu_48[0][0]']            \n",
      "                                                                                                  \n",
      " average_pooling1d_2 (Avera  (None, 2, 130)               0         ['conv1d_49[0][0]']           \n",
      " gePooling1D)                                                                                     \n",
      "                                                                                                  \n",
      " batch_normalization_49 (Ba  (None, 2, 130)               520       ['average_pooling1d_2[0][0]'] \n",
      " tchNormalization)                                                                                \n",
      "                                                                                                  \n",
      " re_lu_49 (ReLU)             (None, 2, 130)               0         ['batch_normalization_49[0][0]\n",
      "                                                                    ']                            \n",
      "                                                                                                  \n",
      " conv1d_50 (Conv1D)          (None, 2, 64)                8384      ['re_lu_49[0][0]']            \n",
      "                                                                                                  \n",
      " batch_normalization_50 (Ba  (None, 2, 64)                256       ['conv1d_50[0][0]']           \n",
      " tchNormalization)                                                                                \n",
      "                                                                                                  \n",
      " re_lu_50 (ReLU)             (None, 2, 64)                0         ['batch_normalization_50[0][0]\n",
      "                                                                    ']                            \n",
      "                                                                                                  \n",
      " conv1d_51 (Conv1D)          (None, 2, 16)                3088      ['re_lu_50[0][0]']            \n",
      "                                                                                                  \n",
      " concatenate_23 (Concatenat  (None, 2, 146)               0         ['conv1d_51[0][0]',           \n",
      " e)                                                                  'average_pooling1d_2[0][0]'] \n",
      "                                                                                                  \n",
      " batch_normalization_51 (Ba  (None, 2, 146)               584       ['concatenate_23[0][0]']      \n",
      " tchNormalization)                                                                                \n",
      "                                                                                                  \n",
      " re_lu_51 (ReLU)             (None, 2, 146)               0         ['batch_normalization_51[0][0]\n",
      "                                                                    ']                            \n",
      "                                                                                                  \n",
      " conv1d_52 (Conv1D)          (None, 2, 64)                9408      ['re_lu_51[0][0]']            \n",
      "                                                                                                  \n",
      " batch_normalization_52 (Ba  (None, 2, 64)                256       ['conv1d_52[0][0]']           \n",
      " tchNormalization)                                                                                \n",
      "                                                                                                  \n",
      " re_lu_52 (ReLU)             (None, 2, 64)                0         ['batch_normalization_52[0][0]\n",
      "                                                                    ']                            \n",
      "                                                                                                  \n",
      " conv1d_53 (Conv1D)          (None, 2, 16)                3088      ['re_lu_52[0][0]']            \n",
      "                                                                                                  \n",
      " concatenate_24 (Concatenat  (None, 2, 162)               0         ['conv1d_53[0][0]',           \n",
      " e)                                                                  'concatenate_23[0][0]']      \n",
      "                                                                                                  \n",
      " batch_normalization_53 (Ba  (None, 2, 162)               648       ['concatenate_24[0][0]']      \n",
      " tchNormalization)                                                                                \n",
      "                                                                                                  \n",
      " re_lu_53 (ReLU)             (None, 2, 162)               0         ['batch_normalization_53[0][0]\n",
      "                                                                    ']                            \n",
      "                                                                                                  \n",
      " conv1d_54 (Conv1D)          (None, 2, 64)                10432     ['re_lu_53[0][0]']            \n",
      "                                                                                                  \n",
      " batch_normalization_54 (Ba  (None, 2, 64)                256       ['conv1d_54[0][0]']           \n",
      " tchNormalization)                                                                                \n",
      "                                                                                                  \n",
      " re_lu_54 (ReLU)             (None, 2, 64)                0         ['batch_normalization_54[0][0]\n",
      "                                                                    ']                            \n",
      "                                                                                                  \n",
      " conv1d_55 (Conv1D)          (None, 2, 16)                3088      ['re_lu_54[0][0]']            \n",
      "                                                                                                  \n",
      " concatenate_25 (Concatenat  (None, 2, 178)               0         ['conv1d_55[0][0]',           \n",
      " e)                                                                  'concatenate_24[0][0]']      \n",
      "                                                                                                  \n",
      " batch_normalization_55 (Ba  (None, 2, 178)               712       ['concatenate_25[0][0]']      \n",
      " tchNormalization)                                                                                \n",
      "                                                                                                  \n",
      " re_lu_55 (ReLU)             (None, 2, 178)               0         ['batch_normalization_55[0][0]\n",
      "                                                                    ']                            \n",
      "                                                                                                  \n",
      " conv1d_56 (Conv1D)          (None, 2, 64)                11456     ['re_lu_55[0][0]']            \n",
      "                                                                                                  \n",
      " batch_normalization_56 (Ba  (None, 2, 64)                256       ['conv1d_56[0][0]']           \n",
      " tchNormalization)                                                                                \n",
      "                                                                                                  \n",
      " re_lu_56 (ReLU)             (None, 2, 64)                0         ['batch_normalization_56[0][0]\n",
      "                                                                    ']                            \n",
      "                                                                                                  \n",
      " conv1d_57 (Conv1D)          (None, 2, 16)                3088      ['re_lu_56[0][0]']            \n",
      "                                                                                                  \n",
      " concatenate_26 (Concatenat  (None, 2, 194)               0         ['conv1d_57[0][0]',           \n",
      " e)                                                                  'concatenate_25[0][0]']      \n",
      "                                                                                                  \n",
      " batch_normalization_57 (Ba  (None, 2, 194)               776       ['concatenate_26[0][0]']      \n",
      " tchNormalization)                                                                                \n",
      "                                                                                                  \n",
      " re_lu_57 (ReLU)             (None, 2, 194)               0         ['batch_normalization_57[0][0]\n",
      "                                                                    ']                            \n",
      "                                                                                                  \n",
      " conv1d_58 (Conv1D)          (None, 2, 64)                12480     ['re_lu_57[0][0]']            \n",
      "                                                                                                  \n",
      " batch_normalization_58 (Ba  (None, 2, 64)                256       ['conv1d_58[0][0]']           \n",
      " tchNormalization)                                                                                \n",
      "                                                                                                  \n",
      " re_lu_58 (ReLU)             (None, 2, 64)                0         ['batch_normalization_58[0][0]\n",
      "                                                                    ']                            \n",
      "                                                                                                  \n",
      " conv1d_59 (Conv1D)          (None, 2, 16)                3088      ['re_lu_58[0][0]']            \n",
      "                                                                                                  \n",
      " concatenate_27 (Concatenat  (None, 2, 210)               0         ['conv1d_59[0][0]',           \n",
      " e)                                                                  'concatenate_26[0][0]']      \n",
      "                                                                                                  \n",
      " batch_normalization_59 (Ba  (None, 2, 210)               840       ['concatenate_27[0][0]']      \n",
      " tchNormalization)                                                                                \n",
      "                                                                                                  \n",
      " re_lu_59 (ReLU)             (None, 2, 210)               0         ['batch_normalization_59[0][0]\n",
      "                                                                    ']                            \n",
      "                                                                                                  \n",
      " conv1d_60 (Conv1D)          (None, 2, 64)                13504     ['re_lu_59[0][0]']            \n",
      "                                                                                                  \n",
      " batch_normalization_60 (Ba  (None, 2, 64)                256       ['conv1d_60[0][0]']           \n",
      " tchNormalization)                                                                                \n",
      "                                                                                                  \n",
      " re_lu_60 (ReLU)             (None, 2, 64)                0         ['batch_normalization_60[0][0]\n",
      "                                                                    ']                            \n",
      "                                                                                                  \n",
      " conv1d_61 (Conv1D)          (None, 2, 16)                3088      ['re_lu_60[0][0]']            \n",
      "                                                                                                  \n",
      " concatenate_28 (Concatenat  (None, 2, 226)               0         ['conv1d_61[0][0]',           \n",
      " e)                                                                  'concatenate_27[0][0]']      \n",
      "                                                                                                  \n",
      " batch_normalization_61 (Ba  (None, 2, 226)               904       ['concatenate_28[0][0]']      \n",
      " tchNormalization)                                                                                \n",
      "                                                                                                  \n",
      " re_lu_61 (ReLU)             (None, 2, 226)               0         ['batch_normalization_61[0][0]\n",
      "                                                                    ']                            \n",
      "                                                                                                  \n",
      " conv1d_62 (Conv1D)          (None, 2, 64)                14528     ['re_lu_61[0][0]']            \n",
      "                                                                                                  \n",
      " batch_normalization_62 (Ba  (None, 2, 64)                256       ['conv1d_62[0][0]']           \n",
      " tchNormalization)                                                                                \n",
      "                                                                                                  \n",
      " re_lu_62 (ReLU)             (None, 2, 64)                0         ['batch_normalization_62[0][0]\n",
      "                                                                    ']                            \n",
      "                                                                                                  \n",
      " conv1d_63 (Conv1D)          (None, 2, 16)                3088      ['re_lu_62[0][0]']            \n",
      "                                                                                                  \n",
      " concatenate_29 (Concatenat  (None, 2, 242)               0         ['conv1d_63[0][0]',           \n",
      " e)                                                                  'concatenate_28[0][0]']      \n",
      "                                                                                                  \n",
      " batch_normalization_63 (Ba  (None, 2, 242)               968       ['concatenate_29[0][0]']      \n",
      " tchNormalization)                                                                                \n",
      "                                                                                                  \n",
      " re_lu_63 (ReLU)             (None, 2, 242)               0         ['batch_normalization_63[0][0]\n",
      "                                                                    ']                            \n",
      "                                                                                                  \n",
      " conv1d_64 (Conv1D)          (None, 2, 64)                15552     ['re_lu_63[0][0]']            \n",
      "                                                                                                  \n",
      " batch_normalization_64 (Ba  (None, 2, 64)                256       ['conv1d_64[0][0]']           \n",
      " tchNormalization)                                                                                \n",
      "                                                                                                  \n",
      " re_lu_64 (ReLU)             (None, 2, 64)                0         ['batch_normalization_64[0][0]\n",
      "                                                                    ']                            \n",
      "                                                                                                  \n",
      " conv1d_65 (Conv1D)          (None, 2, 16)                3088      ['re_lu_64[0][0]']            \n",
      "                                                                                                  \n",
      " concatenate_30 (Concatenat  (None, 2, 258)               0         ['conv1d_65[0][0]',           \n",
      " e)                                                                  'concatenate_29[0][0]']      \n",
      "                                                                                                  \n",
      " global_average_pooling1d (  (None, 258)                  0         ['concatenate_30[0][0]']      \n",
      " GlobalAveragePooling1D)                                                                          \n",
      "                                                                                                  \n",
      " dense (Dense)               (None, 10)                   2590      ['global_average_pooling1d[0][\n",
      "                                                                    0]']                          \n",
      "                                                                                                  \n",
      "==================================================================================================\n",
      "Total params: 496052 (1.89 MB)\n",
      "Trainable params: 481452 (1.84 MB)\n",
      "Non-trainable params: 14600 (57.03 KB)\n",
      "__________________________________________________________________________________________________\n"
     ]
    }
   ],
   "source": [
    "dnet_clf.summary()"
   ],
   "metadata": {
    "collapsed": false,
    "ExecuteTime": {
     "end_time": "2023-12-03T13:04:57.226749400Z",
     "start_time": "2023-12-03T13:04:56.665009600Z"
    }
   },
   "id": "7b88e8a70230a83d"
  },
  {
   "cell_type": "code",
   "execution_count": 42,
   "outputs": [
    {
     "name": "stdout",
     "output_type": "stream",
     "text": [
      "Epoch 1/50\n",
      "WARNING:tensorflow:From c:\\users\\user\\appdata\\local\\programs\\python\\python39\\lib\\site-packages\\keras\\src\\utils\\tf_utils.py:492: The name tf.ragged.RaggedTensorValue is deprecated. Please use tf.compat.v1.ragged.RaggedTensorValue instead.\n",
      "WARNING:tensorflow:From c:\\users\\user\\appdata\\local\\programs\\python\\python39\\lib\\site-packages\\keras\\src\\engine\\base_layer_utils.py:384: The name tf.executing_eagerly_outside_functions is deprecated. Please use tf.compat.v1.executing_eagerly_outside_functions instead.\n",
      "2192/2192 [==============================] - ETA: 0s - loss: 0.2034 - accuracy: 0.6382 - precision: 0.7893 - recall: 0.5803 - f1_score: 0.6659\n",
      "Epoch 1: val_accuracy improved from -inf to 0.67487, saving model to dnet_mul_clf.h5\n",
      "2192/2192 [==============================] - 121s 44ms/step - loss: 0.2034 - accuracy: 0.6382 - precision: 0.7893 - recall: 0.5803 - f1_score: 0.6659 - val_loss: 0.1535 - val_accuracy: 0.6749 - val_precision: 0.7662 - val_recall: 0.6081 - val_f1_score: 0.6774 - lr: 0.0010\n",
      "Epoch 2/50\n",
      "2191/2192 [============================>.] - ETA: 0s - loss: 0.1784 - accuracy: 0.6661 - precision: 0.8053 - recall: 0.6231 - f1_score: 0.7017\n",
      "Epoch 2: val_accuracy did not improve from 0.67487\n",
      "2192/2192 [==============================] - 89s 41ms/step - loss: 0.1784 - accuracy: 0.6662 - precision: 0.8053 - recall: 0.6232 - f1_score: 0.7018 - val_loss: 0.1607 - val_accuracy: 0.6458 - val_precision: 0.7840 - val_recall: 0.6130 - val_f1_score: 0.6873 - lr: 0.0010\n",
      "Epoch 3/50\n",
      "2192/2192 [==============================] - ETA: 0s - loss: 0.1756 - accuracy: 0.6683 - precision: 0.8072 - recall: 0.6249 - f1_score: 0.7037\n",
      "Epoch 3: val_accuracy did not improve from 0.67487\n",
      "2192/2192 [==============================] - 90s 41ms/step - loss: 0.1756 - accuracy: 0.6683 - precision: 0.8072 - recall: 0.6249 - f1_score: 0.7037 - val_loss: 0.1291 - val_accuracy: 0.6607 - val_precision: 0.8008 - val_recall: 0.6250 - val_f1_score: 0.7012 - lr: 0.0010\n",
      "Epoch 4/50\n",
      "2192/2192 [==============================] - ETA: 0s - loss: 0.1661 - accuracy: 0.6800 - precision: 0.8205 - recall: 0.6414 - f1_score: 0.7191\n",
      "Epoch 4: val_accuracy improved from 0.67487 to 0.68408, saving model to dnet_mul_clf.h5\n",
      "2192/2192 [==============================] - 90s 41ms/step - loss: 0.1661 - accuracy: 0.6800 - precision: 0.8205 - recall: 0.6414 - f1_score: 0.7191 - val_loss: 0.1219 - val_accuracy: 0.6841 - val_precision: 0.7882 - val_recall: 0.6302 - val_f1_score: 0.6997 - lr: 0.0010\n",
      "Epoch 5/50\n",
      "2192/2192 [==============================] - ETA: 0s - loss: 0.1647 - accuracy: 0.6836 - precision: 0.8231 - recall: 0.6443 - f1_score: 0.7221\n",
      "Epoch 5: val_accuracy improved from 0.68408 to 0.69725, saving model to dnet_mul_clf.h5\n",
      "2192/2192 [==============================] - 90s 41ms/step - loss: 0.1647 - accuracy: 0.6836 - precision: 0.8231 - recall: 0.6443 - f1_score: 0.7221 - val_loss: 0.1325 - val_accuracy: 0.6973 - val_precision: 0.8352 - val_recall: 0.5913 - val_f1_score: 0.6913 - lr: 0.0010\n",
      "Epoch 6/50\n",
      "2191/2192 [============================>.] - ETA: 0s - loss: 0.1581 - accuracy: 0.6945 - precision: 0.8279 - recall: 0.6537 - f1_score: 0.7298\n",
      "Epoch 6: val_accuracy did not improve from 0.69725\n",
      "2192/2192 [==============================] - 90s 41ms/step - loss: 0.1581 - accuracy: 0.6945 - precision: 0.8278 - recall: 0.6537 - f1_score: 0.7298 - val_loss: 0.1228 - val_accuracy: 0.6875 - val_precision: 0.7979 - val_recall: 0.6485 - val_f1_score: 0.7149 - lr: 0.0010\n",
      "Epoch 7/50\n",
      "2192/2192 [==============================] - ETA: 0s - loss: 0.1566 - accuracy: 0.6918 - precision: 0.8237 - recall: 0.6562 - f1_score: 0.7298\n",
      "Epoch 7: val_accuracy improved from 0.69725 to 0.70398, saving model to dnet_mul_clf.h5\n",
      "2192/2192 [==============================] - 91s 41ms/step - loss: 0.1566 - accuracy: 0.6918 - precision: 0.8237 - recall: 0.6562 - f1_score: 0.7298 - val_loss: 0.1285 - val_accuracy: 0.7040 - val_precision: 0.8189 - val_recall: 0.6376 - val_f1_score: 0.7160 - lr: 0.0010\n",
      "Epoch 8/50\n",
      "2192/2192 [==============================] - ETA: 0s - loss: 0.1530 - accuracy: 0.6971 - precision: 0.8293 - recall: 0.6631 - f1_score: 0.7363\n",
      "Epoch 8: val_accuracy did not improve from 0.70398\n",
      "2192/2192 [==============================] - 91s 41ms/step - loss: 0.1530 - accuracy: 0.6971 - precision: 0.8293 - recall: 0.6631 - f1_score: 0.7363 - val_loss: 0.1322 - val_accuracy: 0.6555 - val_precision: 0.7701 - val_recall: 0.6296 - val_f1_score: 0.6922 - lr: 0.0010\n",
      "Epoch 9/50\n",
      "2192/2192 [==============================] - ETA: 0s - loss: 0.1513 - accuracy: 0.6993 - precision: 0.8265 - recall: 0.6648 - f1_score: 0.7362\n",
      "Epoch 9: val_accuracy did not improve from 0.70398\n",
      "2192/2192 [==============================] - 90s 41ms/step - loss: 0.1513 - accuracy: 0.6993 - precision: 0.8265 - recall: 0.6648 - f1_score: 0.7362 - val_loss: 0.1421 - val_accuracy: 0.6573 - val_precision: 0.7811 - val_recall: 0.6239 - val_f1_score: 0.6930 - lr: 0.0010\n",
      "Epoch 10/50\n",
      "2192/2192 [==============================] - ETA: 0s - loss: 0.1481 - accuracy: 0.7042 - precision: 0.8347 - recall: 0.6685 - f1_score: 0.7416\n",
      "Epoch 10: val_accuracy did not improve from 0.70398\n",
      "2192/2192 [==============================] - 91s 41ms/step - loss: 0.1481 - accuracy: 0.7042 - precision: 0.8347 - recall: 0.6685 - f1_score: 0.7416 - val_loss: 0.1255 - val_accuracy: 0.6976 - val_precision: 0.8126 - val_recall: 0.6371 - val_f1_score: 0.7134 - lr: 0.0010\n",
      "Epoch 11/50\n",
      "2191/2192 [============================>.] - ETA: 0s - loss: 0.1470 - accuracy: 0.7082 - precision: 0.8344 - recall: 0.6694 - f1_score: 0.7421\n",
      "Epoch 11: val_accuracy improved from 0.70398 to 0.73293, saving model to dnet_mul_clf.h5\n",
      "2192/2192 [==============================] - 91s 42ms/step - loss: 0.1470 - accuracy: 0.7082 - precision: 0.8344 - recall: 0.6694 - f1_score: 0.7422 - val_loss: 0.1126 - val_accuracy: 0.7329 - val_precision: 0.8572 - val_recall: 0.6719 - val_f1_score: 0.7525 - lr: 0.0010\n",
      "Epoch 12/50\n",
      "2192/2192 [==============================] - ETA: 0s - loss: 0.1471 - accuracy: 0.7131 - precision: 0.8401 - recall: 0.6752 - f1_score: 0.7480\n",
      "Epoch 12: val_accuracy did not improve from 0.73293\n",
      "2192/2192 [==============================] - 91s 41ms/step - loss: 0.1471 - accuracy: 0.7131 - precision: 0.8401 - recall: 0.6752 - f1_score: 0.7480 - val_loss: 0.1138 - val_accuracy: 0.7007 - val_precision: 0.8407 - val_recall: 0.6859 - val_f1_score: 0.7548 - lr: 0.0010\n",
      "Epoch 13/50\n",
      "2191/2192 [============================>.] - ETA: 0s - loss: 0.1424 - accuracy: 0.7157 - precision: 0.8397 - recall: 0.6805 - f1_score: 0.7511\n",
      "Epoch 13: val_accuracy did not improve from 0.73293\n",
      "2192/2192 [==============================] - 91s 42ms/step - loss: 0.1424 - accuracy: 0.7157 - precision: 0.8396 - recall: 0.6805 - f1_score: 0.7511 - val_loss: 0.3147 - val_accuracy: 0.3081 - val_precision: 0.4070 - val_recall: 0.2852 - val_f1_score: 0.3349 - lr: 0.0010\n",
      "Epoch 14/50\n",
      "2191/2192 [============================>.] - ETA: 0s - loss: 0.1408 - accuracy: 0.7151 - precision: 0.8397 - recall: 0.6826 - f1_score: 0.7523\n",
      "Epoch 14: val_accuracy did not improve from 0.73293\n",
      "2192/2192 [==============================] - 91s 42ms/step - loss: 0.1409 - accuracy: 0.7151 - precision: 0.8397 - recall: 0.6826 - f1_score: 0.7523 - val_loss: 0.1317 - val_accuracy: 0.6462 - val_precision: 0.7648 - val_recall: 0.6300 - val_f1_score: 0.6902 - lr: 0.0010\n",
      "Epoch 15/50\n",
      "2192/2192 [==============================] - ETA: 0s - loss: 0.1397 - accuracy: 0.7145 - precision: 0.8375 - recall: 0.6806 - f1_score: 0.7503\n",
      "Epoch 15: val_accuracy did not improve from 0.73293\n",
      "2192/2192 [==============================] - 91s 42ms/step - loss: 0.1397 - accuracy: 0.7145 - precision: 0.8375 - recall: 0.6806 - f1_score: 0.7503 - val_loss: 0.1200 - val_accuracy: 0.6732 - val_precision: 0.8079 - val_recall: 0.6569 - val_f1_score: 0.7239 - lr: 0.0010\n",
      "Epoch 16/50\n",
      "2192/2192 [==============================] - ETA: 0s - loss: 0.1373 - accuracy: 0.7199 - precision: 0.8425 - recall: 0.6853 - f1_score: 0.7551\n",
      "Epoch 16: val_accuracy did not improve from 0.73293\n",
      "\n",
      "Epoch 16: ReduceLROnPlateau reducing learning rate to 0.0005000000237487257.\n",
      "2192/2192 [==============================] - 92s 42ms/step - loss: 0.1373 - accuracy: 0.7199 - precision: 0.8425 - recall: 0.6853 - f1_score: 0.7551 - val_loss: 0.1382 - val_accuracy: 0.6511 - val_precision: 0.8007 - val_recall: 0.6243 - val_f1_score: 0.7008 - lr: 0.0010\n",
      "Epoch 17/50\n",
      "2191/2192 [============================>.] - ETA: 0s - loss: 0.1301 - accuracy: 0.7254 - precision: 0.8475 - recall: 0.6918 - f1_score: 0.7611\n",
      "Epoch 17: val_accuracy did not improve from 0.73293\n",
      "2192/2192 [==============================] - 92s 42ms/step - loss: 0.1301 - accuracy: 0.7255 - precision: 0.8475 - recall: 0.6918 - f1_score: 0.7611 - val_loss: 0.1072 - val_accuracy: 0.7194 - val_precision: 0.8362 - val_recall: 0.6934 - val_f1_score: 0.7575 - lr: 5.0000e-04\n",
      "Epoch 18/50\n",
      "2192/2192 [==============================] - ETA: 0s - loss: 0.1267 - accuracy: 0.7274 - precision: 0.8493 - recall: 0.6952 - f1_score: 0.7639\n",
      "Epoch 18: val_accuracy did not improve from 0.73293\n",
      "2192/2192 [==============================] - 92s 42ms/step - loss: 0.1267 - accuracy: 0.7274 - precision: 0.8493 - recall: 0.6952 - f1_score: 0.7639 - val_loss: 0.1082 - val_accuracy: 0.7132 - val_precision: 0.8376 - val_recall: 0.6871 - val_f1_score: 0.7542 - lr: 5.0000e-04\n",
      "Epoch 19/50\n",
      "2192/2192 [==============================] - ETA: 0s - loss: 0.1261 - accuracy: 0.7294 - precision: 0.8502 - recall: 0.6962 - f1_score: 0.7648\n",
      "Epoch 19: val_accuracy did not improve from 0.73293\n",
      "2192/2192 [==============================] - 92s 42ms/step - loss: 0.1261 - accuracy: 0.7294 - precision: 0.8502 - recall: 0.6962 - f1_score: 0.7648 - val_loss: 0.1125 - val_accuracy: 0.6977 - val_precision: 0.8290 - val_recall: 0.6818 - val_f1_score: 0.7475 - lr: 5.0000e-04\n",
      "Epoch 20/50\n",
      "2192/2192 [==============================] - ETA: 0s - loss: 0.1245 - accuracy: 0.7314 - precision: 0.8539 - recall: 0.6983 - f1_score: 0.7677\n",
      "Epoch 20: val_accuracy did not improve from 0.73293\n",
      "2192/2192 [==============================] - 92s 42ms/step - loss: 0.1245 - accuracy: 0.7314 - precision: 0.8539 - recall: 0.6983 - f1_score: 0.7677 - val_loss: 0.1159 - val_accuracy: 0.7006 - val_precision: 0.8151 - val_recall: 0.6602 - val_f1_score: 0.7288 - lr: 5.0000e-04\n",
      "Epoch 21/50\n",
      "2191/2192 [============================>.] - ETA: 0s - loss: 0.1242 - accuracy: 0.7333 - precision: 0.8552 - recall: 0.7002 - f1_score: 0.7693\n",
      "Epoch 21: val_accuracy did not improve from 0.73293\n",
      "\n",
      "Epoch 21: ReduceLROnPlateau reducing learning rate to 0.0002500000118743628.\n",
      "2192/2192 [==============================] - 92s 42ms/step - loss: 0.1242 - accuracy: 0.7333 - precision: 0.8552 - recall: 0.7002 - f1_score: 0.7693 - val_loss: 0.1621 - val_accuracy: 0.6497 - val_precision: 0.7595 - val_recall: 0.5892 - val_f1_score: 0.6627 - lr: 5.0000e-04\n",
      "Epoch 22/50\n",
      "2191/2192 [============================>.] - ETA: 0s - loss: 0.1191 - accuracy: 0.7407 - precision: 0.8595 - recall: 0.7041 - f1_score: 0.7734\n",
      "Epoch 22: val_accuracy improved from 0.73293 to 0.75155, saving model to dnet_mul_clf.h5\n",
      "2192/2192 [==============================] - 92s 42ms/step - loss: 0.1191 - accuracy: 0.7407 - precision: 0.8595 - recall: 0.7041 - f1_score: 0.7734 - val_loss: 0.1005 - val_accuracy: 0.7515 - val_precision: 0.8619 - val_recall: 0.7070 - val_f1_score: 0.7761 - lr: 2.5000e-04\n",
      "Epoch 23/50\n",
      "2191/2192 [============================>.] - ETA: 0s - loss: 0.1174 - accuracy: 0.7417 - precision: 0.8609 - recall: 0.7073 - f1_score: 0.7759\n",
      "Epoch 23: val_accuracy did not improve from 0.75155\n",
      "2192/2192 [==============================] - 94s 43ms/step - loss: 0.1173 - accuracy: 0.7418 - precision: 0.8609 - recall: 0.7073 - f1_score: 0.7759 - val_loss: 0.1003 - val_accuracy: 0.7238 - val_precision: 0.8660 - val_recall: 0.7090 - val_f1_score: 0.7790 - lr: 2.5000e-04\n",
      "Epoch 24/50\n",
      "2192/2192 [==============================] - ETA: 0s - loss: 0.1167 - accuracy: 0.7404 - precision: 0.8631 - recall: 0.7080 - f1_score: 0.7772\n",
      "Epoch 24: val_accuracy did not improve from 0.75155\n",
      "2192/2192 [==============================] - 92s 42ms/step - loss: 0.1167 - accuracy: 0.7404 - precision: 0.8631 - recall: 0.7080 - f1_score: 0.7772 - val_loss: 0.1032 - val_accuracy: 0.7217 - val_precision: 0.8566 - val_recall: 0.7022 - val_f1_score: 0.7711 - lr: 2.5000e-04\n",
      "Epoch 25/50\n",
      "2192/2192 [==============================] - ETA: 0s - loss: 0.1163 - accuracy: 0.7400 - precision: 0.8633 - recall: 0.7084 - f1_score: 0.7775\n",
      "Epoch 25: val_accuracy did not improve from 0.75155\n",
      "2192/2192 [==============================] - 92s 42ms/step - loss: 0.1163 - accuracy: 0.7400 - precision: 0.8633 - recall: 0.7084 - f1_score: 0.7775 - val_loss: 0.1081 - val_accuracy: 0.7403 - val_precision: 0.8423 - val_recall: 0.6912 - val_f1_score: 0.7586 - lr: 2.5000e-04\n",
      "Epoch 26/50\n",
      "2191/2192 [============================>.] - ETA: 0s - loss: 0.1158 - accuracy: 0.7456 - precision: 0.8632 - recall: 0.7097 - f1_score: 0.7782\n",
      "Epoch 26: val_accuracy improved from 0.75155 to 0.75671, saving model to dnet_mul_clf.h5\n",
      "2192/2192 [==============================] - 93s 42ms/step - loss: 0.1158 - accuracy: 0.7456 - precision: 0.8632 - recall: 0.7097 - f1_score: 0.7783 - val_loss: 0.1001 - val_accuracy: 0.7567 - val_precision: 0.8614 - val_recall: 0.7083 - val_f1_score: 0.7767 - lr: 2.5000e-04\n",
      "Epoch 27/50\n",
      "2192/2192 [==============================] - ETA: 0s - loss: 0.1150 - accuracy: 0.7429 - precision: 0.8650 - recall: 0.7102 - f1_score: 0.7794\n",
      "Epoch 27: val_accuracy did not improve from 0.75671\n",
      "2192/2192 [==============================] - 92s 42ms/step - loss: 0.1150 - accuracy: 0.7429 - precision: 0.8650 - recall: 0.7102 - f1_score: 0.7794 - val_loss: 0.1247 - val_accuracy: 0.6867 - val_precision: 0.8099 - val_recall: 0.6616 - val_f1_score: 0.7276 - lr: 2.5000e-04\n",
      "Epoch 28/50\n",
      "2192/2192 [==============================] - ETA: 0s - loss: 0.1148 - accuracy: 0.7464 - precision: 0.8653 - recall: 0.7119 - f1_score: 0.7805\n",
      "Epoch 28: val_accuracy did not improve from 0.75671\n",
      "2192/2192 [==============================] - 93s 42ms/step - loss: 0.1148 - accuracy: 0.7464 - precision: 0.8653 - recall: 0.7119 - f1_score: 0.7805 - val_loss: 0.0984 - val_accuracy: 0.7413 - val_precision: 0.8645 - val_recall: 0.7104 - val_f1_score: 0.7793 - lr: 2.5000e-04\n",
      "Epoch 29/50\n",
      "2192/2192 [==============================] - ETA: 0s - loss: 0.1149 - accuracy: 0.7469 - precision: 0.8649 - recall: 0.7113 - f1_score: 0.7800\n",
      "Epoch 29: val_accuracy did not improve from 0.75671\n",
      "2192/2192 [==============================] - 93s 42ms/step - loss: 0.1149 - accuracy: 0.7469 - precision: 0.8649 - recall: 0.7113 - f1_score: 0.7800 - val_loss: 0.0991 - val_accuracy: 0.7300 - val_precision: 0.8644 - val_recall: 0.7125 - val_f1_score: 0.7804 - lr: 2.5000e-04\n",
      "Epoch 30/50\n",
      "2191/2192 [============================>.] - ETA: 0s - loss: 0.1135 - accuracy: 0.7451 - precision: 0.8663 - recall: 0.7127 - f1_score: 0.7815\n",
      "Epoch 30: val_accuracy did not improve from 0.75671\n",
      "2192/2192 [==============================] - 93s 42ms/step - loss: 0.1135 - accuracy: 0.7451 - precision: 0.8663 - recall: 0.7128 - f1_score: 0.7815 - val_loss: 0.0982 - val_accuracy: 0.7556 - val_precision: 0.8644 - val_recall: 0.7101 - val_f1_score: 0.7790 - lr: 2.5000e-04\n",
      "Epoch 31/50\n",
      "2192/2192 [==============================] - ETA: 0s - loss: 0.1132 - accuracy: 0.7482 - precision: 0.8669 - recall: 0.7136 - f1_score: 0.7822\n",
      "Epoch 31: val_accuracy did not improve from 0.75671\n",
      "\n",
      "Epoch 31: ReduceLROnPlateau reducing learning rate to 0.0001250000059371814.\n",
      "2192/2192 [==============================] - 93s 42ms/step - loss: 0.1132 - accuracy: 0.7482 - precision: 0.8669 - recall: 0.7136 - f1_score: 0.7822 - val_loss: 0.1012 - val_accuracy: 0.7271 - val_precision: 0.8686 - val_recall: 0.7131 - val_f1_score: 0.7825 - lr: 2.5000e-04\n",
      "Epoch 32/50\n",
      "2192/2192 [==============================] - ETA: 0s - loss: 0.1110 - accuracy: 0.7472 - precision: 0.8688 - recall: 0.7156 - f1_score: 0.7841\n",
      "Epoch 32: val_accuracy improved from 0.75671 to 0.76549, saving model to dnet_mul_clf.h5\n",
      "2192/2192 [==============================] - 93s 42ms/step - loss: 0.1110 - accuracy: 0.7472 - precision: 0.8688 - recall: 0.7156 - f1_score: 0.7841 - val_loss: 0.0960 - val_accuracy: 0.7655 - val_precision: 0.8718 - val_recall: 0.7176 - val_f1_score: 0.7865 - lr: 1.2500e-04\n",
      "Epoch 33/50\n",
      "2191/2192 [============================>.] - ETA: 0s - loss: 0.1103 - accuracy: 0.7537 - precision: 0.8707 - recall: 0.7175 - f1_score: 0.7860\n",
      "Epoch 33: val_accuracy did not improve from 0.76549\n",
      "2192/2192 [==============================] - 93s 42ms/step - loss: 0.1103 - accuracy: 0.7537 - precision: 0.8707 - recall: 0.7174 - f1_score: 0.7860 - val_loss: 0.0971 - val_accuracy: 0.7439 - val_precision: 0.8692 - val_recall: 0.7175 - val_f1_score: 0.7854 - lr: 1.2500e-04\n",
      "Epoch 34/50\n",
      "2192/2192 [==============================] - ETA: 0s - loss: 0.1098 - accuracy: 0.7512 - precision: 0.8714 - recall: 0.7193 - f1_score: 0.7874\n",
      "Epoch 34: val_accuracy did not improve from 0.76549\n",
      "2192/2192 [==============================] - 93s 42ms/step - loss: 0.1098 - accuracy: 0.7512 - precision: 0.8714 - recall: 0.7193 - f1_score: 0.7874 - val_loss: 0.0978 - val_accuracy: 0.7464 - val_precision: 0.8668 - val_recall: 0.7145 - val_f1_score: 0.7826 - lr: 1.2500e-04\n",
      "Epoch 35/50\n",
      "2192/2192 [==============================] - ETA: 0s - loss: 0.1096 - accuracy: 0.7507 - precision: 0.8700 - recall: 0.7182 - f1_score: 0.7861\n",
      "Epoch 35: val_accuracy did not improve from 0.76549\n",
      "2192/2192 [==============================] - 93s 42ms/step - loss: 0.1096 - accuracy: 0.7507 - precision: 0.8700 - recall: 0.7182 - f1_score: 0.7861 - val_loss: 0.0984 - val_accuracy: 0.7393 - val_precision: 0.8677 - val_recall: 0.7139 - val_f1_score: 0.7827 - lr: 1.2500e-04\n",
      "Epoch 36/50\n",
      "2192/2192 [==============================] - ETA: 0s - loss: 0.1096 - accuracy: 0.7526 - precision: 0.8713 - recall: 0.7193 - f1_score: 0.7874\n",
      "Epoch 36: val_accuracy did not improve from 0.76549\n",
      "2192/2192 [==============================] - 93s 42ms/step - loss: 0.1096 - accuracy: 0.7526 - precision: 0.8713 - recall: 0.7193 - f1_score: 0.7874 - val_loss: 0.0954 - val_accuracy: 0.7626 - val_precision: 0.8726 - val_recall: 0.7184 - val_f1_score: 0.7874 - lr: 1.2500e-04\n",
      "Epoch 37/50\n",
      "2191/2192 [============================>.] - ETA: 0s - loss: 0.1097 - accuracy: 0.7531 - precision: 0.8728 - recall: 0.7203 - f1_score: 0.7886\n",
      "Epoch 37: val_accuracy did not improve from 0.76549\n",
      "\n",
      "Epoch 37: ReduceLROnPlateau reducing learning rate to 6.25000029685907e-05.\n",
      "2192/2192 [==============================] - 93s 42ms/step - loss: 0.1097 - accuracy: 0.7531 - precision: 0.8727 - recall: 0.7203 - f1_score: 0.7886 - val_loss: 0.0975 - val_accuracy: 0.7471 - val_precision: 0.8697 - val_recall: 0.7160 - val_f1_score: 0.7847 - lr: 1.2500e-04\n",
      "Epoch 38/50\n",
      "2191/2192 [============================>.] - ETA: 0s - loss: 0.1077 - accuracy: 0.7554 - precision: 0.8737 - recall: 0.7213 - f1_score: 0.7895\n",
      "Epoch 38: val_accuracy did not improve from 0.76549\n",
      "2192/2192 [==============================] - 92s 42ms/step - loss: 0.1077 - accuracy: 0.7554 - precision: 0.8737 - recall: 0.7213 - f1_score: 0.7896 - val_loss: 0.0964 - val_accuracy: 0.7530 - val_precision: 0.8707 - val_recall: 0.7179 - val_f1_score: 0.7862 - lr: 6.2500e-05\n",
      "Epoch 39/50\n",
      "2192/2192 [==============================] - ETA: 0s - loss: 0.1072 - accuracy: 0.7555 - precision: 0.8737 - recall: 0.7215 - f1_score: 0.7897\n",
      "Epoch 39: val_accuracy did not improve from 0.76549\n",
      "2192/2192 [==============================] - 93s 42ms/step - loss: 0.1072 - accuracy: 0.7555 - precision: 0.8737 - recall: 0.7215 - f1_score: 0.7897 - val_loss: 0.0954 - val_accuracy: 0.7574 - val_precision: 0.8737 - val_recall: 0.7217 - val_f1_score: 0.7898 - lr: 6.2500e-05\n",
      "Epoch 40/50\n",
      "2192/2192 [==============================] - ETA: 0s - loss: 0.1069 - accuracy: 0.7571 - precision: 0.8746 - recall: 0.7225 - f1_score: 0.7906\n",
      "Epoch 40: val_accuracy did not improve from 0.76549\n",
      "2192/2192 [==============================] - 93s 42ms/step - loss: 0.1069 - accuracy: 0.7571 - precision: 0.8746 - recall: 0.7225 - f1_score: 0.7906 - val_loss: 0.0967 - val_accuracy: 0.7564 - val_precision: 0.8712 - val_recall: 0.7199 - val_f1_score: 0.7877 - lr: 6.2500e-05\n",
      "Epoch 41/50\n",
      "2191/2192 [============================>.] - ETA: 0s - loss: 0.1071 - accuracy: 0.7550 - precision: 0.8742 - recall: 0.7227 - f1_score: 0.7907\n",
      "Epoch 41: val_accuracy did not improve from 0.76549\n",
      "2192/2192 [==============================] - 92s 42ms/step - loss: 0.1071 - accuracy: 0.7550 - precision: 0.8742 - recall: 0.7227 - f1_score: 0.7907 - val_loss: 0.0968 - val_accuracy: 0.7530 - val_precision: 0.8708 - val_recall: 0.7195 - val_f1_score: 0.7873 - lr: 6.2500e-05\n",
      "Epoch 42/50\n",
      "2192/2192 [==============================] - ETA: 0s - loss: 0.1069 - accuracy: 0.7585 - precision: 0.8751 - recall: 0.7237 - f1_score: 0.7916\n",
      "Epoch 42: val_accuracy did not improve from 0.76549\n",
      "\n",
      "Epoch 42: ReduceLROnPlateau reducing learning rate to 3.125000148429535e-05.\n",
      "2192/2192 [==============================] - 93s 42ms/step - loss: 0.1069 - accuracy: 0.7585 - precision: 0.8751 - recall: 0.7237 - f1_score: 0.7916 - val_loss: 0.0953 - val_accuracy: 0.7566 - val_precision: 0.8738 - val_recall: 0.7212 - val_f1_score: 0.7896 - lr: 6.2500e-05\n",
      "Epoch 43/50\n",
      "2191/2192 [============================>.] - ETA: 0s - loss: 0.1057 - accuracy: 0.7570 - precision: 0.8758 - recall: 0.7243 - f1_score: 0.7922\n",
      "Epoch 43: val_accuracy did not improve from 0.76549\n",
      "2192/2192 [==============================] - 93s 42ms/step - loss: 0.1058 - accuracy: 0.7570 - precision: 0.8758 - recall: 0.7243 - f1_score: 0.7922 - val_loss: 0.0958 - val_accuracy: 0.7593 - val_precision: 0.8734 - val_recall: 0.7215 - val_f1_score: 0.7895 - lr: 3.1250e-05\n",
      "Epoch 44/50\n",
      "2192/2192 [==============================] - ETA: 0s - loss: 0.1059 - accuracy: 0.7614 - precision: 0.8758 - recall: 0.7240 - f1_score: 0.7920\n",
      "Epoch 44: val_accuracy did not improve from 0.76549\n",
      "2192/2192 [==============================] - 93s 42ms/step - loss: 0.1059 - accuracy: 0.7614 - precision: 0.8758 - recall: 0.7240 - f1_score: 0.7920 - val_loss: 0.0955 - val_accuracy: 0.7457 - val_precision: 0.8743 - val_recall: 0.7225 - val_f1_score: 0.7905 - lr: 3.1250e-05\n",
      "Epoch 45/50\n",
      "2191/2192 [============================>.] - ETA: 0s - loss: 0.1062 - accuracy: 0.7567 - precision: 0.8765 - recall: 0.7246 - f1_score: 0.7927\n",
      "Epoch 45: val_accuracy did not improve from 0.76549\n",
      "2192/2192 [==============================] - 93s 42ms/step - loss: 0.1062 - accuracy: 0.7567 - precision: 0.8765 - recall: 0.7246 - f1_score: 0.7927 - val_loss: 0.0953 - val_accuracy: 0.7492 - val_precision: 0.8743 - val_recall: 0.7222 - val_f1_score: 0.7904 - lr: 3.1250e-05\n",
      "Epoch 46/50\n",
      "2191/2192 [============================>.] - ETA: 0s - loss: 0.1064 - accuracy: 0.7539 - precision: 0.8762 - recall: 0.7245 - f1_score: 0.7926\n",
      "Epoch 46: val_accuracy did not improve from 0.76549\n",
      "2192/2192 [==============================] - 93s 42ms/step - loss: 0.1064 - accuracy: 0.7539 - precision: 0.8762 - recall: 0.7245 - f1_score: 0.7926 - val_loss: 0.0949 - val_accuracy: 0.7622 - val_precision: 0.8751 - val_recall: 0.7229 - val_f1_score: 0.7911 - lr: 3.1250e-05\n",
      "Epoch 47/50\n",
      "2191/2192 [============================>.] - ETA: 0s - loss: 0.1056 - accuracy: 0.7617 - precision: 0.8768 - recall: 0.7251 - f1_score: 0.7932\n",
      "Epoch 47: val_accuracy did not improve from 0.76549\n",
      "\n",
      "Epoch 47: ReduceLROnPlateau reducing learning rate to 1.5625000742147677e-05.\n",
      "2192/2192 [==============================] - 93s 42ms/step - loss: 0.1057 - accuracy: 0.7617 - precision: 0.8768 - recall: 0.7251 - f1_score: 0.7932 - val_loss: 0.0950 - val_accuracy: 0.7523 - val_precision: 0.8755 - val_recall: 0.7231 - val_f1_score: 0.7914 - lr: 3.1250e-05\n",
      "Epoch 48/50\n",
      "2192/2192 [==============================] - ETA: 0s - loss: 0.1051 - accuracy: 0.7579 - precision: 0.8765 - recall: 0.7249 - f1_score: 0.7929\n",
      "Epoch 48: val_accuracy did not improve from 0.76549\n",
      "2192/2192 [==============================] - 93s 42ms/step - loss: 0.1051 - accuracy: 0.7579 - precision: 0.8765 - recall: 0.7249 - f1_score: 0.7929 - val_loss: 0.0950 - val_accuracy: 0.7546 - val_precision: 0.8749 - val_recall: 0.7224 - val_f1_score: 0.7907 - lr: 1.5625e-05\n",
      "Epoch 49/50\n",
      "2191/2192 [============================>.] - ETA: 0s - loss: 0.1057 - accuracy: 0.7575 - precision: 0.8772 - recall: 0.7254 - f1_score: 0.7934\n",
      "Epoch 49: val_accuracy did not improve from 0.76549\n",
      "2192/2192 [==============================] - 93s 42ms/step - loss: 0.1057 - accuracy: 0.7575 - precision: 0.8772 - recall: 0.7254 - f1_score: 0.7934 - val_loss: 0.0954 - val_accuracy: 0.7582 - val_precision: 0.8747 - val_recall: 0.7223 - val_f1_score: 0.7906 - lr: 1.5625e-05\n",
      "Epoch 50/50\n",
      "2192/2192 [==============================] - ETA: 0s - loss: 0.1050 - accuracy: 0.7618 - precision: 0.8774 - recall: 0.7256 - f1_score: 0.7936\n",
      "Epoch 50: val_accuracy did not improve from 0.76549\n",
      "2192/2192 [==============================] - 93s 43ms/step - loss: 0.1050 - accuracy: 0.7618 - precision: 0.8774 - recall: 0.7256 - f1_score: 0.7936 - val_loss: 0.0951 - val_accuracy: 0.7553 - val_precision: 0.8755 - val_recall: 0.7237 - val_f1_score: 0.7917 - lr: 1.5625e-05\n"
     ]
    }
   ],
   "source": [
    "EPOCHS = 50\n",
    "BATCH_SIZE = 64\n",
    "history_clf = dnet_clf.fit(X_train, y_train, epochs=EPOCHS, batch_size=BATCH_SIZE, \n",
    "             validation_split=0.2, class_weight=class_weights, callbacks=call_backs)"
   ],
   "metadata": {
    "collapsed": false,
    "ExecuteTime": {
     "end_time": "2023-12-03T14:22:06.977587500Z",
     "start_time": "2023-12-03T13:04:57.101774800Z"
    }
   },
   "id": "e2ac4db8cb696a8d"
  },
  {
   "cell_type": "code",
   "execution_count": 43,
   "outputs": [],
   "source": [
    "\"\"\"\n",
    "This function is used to evaluate the model\n",
    "\n",
    "\"\"\"\n",
    "from sklearn.metrics import accuracy_score, precision_recall_fscore_support,confusion_matrix, classification_report\n",
    "def evaluate_Test(model, X_test, y_test, cls_label_encoder):\n",
    "    y_hat = model.predict(X_test)\n",
    "    y_hat = np.argmax(y_hat, axis=1)\n",
    "    y_true = np.argmax(y_test, axis=1)\n",
    "    print_score(y_hat, y_true, cls_label_encoder)"
   ],
   "metadata": {
    "collapsed": false,
    "ExecuteTime": {
     "end_time": "2023-12-03T14:22:07.040052Z",
     "start_time": "2023-12-03T14:22:06.977587500Z"
    }
   },
   "id": "bde2dd7b6ae94586"
  },
  {
   "cell_type": "code",
   "execution_count": 44,
   "outputs": [],
   "source": [
    "\"\"\"\n",
    "This function is used to visualize the loss\n",
    "\n",
    "\n",
    "\"\"\"\n",
    "def visualize_loss(history):\n",
    "    import matplotlib.pyplot as plt\n",
    "    plt.plot(history.history['loss'])\n",
    "    plt.plot(history.history['val_loss'])\n",
    "    plt.title('Model Loss')\n",
    "    plt.ylabel('Loss')\n",
    "    plt.xlabel('Epochs')\n",
    "    plt.legend(['train', 'val'], loc='upper right')\n",
    "    plt.show()"
   ],
   "metadata": {
    "collapsed": false,
    "ExecuteTime": {
     "end_time": "2023-12-03T14:22:07.040052Z",
     "start_time": "2023-12-03T14:22:06.993170200Z"
    }
   },
   "id": "ca1dc16f0758c90b"
  },
  {
   "cell_type": "code",
   "execution_count": 45,
   "outputs": [],
   "source": [
    "\"\"\"\n",
    "This function is used to visualize the accuracy\n",
    "\"\"\"\n",
    "def visualize_accuracy(history):\n",
    "    import matplotlib.pyplot as plt\n",
    "    plt.plot(history.history['accuracy'])\n",
    "    plt.plot(history.history['val_accuracy'])\n",
    "    plt.title('Model Accuracy')\n",
    "    plt.ylabel('Loss')\n",
    "    plt.xlabel('Epochs')\n",
    "    plt.legend(['train', 'val'], loc='upper right')\n",
    "    plt.show()"
   ],
   "metadata": {
    "collapsed": false,
    "ExecuteTime": {
     "end_time": "2023-12-03T14:22:07.055677800Z",
     "start_time": "2023-12-03T14:22:07.008791400Z"
    }
   },
   "id": "f13c975fc525bc17"
  },
  {
   "cell_type": "code",
   "execution_count": 46,
   "outputs": [],
   "source": [
    "\"\"\"\n",
    "This function is used to plot the confusion matrix\n",
    "\"\"\"\n",
    "from sklearn.metrics import accuracy_score, precision_recall_fscore_support,confusion_matrix, classification_report\n",
    "import seaborn as sns\n",
    "import matplotlib.pyplot as plt\n",
    "def plot_confusion_matrix(model, X_test, y_test):\n",
    "    y_hat = model.predict(X_test)\n",
    "    y_hat = np.argmax(y_hat, axis=1)\n",
    "    y_true = np.argmax(y_test, axis=1)\n",
    "    cm = confusion_matrix(y_true, y_hat)\n",
    "    plt.figure(figsize=(20,10))\n",
    "    sns.heatmap(cm, annot=True, fmt='g', cmap='Blues', xticklabels=cls_label_encoder.classes_, yticklabels=cls_label_encoder.classes_)\n",
    "    plt.show()"
   ],
   "metadata": {
    "collapsed": false,
    "ExecuteTime": {
     "end_time": "2023-12-03T14:22:07.055677800Z",
     "start_time": "2023-12-03T14:22:07.024434300Z"
    }
   },
   "id": "5b30136a3a81dc4b"
  },
  {
   "cell_type": "code",
   "execution_count": 53,
   "outputs": [
    {
     "name": "stdout",
     "output_type": "stream",
     "text": [
      "2573/2573 [==============================] - 28s 11ms/step\n",
      "Accuracy:  0.6514026138075111\n",
      "Precision Score:  0.8271353746996667\n",
      "Recall Score:  0.6514026138075111\n",
      "F1 Score:  0.7100665677308624\n",
      "Confusion Matrix\n",
      "[[  110   506    24    14     1     0    22     0     0     0]\n",
      " [   77   443    15    36     5     0     1     6     0     0]\n",
      " [  564  2250   555   572    49     0    12    46    24    17]\n",
      " [  631  2536   692  6516    99     5    22   417    21   193]\n",
      " [  198  1043   221  1770  2141     0   115   306   234    34]\n",
      " [   14    39   189   390  1118 16906     9   176    22     8]\n",
      " [ 2070    36   505  3759  7910     0 22043   170   473    34]\n",
      " [   60   265   489   590    53     0     1  1448   578    12]\n",
      " [    0     1    33    95    13     0     0    93   140     3]\n",
      " [    0     0     1     5     0     0     2     0     0    36]]\n"
     ]
    }
   ],
   "source": [
    "evaluate_Test(dnet_clf, X_test, y_test, cls_label_encoder)"
   ],
   "metadata": {
    "collapsed": false,
    "ExecuteTime": {
     "end_time": "2023-12-03T14:28:12.949169500Z",
     "start_time": "2023-12-03T14:27:31.785889600Z"
    }
   },
   "id": "89f284ecb8195702"
  },
  {
   "cell_type": "code",
   "execution_count": 54,
   "outputs": [
    {
     "data": {
      "text/plain": "<Figure size 640x480 with 1 Axes>",
      "image/png": "[encoded data removed]"
     },
     "metadata": {},
     "output_type": "display_data"
    }
   ],
   "source": [
    "visualize_loss(history_clf)"
   ],
   "metadata": {
    "collapsed": false,
    "ExecuteTime": {
     "end_time": "2023-12-03T14:28:13.139921Z",
     "start_time": "2023-12-03T14:28:12.949169500Z"
    }
   },
   "id": "d3141030426fd034"
  },
  {
   "cell_type": "code",
   "execution_count": 55,
   "outputs": [
    {
     "data": {
      "text/plain": "<Figure size 640x480 with 1 Axes>",
      "image/png": "[encoded data removed]"
     },
     "metadata": {},
     "output_type": "display_data"
    }
   ],
   "source": [
    "visualize_accuracy(history_clf)"
   ],
   "metadata": {
    "collapsed": false,
    "ExecuteTime": {
     "end_time": "2023-12-03T14:28:13.327375900Z",
     "start_time": "2023-12-03T14:28:13.139921Z"
    }
   },
   "id": "7c68eaee68cd5eef"
  },
  {
   "cell_type": "code",
   "execution_count": 56,
   "outputs": [
    {
     "name": "stdout",
     "output_type": "stream",
     "text": [
      "2573/2573 [==============================] - 27s 11ms/step\n"
     ]
    },
    {
     "data": {
      "text/plain": "<Figure size 2000x1000 with 2 Axes>",
      "image/png": "[encoded data removed]"
     },
     "metadata": {},
     "output_type": "display_data"
    }
   ],
   "source": [
    "plot_confusion_matrix(dnet_clf, X_test, y_test)"
   ],
   "metadata": {
    "collapsed": false,
    "ExecuteTime": {
     "end_time": "2023-12-03T14:28:41.965413400Z",
     "start_time": "2023-12-03T14:28:13.327375900Z"
    }
   },
   "id": "480635aa84a41630"
  },
  {
   "cell_type": "code",
   "execution_count": null,
   "outputs": [],
   "source": [
    "# Save the entire model as 'desnet_mulclf.h5' file\n",
    "dnet_clf.save('dnet_mulclf.h5')"
   ],
   "metadata": {
    "collapsed": false,
    "ExecuteTime": {
     "start_time": "2023-12-03T14:22:37.594525600Z"
    }
   },
   "id": "8104e641b78eb8bc"
  }
 ],
 "metadata": {
  "kernelspec": {
   "display_name": "Python 3",
   "language": "python",
   "name": "python3"
  },
  "language_info": {
   "codemirror_mode": {
    "name": "ipython",
    "version": 2
   },
   "file_extension": ".py",
   "mimetype": "text/x-python",
   "name": "python",
   "nbconvert_exporter": "python",
   "pygments_lexer": "ipython2",
   "version": "2.7.6"
  }
 },
 "nbformat": 4,
 "nbformat_minor": 5
}
